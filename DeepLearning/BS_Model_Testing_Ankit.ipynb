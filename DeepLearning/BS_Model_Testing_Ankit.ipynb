{
 "cells": [
  {
   "cell_type": "code",
   "execution_count": 1,
   "id": "transsexual-confusion",
   "metadata": {},
   "outputs": [],
   "source": [
    "import numpy as np\n",
    "import pandas as pd\n",
    "import matplotlib.pyplot as plt\n",
    "import seaborn as sns\n",
    "from pathlib import Path"
   ]
  },
  {
   "cell_type": "markdown",
   "id": "union-article",
   "metadata": {},
   "source": [
    "### Load the data and explore it!"
   ]
  },
  {
   "cell_type": "code",
   "execution_count": 4,
   "id": "close-flower",
   "metadata": {},
   "outputs": [],
   "source": [
    "df = pd.read_csv(str(Path(r'./Data/BS_training.csv')))"
   ]
  },
  {
   "cell_type": "code",
   "execution_count": 5,
   "id": "figured-submission",
   "metadata": {},
   "outputs": [],
   "source": [
    "df = df.drop(labels='Unnamed: 0', axis=1)"
   ]
  },
  {
   "cell_type": "code",
   "execution_count": 6,
   "id": "phantom-blend",
   "metadata": {},
   "outputs": [],
   "source": [
    "df['Stock Price'] = df['Stock Price'] / df['Strike Price']\n",
    "df['Call Price'] = df['Call Price'] / df['Strike Price']\n",
    "df['Strike Price'] = df['Strike Price'] / df['Strike Price']"
   ]
  },
  {
   "cell_type": "code",
   "execution_count": 7,
   "id": "united-dispute",
   "metadata": {},
   "outputs": [
    {
     "data": {
      "text/html": [
       "<div>\n",
       "<style scoped>\n",
       "    .dataframe tbody tr th:only-of-type {\n",
       "        vertical-align: middle;\n",
       "    }\n",
       "\n",
       "    .dataframe tbody tr th {\n",
       "        vertical-align: top;\n",
       "    }\n",
       "\n",
       "    .dataframe thead th {\n",
       "        text-align: right;\n",
       "    }\n",
       "</style>\n",
       "<table border=\"1\" class=\"dataframe\">\n",
       "  <thead>\n",
       "    <tr style=\"text-align: right;\">\n",
       "      <th></th>\n",
       "      <th>Stock Price</th>\n",
       "      <th>Strike Price</th>\n",
       "      <th>Maturity</th>\n",
       "      <th>Dividends</th>\n",
       "      <th>Volatility</th>\n",
       "      <th>Risk-free</th>\n",
       "      <th>Call Price</th>\n",
       "    </tr>\n",
       "  </thead>\n",
       "  <tbody>\n",
       "    <tr>\n",
       "      <th>0</th>\n",
       "      <td>1.062237</td>\n",
       "      <td>1.0</td>\n",
       "      <td>1.093151</td>\n",
       "      <td>0.005674</td>\n",
       "      <td>0.862692</td>\n",
       "      <td>0.058898</td>\n",
       "      <td>0.408642</td>\n",
       "    </tr>\n",
       "    <tr>\n",
       "      <th>1</th>\n",
       "      <td>1.076500</td>\n",
       "      <td>1.0</td>\n",
       "      <td>0.843836</td>\n",
       "      <td>0.020428</td>\n",
       "      <td>0.759562</td>\n",
       "      <td>0.080634</td>\n",
       "      <td>0.337843</td>\n",
       "    </tr>\n",
       "    <tr>\n",
       "      <th>2</th>\n",
       "      <td>0.849812</td>\n",
       "      <td>1.0</td>\n",
       "      <td>1.326027</td>\n",
       "      <td>0.019181</td>\n",
       "      <td>0.606436</td>\n",
       "      <td>0.042031</td>\n",
       "      <td>0.187719</td>\n",
       "    </tr>\n",
       "    <tr>\n",
       "      <th>3</th>\n",
       "      <td>0.904815</td>\n",
       "      <td>1.0</td>\n",
       "      <td>0.791781</td>\n",
       "      <td>0.028475</td>\n",
       "      <td>0.572696</td>\n",
       "      <td>0.036566</td>\n",
       "      <td>0.146312</td>\n",
       "    </tr>\n",
       "    <tr>\n",
       "      <th>4</th>\n",
       "      <td>0.859547</td>\n",
       "      <td>1.0</td>\n",
       "      <td>0.501370</td>\n",
       "      <td>0.009074</td>\n",
       "      <td>0.090578</td>\n",
       "      <td>0.044426</td>\n",
       "      <td>0.000397</td>\n",
       "    </tr>\n",
       "  </tbody>\n",
       "</table>\n",
       "</div>"
      ],
      "text/plain": [
       "   Stock Price  Strike Price  Maturity  Dividends  Volatility  Risk-free  \\\n",
       "0     1.062237           1.0  1.093151   0.005674    0.862692   0.058898   \n",
       "1     1.076500           1.0  0.843836   0.020428    0.759562   0.080634   \n",
       "2     0.849812           1.0  1.326027   0.019181    0.606436   0.042031   \n",
       "3     0.904815           1.0  0.791781   0.028475    0.572696   0.036566   \n",
       "4     0.859547           1.0  0.501370   0.009074    0.090578   0.044426   \n",
       "\n",
       "   Call Price  \n",
       "0    0.408642  \n",
       "1    0.337843  \n",
       "2    0.187719  \n",
       "3    0.146312  \n",
       "4    0.000397  "
      ]
     },
     "execution_count": 7,
     "metadata": {},
     "output_type": "execute_result"
    }
   ],
   "source": [
    "df.head()"
   ]
  },
  {
   "cell_type": "code",
   "execution_count": 8,
   "id": "chicken-halifax",
   "metadata": {},
   "outputs": [
    {
     "name": "stdout",
     "output_type": "stream",
     "text": [
      "<class 'pandas.core.frame.DataFrame'>\n",
      "RangeIndex: 300000 entries, 0 to 299999\n",
      "Data columns (total 7 columns):\n",
      " #   Column        Non-Null Count   Dtype  \n",
      "---  ------        --------------   -----  \n",
      " 0   Stock Price   300000 non-null  float64\n",
      " 1   Strike Price  300000 non-null  float64\n",
      " 2   Maturity      300000 non-null  float64\n",
      " 3   Dividends     300000 non-null  float64\n",
      " 4   Volatility    300000 non-null  float64\n",
      " 5   Risk-free     300000 non-null  float64\n",
      " 6   Call Price    300000 non-null  float64\n",
      "dtypes: float64(7)\n",
      "memory usage: 16.0 MB\n"
     ]
    }
   ],
   "source": [
    "df.info()"
   ]
  },
  {
   "cell_type": "code",
   "execution_count": 9,
   "id": "better-conversion",
   "metadata": {},
   "outputs": [
    {
     "data": {
      "text/html": [
       "<div>\n",
       "<style scoped>\n",
       "    .dataframe tbody tr th:only-of-type {\n",
       "        vertical-align: middle;\n",
       "    }\n",
       "\n",
       "    .dataframe tbody tr th {\n",
       "        vertical-align: top;\n",
       "    }\n",
       "\n",
       "    .dataframe thead th {\n",
       "        text-align: right;\n",
       "    }\n",
       "</style>\n",
       "<table border=\"1\" class=\"dataframe\">\n",
       "  <thead>\n",
       "    <tr style=\"text-align: right;\">\n",
       "      <th></th>\n",
       "      <th>count</th>\n",
       "      <th>mean</th>\n",
       "      <th>std</th>\n",
       "      <th>min</th>\n",
       "      <th>25%</th>\n",
       "      <th>50%</th>\n",
       "      <th>75%</th>\n",
       "      <th>max</th>\n",
       "    </tr>\n",
       "  </thead>\n",
       "  <tbody>\n",
       "    <tr>\n",
       "      <th>Stock Price</th>\n",
       "      <td>300000.0</td>\n",
       "      <td>1.031697</td>\n",
       "      <td>0.185779</td>\n",
       "      <td>7.692309e-01</td>\n",
       "      <td>0.868780</td>\n",
       "      <td>0.999826</td>\n",
       "      <td>1.176731</td>\n",
       "      <td>1.428564</td>\n",
       "    </tr>\n",
       "    <tr>\n",
       "      <th>Strike Price</th>\n",
       "      <td>300000.0</td>\n",
       "      <td>1.000000</td>\n",
       "      <td>0.000000</td>\n",
       "      <td>1.000000e+00</td>\n",
       "      <td>1.000000</td>\n",
       "      <td>1.000000</td>\n",
       "      <td>1.000000</td>\n",
       "      <td>1.000000</td>\n",
       "    </tr>\n",
       "    <tr>\n",
       "      <th>Maturity</th>\n",
       "      <td>300000.0</td>\n",
       "      <td>1.498297</td>\n",
       "      <td>0.865052</td>\n",
       "      <td>2.739726e-03</td>\n",
       "      <td>0.747945</td>\n",
       "      <td>1.495890</td>\n",
       "      <td>2.246575</td>\n",
       "      <td>2.997260</td>\n",
       "    </tr>\n",
       "    <tr>\n",
       "      <th>Dividends</th>\n",
       "      <td>300000.0</td>\n",
       "      <td>0.014981</td>\n",
       "      <td>0.008652</td>\n",
       "      <td>6.189318e-08</td>\n",
       "      <td>0.007513</td>\n",
       "      <td>0.014967</td>\n",
       "      <td>0.022485</td>\n",
       "      <td>0.030000</td>\n",
       "    </tr>\n",
       "    <tr>\n",
       "      <th>Volatility</th>\n",
       "      <td>300000.0</td>\n",
       "      <td>0.475337</td>\n",
       "      <td>0.245782</td>\n",
       "      <td>5.000154e-02</td>\n",
       "      <td>0.262196</td>\n",
       "      <td>0.475770</td>\n",
       "      <td>0.688666</td>\n",
       "      <td>0.899994</td>\n",
       "    </tr>\n",
       "    <tr>\n",
       "      <th>Risk-free</th>\n",
       "      <td>300000.0</td>\n",
       "      <td>0.054975</td>\n",
       "      <td>0.025971</td>\n",
       "      <td>1.000020e-02</td>\n",
       "      <td>0.032487</td>\n",
       "      <td>0.055035</td>\n",
       "      <td>0.077461</td>\n",
       "      <td>0.099999</td>\n",
       "    </tr>\n",
       "    <tr>\n",
       "      <th>Call Price</th>\n",
       "      <td>300000.0</td>\n",
       "      <td>0.267430</td>\n",
       "      <td>0.178274</td>\n",
       "      <td>0.000000e+00</td>\n",
       "      <td>0.122820</td>\n",
       "      <td>0.250488</td>\n",
       "      <td>0.388795</td>\n",
       "      <td>0.933013</td>\n",
       "    </tr>\n",
       "  </tbody>\n",
       "</table>\n",
       "</div>"
      ],
      "text/plain": [
       "                 count      mean       std           min       25%       50%  \\\n",
       "Stock Price   300000.0  1.031697  0.185779  7.692309e-01  0.868780  0.999826   \n",
       "Strike Price  300000.0  1.000000  0.000000  1.000000e+00  1.000000  1.000000   \n",
       "Maturity      300000.0  1.498297  0.865052  2.739726e-03  0.747945  1.495890   \n",
       "Dividends     300000.0  0.014981  0.008652  6.189318e-08  0.007513  0.014967   \n",
       "Volatility    300000.0  0.475337  0.245782  5.000154e-02  0.262196  0.475770   \n",
       "Risk-free     300000.0  0.054975  0.025971  1.000020e-02  0.032487  0.055035   \n",
       "Call Price    300000.0  0.267430  0.178274  0.000000e+00  0.122820  0.250488   \n",
       "\n",
       "                   75%       max  \n",
       "Stock Price   1.176731  1.428564  \n",
       "Strike Price  1.000000  1.000000  \n",
       "Maturity      2.246575  2.997260  \n",
       "Dividends     0.022485  0.030000  \n",
       "Volatility    0.688666  0.899994  \n",
       "Risk-free     0.077461  0.099999  \n",
       "Call Price    0.388795  0.933013  "
      ]
     },
     "execution_count": 9,
     "metadata": {},
     "output_type": "execute_result"
    }
   ],
   "source": [
    "df.describe().transpose()"
   ]
  },
  {
   "cell_type": "markdown",
   "id": "harmful-sessions",
   "metadata": {},
   "source": [
    "We dont do any kind of EDA here, since the data is simulated and regular. Nothing to explore here!"
   ]
  },
  {
   "cell_type": "markdown",
   "id": "elder-syndication",
   "metadata": {},
   "source": [
    "### Split the data into test-train"
   ]
  },
  {
   "cell_type": "code",
   "execution_count": 10,
   "id": "right-light",
   "metadata": {},
   "outputs": [],
   "source": [
    "from sklearn.model_selection import train_test_split"
   ]
  },
  {
   "cell_type": "code",
   "execution_count": 11,
   "id": "tamil-clone",
   "metadata": {},
   "outputs": [],
   "source": [
    "X = df.drop('Call Price', axis=1).values\n",
    "y = df['Call Price'].values"
   ]
  },
  {
   "cell_type": "code",
   "execution_count": 12,
   "id": "dirty-respondent",
   "metadata": {},
   "outputs": [
    {
     "data": {
      "text/plain": [
       "((300000, 6), (300000,))"
      ]
     },
     "execution_count": 12,
     "metadata": {},
     "output_type": "execute_result"
    }
   ],
   "source": [
    "X.shape, y.shape"
   ]
  },
  {
   "cell_type": "code",
   "execution_count": 13,
   "id": "mighty-diagram",
   "metadata": {},
   "outputs": [],
   "source": [
    "X_train, X_test, y_train, y_test = train_test_split(X, y, test_size=0.2, random_state=42)"
   ]
  },
  {
   "cell_type": "code",
   "execution_count": 58,
   "id": "relative-cover",
   "metadata": {},
   "outputs": [],
   "source": [
    "from tensorflow.keras.models import Sequential\n",
    "from tensorflow.keras.layers import Dense"
   ]
  },
  {
   "cell_type": "code",
   "execution_count": 59,
   "id": "tender-melbourne",
   "metadata": {},
   "outputs": [],
   "source": [
    "model = Sequential()\n",
    "\n",
    "model.add(Dense(100, activation='relu', input_shape=(6,)))\n",
    "model.add(Dense(100, activation='relu'))\n",
    "model.add(Dense(100, activation='relu'))\n",
    "model.add(Dense(100, activation='relu'))\n",
    "\n",
    "model.add(Dense(1, activation='relu'))\n",
    "\n",
    "model.compile(optimizer='adam', loss='mse')"
   ]
  },
  {
   "cell_type": "code",
   "execution_count": 60,
   "id": "elect-health",
   "metadata": {},
   "outputs": [
    {
     "name": "stdout",
     "output_type": "stream",
     "text": [
      "Model: \"sequential_1\"\n",
      "_________________________________________________________________\n",
      "Layer (type)                 Output Shape              Param #   \n",
      "=================================================================\n",
      "dense_5 (Dense)              (None, 100)               700       \n",
      "_________________________________________________________________\n",
      "dense_6 (Dense)              (None, 100)               10100     \n",
      "_________________________________________________________________\n",
      "dense_7 (Dense)              (None, 100)               10100     \n",
      "_________________________________________________________________\n",
      "dense_8 (Dense)              (None, 100)               10100     \n",
      "_________________________________________________________________\n",
      "dense_9 (Dense)              (None, 1)                 101       \n",
      "=================================================================\n",
      "Total params: 31,101\n",
      "Trainable params: 31,101\n",
      "Non-trainable params: 0\n",
      "_________________________________________________________________\n"
     ]
    }
   ],
   "source": [
    "model.summary()"
   ]
  },
  {
   "cell_type": "code",
   "execution_count": 61,
   "id": "vocational-container",
   "metadata": {},
   "outputs": [],
   "source": [
    "from tensorflow.keras.callbacks import EarlyStopping\n",
    "early_stop = EarlyStopping(monitor='val_loss', mode='min', patience=6)"
   ]
  },
  {
   "cell_type": "code",
   "execution_count": 62,
   "id": "former-agenda",
   "metadata": {},
   "outputs": [
    {
     "name": "stdout",
     "output_type": "stream",
     "text": [
      "Train on 240000 samples, validate on 60000 samples\n",
      "Epoch 1/100\n",
      "240000/240000 [==============================] - 5s 22us/sample - loss: 2.5190e-04 - val_loss: 7.3496e-06\n",
      "Epoch 2/100\n",
      "240000/240000 [==============================] - 5s 20us/sample - loss: 2.4286e-05 - val_loss: 7.5738e-06\n",
      "Epoch 3/100\n",
      "240000/240000 [==============================] - 5s 20us/sample - loss: 2.0232e-05 - val_loss: 6.7358e-06\n",
      "Epoch 4/100\n",
      "240000/240000 [==============================] - 5s 20us/sample - loss: 1.2435e-05 - val_loss: 4.1220e-06\n",
      "Epoch 5/100\n",
      "240000/240000 [==============================] - 5s 20us/sample - loss: 1.0363e-05 - val_loss: 1.0924e-05\n",
      "Epoch 6/100\n",
      "240000/240000 [==============================] - 5s 20us/sample - loss: 9.0386e-06 - val_loss: 8.8990e-06\n",
      "Epoch 7/100\n",
      "240000/240000 [==============================] - 5s 20us/sample - loss: 8.5965e-06 - val_loss: 4.5985e-06\n",
      "Epoch 8/100\n",
      "240000/240000 [==============================] - 5s 20us/sample - loss: 7.2319e-06 - val_loss: 6.6110e-06\n",
      "Epoch 9/100\n",
      "240000/240000 [==============================] - 5s 20us/sample - loss: 6.7057e-06 - val_loss: 2.1679e-06\n",
      "Epoch 10/100\n",
      "240000/240000 [==============================] - 5s 20us/sample - loss: 5.6037e-06 - val_loss: 4.1108e-06\n",
      "Epoch 11/100\n",
      "240000/240000 [==============================] - 5s 20us/sample - loss: 5.7242e-06 - val_loss: 1.4888e-06\n",
      "Epoch 12/100\n",
      "240000/240000 [==============================] - 5s 20us/sample - loss: 4.8504e-06 - val_loss: 2.0607e-06\n",
      "Epoch 13/100\n",
      "240000/240000 [==============================] - 5s 20us/sample - loss: 5.1181e-06 - val_loss: 1.6555e-06\n",
      "Epoch 14/100\n",
      "240000/240000 [==============================] - 5s 20us/sample - loss: 4.8084e-06 - val_loss: 1.6035e-05\n",
      "Epoch 15/100\n",
      "240000/240000 [==============================] - 5s 20us/sample - loss: 4.0402e-06 - val_loss: 1.4346e-06\n",
      "Epoch 16/100\n",
      "240000/240000 [==============================] - 5s 21us/sample - loss: 4.1801e-06 - val_loss: 2.0909e-06\n",
      "Epoch 17/100\n",
      "240000/240000 [==============================] - 5s 20us/sample - loss: 3.7725e-06 - val_loss: 9.3867e-06\n",
      "Epoch 18/100\n",
      "240000/240000 [==============================] - 5s 20us/sample - loss: 3.8918e-06 - val_loss: 1.0310e-05\n",
      "Epoch 19/100\n",
      "240000/240000 [==============================] - 5s 20us/sample - loss: 3.6791e-06 - val_loss: 4.2034e-06\n",
      "Epoch 20/100\n",
      "240000/240000 [==============================] - 5s 20us/sample - loss: 3.8339e-06 - val_loss: 8.7287e-07\n",
      "Epoch 21/100\n",
      "240000/240000 [==============================] - 5s 21us/sample - loss: 3.2168e-06 - val_loss: 1.1416e-06\n",
      "Epoch 22/100\n",
      "240000/240000 [==============================] - 5s 20us/sample - loss: 3.0205e-06 - val_loss: 1.6036e-06\n",
      "Epoch 23/100\n",
      "240000/240000 [==============================] - 5s 21us/sample - loss: 3.2324e-06 - val_loss: 3.6106e-06\n",
      "Epoch 24/100\n",
      "240000/240000 [==============================] - 5s 20us/sample - loss: 2.8728e-06 - val_loss: 2.8051e-06\n",
      "Epoch 25/100\n",
      "240000/240000 [==============================] - 5s 20us/sample - loss: 2.7992e-06 - val_loss: 7.1909e-07\n",
      "Epoch 26/100\n",
      "240000/240000 [==============================] - 5s 20us/sample - loss: 3.0564e-06 - val_loss: 1.9293e-06\n",
      "Epoch 27/100\n",
      "240000/240000 [==============================] - 5s 20us/sample - loss: 2.9825e-06 - val_loss: 3.9776e-06\n",
      "Epoch 28/100\n",
      "240000/240000 [==============================] - 5s 20us/sample - loss: 2.7167e-06 - val_loss: 1.5997e-06\n",
      "Epoch 29/100\n",
      "240000/240000 [==============================] - 5s 20us/sample - loss: 2.6179e-06 - val_loss: 8.3652e-06\n",
      "Epoch 30/100\n",
      "240000/240000 [==============================] - 5s 20us/sample - loss: 2.6998e-06 - val_loss: 5.9500e-07\n",
      "Epoch 31/100\n",
      "240000/240000 [==============================] - 5s 20us/sample - loss: 2.5229e-06 - val_loss: 8.4658e-07\n",
      "Epoch 32/100\n",
      "240000/240000 [==============================] - 5s 20us/sample - loss: 2.6872e-06 - val_loss: 4.6971e-07\n",
      "Epoch 33/100\n",
      "240000/240000 [==============================] - 5s 20us/sample - loss: 2.3765e-06 - val_loss: 1.0038e-06\n",
      "Epoch 34/100\n",
      "240000/240000 [==============================] - 5s 20us/sample - loss: 2.3919e-06 - val_loss: 2.4445e-06\n",
      "Epoch 35/100\n",
      "240000/240000 [==============================] - 5s 20us/sample - loss: 2.4686e-06 - val_loss: 6.4508e-07\n",
      "Epoch 36/100\n",
      "240000/240000 [==============================] - 5s 20us/sample - loss: 2.5321e-06 - val_loss: 4.8859e-07\n",
      "Epoch 37/100\n",
      "240000/240000 [==============================] - 5s 20us/sample - loss: 2.2938e-06 - val_loss: 2.0253e-06\n",
      "Epoch 38/100\n",
      "240000/240000 [==============================] - 5s 20us/sample - loss: 2.1686e-06 - val_loss: 2.9768e-06\n"
     ]
    },
    {
     "data": {
      "text/plain": [
       "<tensorflow.python.keras.callbacks.History at 0x13323dfe788>"
      ]
     },
     "execution_count": 62,
     "metadata": {},
     "output_type": "execute_result"
    }
   ],
   "source": [
    "model.fit(x=X_train, y=y_train, batch_size=64, epochs=100, \n",
    "          callbacks=[early_stop], validation_data=(X_test, y_test))"
   ]
  },
  {
   "cell_type": "markdown",
   "id": "funny-grass",
   "metadata": {},
   "source": [
    "### Evaluating the model"
   ]
  },
  {
   "cell_type": "code",
   "execution_count": 63,
   "id": "greek-aside",
   "metadata": {},
   "outputs": [],
   "source": [
    "y_pred_train = model.predict(x=X_train)"
   ]
  },
  {
   "cell_type": "code",
   "execution_count": 64,
   "id": "gothic-lyric",
   "metadata": {},
   "outputs": [],
   "source": [
    "y_train_results = pd.concat([pd.Series(y_pred_train.reshape(y_train.shape), name='y_pred'), \n",
    "                             pd.Series(y_train, name='y_true')], \n",
    "                            axis=1)"
   ]
  },
  {
   "cell_type": "code",
   "execution_count": 65,
   "id": "immediate-appearance",
   "metadata": {},
   "outputs": [
    {
     "data": {
      "text/html": [
       "<div>\n",
       "<style scoped>\n",
       "    .dataframe tbody tr th:only-of-type {\n",
       "        vertical-align: middle;\n",
       "    }\n",
       "\n",
       "    .dataframe tbody tr th {\n",
       "        vertical-align: top;\n",
       "    }\n",
       "\n",
       "    .dataframe thead th {\n",
       "        text-align: right;\n",
       "    }\n",
       "</style>\n",
       "<table border=\"1\" class=\"dataframe\">\n",
       "  <thead>\n",
       "    <tr style=\"text-align: right;\">\n",
       "      <th></th>\n",
       "      <th>y_pred</th>\n",
       "      <th>y_true</th>\n",
       "    </tr>\n",
       "  </thead>\n",
       "  <tbody>\n",
       "    <tr>\n",
       "      <th>0</th>\n",
       "      <td>0.113023</td>\n",
       "      <td>0.112572</td>\n",
       "    </tr>\n",
       "    <tr>\n",
       "      <th>1</th>\n",
       "      <td>0.375899</td>\n",
       "      <td>0.375284</td>\n",
       "    </tr>\n",
       "    <tr>\n",
       "      <th>2</th>\n",
       "      <td>0.364018</td>\n",
       "      <td>0.363009</td>\n",
       "    </tr>\n",
       "    <tr>\n",
       "      <th>3</th>\n",
       "      <td>0.242740</td>\n",
       "      <td>0.240939</td>\n",
       "    </tr>\n",
       "    <tr>\n",
       "      <th>4</th>\n",
       "      <td>0.280423</td>\n",
       "      <td>0.278493</td>\n",
       "    </tr>\n",
       "  </tbody>\n",
       "</table>\n",
       "</div>"
      ],
      "text/plain": [
       "     y_pred    y_true\n",
       "0  0.113023  0.112572\n",
       "1  0.375899  0.375284\n",
       "2  0.364018  0.363009\n",
       "3  0.242740  0.240939\n",
       "4  0.280423  0.278493"
      ]
     },
     "execution_count": 65,
     "metadata": {},
     "output_type": "execute_result"
    }
   ],
   "source": [
    "y_train_results.head()"
   ]
  },
  {
   "cell_type": "code",
   "execution_count": 66,
   "id": "following-priest",
   "metadata": {},
   "outputs": [],
   "source": [
    "from sklearn.metrics import mean_absolute_error, mean_squared_error, explained_variance_score"
   ]
  },
  {
   "cell_type": "code",
   "execution_count": 67,
   "id": "dedicated-cache",
   "metadata": {},
   "outputs": [],
   "source": [
    "y_predicted = model.predict(X_test).reshape(y_test.shape)"
   ]
  },
  {
   "cell_type": "code",
   "execution_count": 68,
   "id": "numeric-bedroom",
   "metadata": {},
   "outputs": [
    {
     "data": {
      "text/plain": [
       "0.001374450156987546"
      ]
     },
     "execution_count": 68,
     "metadata": {},
     "output_type": "execute_result"
    }
   ],
   "source": [
    "mean_absolute_error(y_true=y_test, y_pred=y_predicted)"
   ]
  },
  {
   "cell_type": "code",
   "execution_count": 69,
   "id": "behavioral-clearing",
   "metadata": {},
   "outputs": [
    {
     "data": {
      "text/plain": [
       "2.976840386818153e-06"
      ]
     },
     "execution_count": 69,
     "metadata": {},
     "output_type": "execute_result"
    }
   ],
   "source": [
    "mean_squared_error(y_true=y_test, y_pred=y_predicted)"
   ]
  },
  {
   "cell_type": "code",
   "execution_count": 70,
   "id": "academic-peripheral",
   "metadata": {},
   "outputs": [],
   "source": [
    "y_df = pd.concat([pd.Series(y_test, name='y_true'), pd.Series(y_predicted, name='y_pred')], axis=1)"
   ]
  },
  {
   "cell_type": "code",
   "execution_count": 71,
   "id": "ultimate-grenada",
   "metadata": {},
   "outputs": [
    {
     "data": {
      "text/html": [
       "<div>\n",
       "<style scoped>\n",
       "    .dataframe tbody tr th:only-of-type {\n",
       "        vertical-align: middle;\n",
       "    }\n",
       "\n",
       "    .dataframe tbody tr th {\n",
       "        vertical-align: top;\n",
       "    }\n",
       "\n",
       "    .dataframe thead th {\n",
       "        text-align: right;\n",
       "    }\n",
       "</style>\n",
       "<table border=\"1\" class=\"dataframe\">\n",
       "  <thead>\n",
       "    <tr style=\"text-align: right;\">\n",
       "      <th></th>\n",
       "      <th>y_true</th>\n",
       "      <th>y_pred</th>\n",
       "    </tr>\n",
       "  </thead>\n",
       "  <tbody>\n",
       "    <tr>\n",
       "      <th>0</th>\n",
       "      <td>0.265433</td>\n",
       "      <td>0.266433</td>\n",
       "    </tr>\n",
       "    <tr>\n",
       "      <th>1</th>\n",
       "      <td>0.320916</td>\n",
       "      <td>0.323044</td>\n",
       "    </tr>\n",
       "    <tr>\n",
       "      <th>2</th>\n",
       "      <td>0.003949</td>\n",
       "      <td>0.003195</td>\n",
       "    </tr>\n",
       "    <tr>\n",
       "      <th>3</th>\n",
       "      <td>0.263540</td>\n",
       "      <td>0.264543</td>\n",
       "    </tr>\n",
       "    <tr>\n",
       "      <th>4</th>\n",
       "      <td>0.365956</td>\n",
       "      <td>0.366560</td>\n",
       "    </tr>\n",
       "    <tr>\n",
       "      <th>...</th>\n",
       "      <td>...</td>\n",
       "      <td>...</td>\n",
       "    </tr>\n",
       "    <tr>\n",
       "      <th>59995</th>\n",
       "      <td>0.326805</td>\n",
       "      <td>0.328493</td>\n",
       "    </tr>\n",
       "    <tr>\n",
       "      <th>59996</th>\n",
       "      <td>0.204984</td>\n",
       "      <td>0.205893</td>\n",
       "    </tr>\n",
       "    <tr>\n",
       "      <th>59997</th>\n",
       "      <td>0.662804</td>\n",
       "      <td>0.665731</td>\n",
       "    </tr>\n",
       "    <tr>\n",
       "      <th>59998</th>\n",
       "      <td>0.517743</td>\n",
       "      <td>0.521125</td>\n",
       "    </tr>\n",
       "    <tr>\n",
       "      <th>59999</th>\n",
       "      <td>0.446243</td>\n",
       "      <td>0.446873</td>\n",
       "    </tr>\n",
       "  </tbody>\n",
       "</table>\n",
       "<p>60000 rows × 2 columns</p>\n",
       "</div>"
      ],
      "text/plain": [
       "         y_true    y_pred\n",
       "0      0.265433  0.266433\n",
       "1      0.320916  0.323044\n",
       "2      0.003949  0.003195\n",
       "3      0.263540  0.264543\n",
       "4      0.365956  0.366560\n",
       "...         ...       ...\n",
       "59995  0.326805  0.328493\n",
       "59996  0.204984  0.205893\n",
       "59997  0.662804  0.665731\n",
       "59998  0.517743  0.521125\n",
       "59999  0.446243  0.446873\n",
       "\n",
       "[60000 rows x 2 columns]"
      ]
     },
     "execution_count": 71,
     "metadata": {},
     "output_type": "execute_result"
    }
   ],
   "source": [
    "y_df"
   ]
  },
  {
   "cell_type": "code",
   "execution_count": 100,
   "id": "virgin-wound",
   "metadata": {},
   "outputs": [
    {
     "data": {
      "image/png": "[encoded data removed]",
      "text/plain": [
       "<Figure size 864x576 with 1 Axes>"
      ]
     },
     "metadata": {
      "needs_background": "light"
     },
     "output_type": "display_data"
    }
   ],
   "source": [
    "plt.figure(figsize=(12,8))\n",
    "a = sns.scatterplot(y_test, y_predicted, legend='full')\n",
    "a.set_xlabel('True Values', fontsize=25)\n",
    "_ = a.set_ylabel('Predicted Values', fontsize=25)"
   ]
  },
  {
   "cell_type": "code",
   "execution_count": 105,
   "id": "violent-plain",
   "metadata": {},
   "outputs": [
    {
     "data": {
      "text/plain": [
       "Text(0.5, 0, 'Error(True-Predicted)')"
      ]
     },
     "execution_count": 105,
     "metadata": {},
     "output_type": "execute_result"
    },
    {
     "data": {
      "image/png": "[encoded data removed]",
      "text/plain": [
       "<Figure size 864x576 with 1 Axes>"
      ]
     },
     "metadata": {
      "needs_background": "light"
     },
     "output_type": "display_data"
    }
   ],
   "source": [
    "plt.figure(figsize=(12,8))\n",
    "b = sns.distplot(pd.Series(y_test-y_predicted, name=\"Error(True-Predicted)\"))\n",
    "b.set_xlabel('Error(True-Predicted)', fontsize=25)\n",
    "# _ = b.set_ylabel('# of Instances', fontsize=25)\n"
   ]
  },
  {
   "cell_type": "markdown",
   "id": "premium-processing",
   "metadata": {},
   "source": [
    "### Save the model"
   ]
  },
  {
   "cell_type": "code",
   "execution_count": 80,
   "id": "willing-nomination",
   "metadata": {},
   "outputs": [],
   "source": [
    "model.save(r'C:\\Ankit\\PythonProjects\\hackathon\\DeepLearning\\300ksamples.h5', save_format='tf')"
   ]
  },
  {
   "cell_type": "code",
   "execution_count": 81,
   "id": "english-rebel",
   "metadata": {},
   "outputs": [],
   "source": [
    "from tensorflow.keras.models import load_model"
   ]
  },
  {
   "cell_type": "code",
   "execution_count": 82,
   "id": "hybrid-triple",
   "metadata": {},
   "outputs": [],
   "source": [
    "later_model = load_model(r'C:\\Ankit\\PythonProjects\\hackathon\\DeepLearning\\300ksamples.h5', compile=False)"
   ]
  },
  {
   "cell_type": "code",
   "execution_count": 77,
   "id": "pressing-liechtenstein",
   "metadata": {},
   "outputs": [
    {
     "data": {
      "text/plain": [
       "array([0.26643288, 0.32304403, 0.00319494, ..., 0.66573143, 0.5211252 ,\n",
       "       0.44687313], dtype=float32)"
      ]
     },
     "execution_count": 77,
     "metadata": {},
     "output_type": "execute_result"
    }
   ],
   "source": [
    "later_model.predict(X_test).reshape(y_test.shape)"
   ]
  },
  {
   "cell_type": "code",
   "execution_count": 78,
   "id": "fitted-western",
   "metadata": {},
   "outputs": [
    {
     "data": {
      "text/plain": [
       "array([0.26643288, 0.32304403, 0.00319494, ..., 0.66573143, 0.5211252 ,\n",
       "       0.44687313], dtype=float32)"
      ]
     },
     "execution_count": 78,
     "metadata": {},
     "output_type": "execute_result"
    }
   ],
   "source": [
    "y_predicted"
   ]
  },
  {
   "cell_type": "code",
   "execution_count": 35,
   "id": "colonial-hollow",
   "metadata": {},
   "outputs": [
    {
     "data": {
      "text/plain": [
       "(60000, 6)"
      ]
     },
     "execution_count": 35,
     "metadata": {},
     "output_type": "execute_result"
    }
   ],
   "source": [
    "X_test.shape"
   ]
  },
  {
   "cell_type": "code",
   "execution_count": 36,
   "id": "constitutional-study",
   "metadata": {},
   "outputs": [
    {
     "data": {
      "text/plain": [
       "(6,)"
      ]
     },
     "execution_count": 36,
     "metadata": {},
     "output_type": "execute_result"
    }
   ],
   "source": [
    "X_test[0].shape"
   ]
  },
  {
   "cell_type": "code",
   "execution_count": 37,
   "id": "fifteen-hotel",
   "metadata": {},
   "outputs": [
    {
     "data": {
      "text/plain": [
       "array([[0.7821705 , 1.        , 2.52328767, 0.00792332, 0.67824267,\n",
       "        0.01849439]])"
      ]
     },
     "execution_count": 37,
     "metadata": {},
     "output_type": "execute_result"
    }
   ],
   "source": [
    "X_test[0:1]"
   ]
  },
  {
   "cell_type": "code",
   "execution_count": 38,
   "id": "graduate-property",
   "metadata": {},
   "outputs": [
    {
     "data": {
      "text/html": [
       "<div>\n",
       "<style scoped>\n",
       "    .dataframe tbody tr th:only-of-type {\n",
       "        vertical-align: middle;\n",
       "    }\n",
       "\n",
       "    .dataframe tbody tr th {\n",
       "        vertical-align: top;\n",
       "    }\n",
       "\n",
       "    .dataframe thead th {\n",
       "        text-align: right;\n",
       "    }\n",
       "</style>\n",
       "<table border=\"1\" class=\"dataframe\">\n",
       "  <thead>\n",
       "    <tr style=\"text-align: right;\">\n",
       "      <th></th>\n",
       "      <th>Stock Price</th>\n",
       "      <th>Strike Price</th>\n",
       "      <th>Maturity</th>\n",
       "      <th>Dividends</th>\n",
       "      <th>Volatility</th>\n",
       "      <th>Risk-free</th>\n",
       "      <th>Call Price</th>\n",
       "    </tr>\n",
       "  </thead>\n",
       "  <tbody>\n",
       "    <tr>\n",
       "      <th>0</th>\n",
       "      <td>1.062237</td>\n",
       "      <td>1.0</td>\n",
       "      <td>1.093151</td>\n",
       "      <td>0.005674</td>\n",
       "      <td>0.862692</td>\n",
       "      <td>0.058898</td>\n",
       "      <td>0.408642</td>\n",
       "    </tr>\n",
       "    <tr>\n",
       "      <th>1</th>\n",
       "      <td>1.076500</td>\n",
       "      <td>1.0</td>\n",
       "      <td>0.843836</td>\n",
       "      <td>0.020428</td>\n",
       "      <td>0.759562</td>\n",
       "      <td>0.080634</td>\n",
       "      <td>0.337843</td>\n",
       "    </tr>\n",
       "    <tr>\n",
       "      <th>2</th>\n",
       "      <td>0.849812</td>\n",
       "      <td>1.0</td>\n",
       "      <td>1.326027</td>\n",
       "      <td>0.019181</td>\n",
       "      <td>0.606436</td>\n",
       "      <td>0.042031</td>\n",
       "      <td>0.187719</td>\n",
       "    </tr>\n",
       "    <tr>\n",
       "      <th>3</th>\n",
       "      <td>0.904815</td>\n",
       "      <td>1.0</td>\n",
       "      <td>0.791781</td>\n",
       "      <td>0.028475</td>\n",
       "      <td>0.572696</td>\n",
       "      <td>0.036566</td>\n",
       "      <td>0.146312</td>\n",
       "    </tr>\n",
       "    <tr>\n",
       "      <th>4</th>\n",
       "      <td>0.859547</td>\n",
       "      <td>1.0</td>\n",
       "      <td>0.501370</td>\n",
       "      <td>0.009074</td>\n",
       "      <td>0.090578</td>\n",
       "      <td>0.044426</td>\n",
       "      <td>0.000397</td>\n",
       "    </tr>\n",
       "  </tbody>\n",
       "</table>\n",
       "</div>"
      ],
      "text/plain": [
       "   Stock Price  Strike Price  Maturity  Dividends  Volatility  Risk-free  \\\n",
       "0     1.062237           1.0  1.093151   0.005674    0.862692   0.058898   \n",
       "1     1.076500           1.0  0.843836   0.020428    0.759562   0.080634   \n",
       "2     0.849812           1.0  1.326027   0.019181    0.606436   0.042031   \n",
       "3     0.904815           1.0  0.791781   0.028475    0.572696   0.036566   \n",
       "4     0.859547           1.0  0.501370   0.009074    0.090578   0.044426   \n",
       "\n",
       "   Call Price  \n",
       "0    0.408642  \n",
       "1    0.337843  \n",
       "2    0.187719  \n",
       "3    0.146312  \n",
       "4    0.000397  "
      ]
     },
     "execution_count": 38,
     "metadata": {},
     "output_type": "execute_result"
    }
   ],
   "source": [
    "df.head()"
   ]
  },
  {
   "cell_type": "code",
   "execution_count": 39,
   "id": "prompt-audience",
   "metadata": {},
   "outputs": [
    {
     "data": {
      "text/plain": [
       "array([[0.40613532]], dtype=float32)"
      ]
     },
     "execution_count": 39,
     "metadata": {},
     "output_type": "execute_result"
    }
   ],
   "source": [
    "later_model.predict(np.array([1.062237, 1.0, 1.093151, 0.005674, 0.862692, 0.058898]).reshape((1,6)))"
   ]
  },
  {
   "cell_type": "code",
   "execution_count": 46,
   "id": "significant-spirit",
   "metadata": {},
   "outputs": [
    {
     "data": {
      "text/plain": [
       "array([[0.0799723]], dtype=float32)"
      ]
     },
     "execution_count": 46,
     "metadata": {},
     "output_type": "execute_result"
    }
   ],
   "source": [
    "later_model.predict(np.array([1.0, 1.0, 1, 0.0, 0.2, 0.0]).reshape((1,6)))"
   ]
  },
  {
   "cell_type": "code",
   "execution_count": 50,
   "id": "assured-spouse",
   "metadata": {},
   "outputs": [
    {
     "data": {
      "text/html": [
       "<div>\n",
       "<style scoped>\n",
       "    .dataframe tbody tr th:only-of-type {\n",
       "        vertical-align: middle;\n",
       "    }\n",
       "\n",
       "    .dataframe tbody tr th {\n",
       "        vertical-align: top;\n",
       "    }\n",
       "\n",
       "    .dataframe thead th {\n",
       "        text-align: right;\n",
       "    }\n",
       "</style>\n",
       "<table border=\"1\" class=\"dataframe\">\n",
       "  <thead>\n",
       "    <tr style=\"text-align: right;\">\n",
       "      <th></th>\n",
       "      <th>Stock Price</th>\n",
       "      <th>Strike Price</th>\n",
       "      <th>Maturity</th>\n",
       "      <th>Dividends</th>\n",
       "      <th>Volatility</th>\n",
       "      <th>Risk-free</th>\n",
       "      <th>Call Price</th>\n",
       "    </tr>\n",
       "  </thead>\n",
       "  <tbody>\n",
       "  </tbody>\n",
       "</table>\n",
       "</div>"
      ],
      "text/plain": [
       "Empty DataFrame\n",
       "Columns: [Stock Price, Strike Price, Maturity, Dividends, Volatility, Risk-free, Call Price]\n",
       "Index: []"
      ]
     },
     "execution_count": 50,
     "metadata": {},
     "output_type": "execute_result"
    }
   ],
   "source": [
    "df[(df['Stock Price'] > 0.49) & (df['Stock Price'] < 0.51)]"
   ]
  },
  {
   "cell_type": "code",
   "execution_count": 56,
   "id": "valid-robertson",
   "metadata": {},
   "outputs": [
    {
     "data": {
      "text/plain": [
       "count    300000.000000\n",
       "mean          1.031697\n",
       "std           0.185779\n",
       "min           0.769231\n",
       "25%           0.868780\n",
       "50%           0.999826\n",
       "75%           1.176731\n",
       "max           1.428564\n",
       "Name: Stock Price, dtype: float64"
      ]
     },
     "execution_count": 56,
     "metadata": {},
     "output_type": "execute_result"
    }
   ],
   "source": [
    "df['Stock Price'].describe()"
   ]
  },
  {
   "cell_type": "code",
   "execution_count": null,
   "id": "respected-conference",
   "metadata": {},
   "outputs": [],
   "source": []
  }
 ],
 "metadata": {
  "kernelspec": {
   "display_name": "Python 3",
   "language": "python",
   "name": "python3"
  },
  "language_info": {
   "codemirror_mode": {
    "name": "ipython",
    "version": 3
   },
   "file_extension": ".py",
   "mimetype": "text/x-python",
   "name": "python",
   "nbconvert_exporter": "python",
   "pygments_lexer": "ipython3",
   "version": "3.7.10"
  }
 },
 "nbformat": 4,
 "nbformat_minor": 5
}
