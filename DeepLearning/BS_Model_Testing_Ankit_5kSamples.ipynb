{
 "cells": [
  {
   "cell_type": "code",
   "execution_count": 148,
   "id": "transsexual-confusion",
   "metadata": {},
   "outputs": [],
   "source": [
    "import numpy as np\n",
    "import pandas as pd\n",
    "import matplotlib.pyplot as plt\n",
    "import seaborn as sns\n",
    "from pathlib import Path"
   ]
  },
  {
   "cell_type": "markdown",
   "id": "union-article",
   "metadata": {},
   "source": [
    "### Load the data and explore it!"
   ]
  },
  {
   "cell_type": "code",
   "execution_count": 149,
   "id": "close-flower",
   "metadata": {},
   "outputs": [],
   "source": [
    "df = pd.read_csv(str(Path(r'./Data/BS_training.csv')))"
   ]
  },
  {
   "cell_type": "code",
   "execution_count": 150,
   "id": "figured-submission",
   "metadata": {},
   "outputs": [],
   "source": [
    "df = df.drop(labels='Unnamed: 0', axis=1)"
   ]
  },
  {
   "cell_type": "code",
   "execution_count": 151,
   "id": "cloudy-dubai",
   "metadata": {},
   "outputs": [
    {
     "data": {
      "text/plain": [
       "300000"
      ]
     },
     "execution_count": 151,
     "metadata": {},
     "output_type": "execute_result"
    }
   ],
   "source": [
    "len(df)"
   ]
  },
  {
   "cell_type": "code",
   "execution_count": 152,
   "id": "occasional-membership",
   "metadata": {},
   "outputs": [],
   "source": [
    "df=df.sample(frac=5000/300000.0)"
   ]
  },
  {
   "cell_type": "code",
   "execution_count": 153,
   "id": "standing-singing",
   "metadata": {},
   "outputs": [
    {
     "data": {
      "text/plain": [
       "5000"
      ]
     },
     "execution_count": 153,
     "metadata": {},
     "output_type": "execute_result"
    }
   ],
   "source": [
    "len(df)"
   ]
  },
  {
   "cell_type": "code",
   "execution_count": 154,
   "id": "phantom-blend",
   "metadata": {},
   "outputs": [],
   "source": [
    "df['Stock Price'] = df['Stock Price'] / df['Strike Price']\n",
    "df['Call Price'] = df['Call Price'] / df['Strike Price']\n",
    "df['Strike Price'] = df['Strike Price'] / df['Strike Price']"
   ]
  },
  {
   "cell_type": "code",
   "execution_count": 155,
   "id": "united-dispute",
   "metadata": {},
   "outputs": [
    {
     "data": {
      "text/html": [
       "<div>\n",
       "<style scoped>\n",
       "    .dataframe tbody tr th:only-of-type {\n",
       "        vertical-align: middle;\n",
       "    }\n",
       "\n",
       "    .dataframe tbody tr th {\n",
       "        vertical-align: top;\n",
       "    }\n",
       "\n",
       "    .dataframe thead th {\n",
       "        text-align: right;\n",
       "    }\n",
       "</style>\n",
       "<table border=\"1\" class=\"dataframe\">\n",
       "  <thead>\n",
       "    <tr style=\"text-align: right;\">\n",
       "      <th></th>\n",
       "      <th>Stock Price</th>\n",
       "      <th>Strike Price</th>\n",
       "      <th>Maturity</th>\n",
       "      <th>Dividends</th>\n",
       "      <th>Volatility</th>\n",
       "      <th>Risk-free</th>\n",
       "      <th>Call Price</th>\n",
       "    </tr>\n",
       "  </thead>\n",
       "  <tbody>\n",
       "    <tr>\n",
       "      <th>73613</th>\n",
       "      <td>1.308448</td>\n",
       "      <td>1.0</td>\n",
       "      <td>0.832877</td>\n",
       "      <td>0.007827</td>\n",
       "      <td>0.417888</td>\n",
       "      <td>0.082978</td>\n",
       "      <td>0.410867</td>\n",
       "    </tr>\n",
       "    <tr>\n",
       "      <th>111418</th>\n",
       "      <td>1.163198</td>\n",
       "      <td>1.0</td>\n",
       "      <td>0.438356</td>\n",
       "      <td>0.000803</td>\n",
       "      <td>0.344547</td>\n",
       "      <td>0.077025</td>\n",
       "      <td>0.224487</td>\n",
       "    </tr>\n",
       "    <tr>\n",
       "      <th>110618</th>\n",
       "      <td>0.790963</td>\n",
       "      <td>1.0</td>\n",
       "      <td>1.402740</td>\n",
       "      <td>0.021270</td>\n",
       "      <td>0.406190</td>\n",
       "      <td>0.068743</td>\n",
       "      <td>0.098486</td>\n",
       "    </tr>\n",
       "    <tr>\n",
       "      <th>176114</th>\n",
       "      <td>1.013650</td>\n",
       "      <td>1.0</td>\n",
       "      <td>1.016438</td>\n",
       "      <td>0.018170</td>\n",
       "      <td>0.736378</td>\n",
       "      <td>0.032890</td>\n",
       "      <td>0.298235</td>\n",
       "    </tr>\n",
       "    <tr>\n",
       "      <th>270737</th>\n",
       "      <td>1.086830</td>\n",
       "      <td>1.0</td>\n",
       "      <td>2.293151</td>\n",
       "      <td>0.021751</td>\n",
       "      <td>0.460504</td>\n",
       "      <td>0.045993</td>\n",
       "      <td>0.335664</td>\n",
       "    </tr>\n",
       "  </tbody>\n",
       "</table>\n",
       "</div>"
      ],
      "text/plain": [
       "        Stock Price  Strike Price  Maturity  Dividends  Volatility  Risk-free  \\\n",
       "73613      1.308448           1.0  0.832877   0.007827    0.417888   0.082978   \n",
       "111418     1.163198           1.0  0.438356   0.000803    0.344547   0.077025   \n",
       "110618     0.790963           1.0  1.402740   0.021270    0.406190   0.068743   \n",
       "176114     1.013650           1.0  1.016438   0.018170    0.736378   0.032890   \n",
       "270737     1.086830           1.0  2.293151   0.021751    0.460504   0.045993   \n",
       "\n",
       "        Call Price  \n",
       "73613     0.410867  \n",
       "111418    0.224487  \n",
       "110618    0.098486  \n",
       "176114    0.298235  \n",
       "270737    0.335664  "
      ]
     },
     "execution_count": 155,
     "metadata": {},
     "output_type": "execute_result"
    }
   ],
   "source": [
    "df.head()"
   ]
  },
  {
   "cell_type": "code",
   "execution_count": 156,
   "id": "chicken-halifax",
   "metadata": {},
   "outputs": [
    {
     "name": "stdout",
     "output_type": "stream",
     "text": [
      "<class 'pandas.core.frame.DataFrame'>\n",
      "Int64Index: 5000 entries, 73613 to 242336\n",
      "Data columns (total 7 columns):\n",
      " #   Column        Non-Null Count  Dtype  \n",
      "---  ------        --------------  -----  \n",
      " 0   Stock Price   5000 non-null   float64\n",
      " 1   Strike Price  5000 non-null   float64\n",
      " 2   Maturity      5000 non-null   float64\n",
      " 3   Dividends     5000 non-null   float64\n",
      " 4   Volatility    5000 non-null   float64\n",
      " 5   Risk-free     5000 non-null   float64\n",
      " 6   Call Price    5000 non-null   float64\n",
      "dtypes: float64(7)\n",
      "memory usage: 312.5 KB\n"
     ]
    }
   ],
   "source": [
    "df.info()"
   ]
  },
  {
   "cell_type": "code",
   "execution_count": 157,
   "id": "better-conversion",
   "metadata": {},
   "outputs": [
    {
     "data": {
      "text/html": [
       "<div>\n",
       "<style scoped>\n",
       "    .dataframe tbody tr th:only-of-type {\n",
       "        vertical-align: middle;\n",
       "    }\n",
       "\n",
       "    .dataframe tbody tr th {\n",
       "        vertical-align: top;\n",
       "    }\n",
       "\n",
       "    .dataframe thead th {\n",
       "        text-align: right;\n",
       "    }\n",
       "</style>\n",
       "<table border=\"1\" class=\"dataframe\">\n",
       "  <thead>\n",
       "    <tr style=\"text-align: right;\">\n",
       "      <th></th>\n",
       "      <th>count</th>\n",
       "      <th>mean</th>\n",
       "      <th>std</th>\n",
       "      <th>min</th>\n",
       "      <th>25%</th>\n",
       "      <th>50%</th>\n",
       "      <th>75%</th>\n",
       "      <th>max</th>\n",
       "    </tr>\n",
       "  </thead>\n",
       "  <tbody>\n",
       "    <tr>\n",
       "      <th>Stock Price</th>\n",
       "      <td>5000.0</td>\n",
       "      <td>1.034404</td>\n",
       "      <td>0.186794</td>\n",
       "      <td>7.693625e-01</td>\n",
       "      <td>0.870590</td>\n",
       "      <td>1.002223</td>\n",
       "      <td>1.178260</td>\n",
       "      <td>1.428463</td>\n",
       "    </tr>\n",
       "    <tr>\n",
       "      <th>Strike Price</th>\n",
       "      <td>5000.0</td>\n",
       "      <td>1.000000</td>\n",
       "      <td>0.000000</td>\n",
       "      <td>1.000000e+00</td>\n",
       "      <td>1.000000</td>\n",
       "      <td>1.000000</td>\n",
       "      <td>1.000000</td>\n",
       "      <td>1.000000</td>\n",
       "    </tr>\n",
       "    <tr>\n",
       "      <th>Maturity</th>\n",
       "      <td>5000.0</td>\n",
       "      <td>1.506417</td>\n",
       "      <td>0.869603</td>\n",
       "      <td>2.739726e-03</td>\n",
       "      <td>0.772603</td>\n",
       "      <td>1.501370</td>\n",
       "      <td>2.279452</td>\n",
       "      <td>2.997260</td>\n",
       "    </tr>\n",
       "    <tr>\n",
       "      <th>Dividends</th>\n",
       "      <td>5000.0</td>\n",
       "      <td>0.015079</td>\n",
       "      <td>0.008734</td>\n",
       "      <td>5.462480e-06</td>\n",
       "      <td>0.007552</td>\n",
       "      <td>0.015122</td>\n",
       "      <td>0.022730</td>\n",
       "      <td>0.029996</td>\n",
       "    </tr>\n",
       "    <tr>\n",
       "      <th>Volatility</th>\n",
       "      <td>5000.0</td>\n",
       "      <td>0.470069</td>\n",
       "      <td>0.246202</td>\n",
       "      <td>5.020371e-02</td>\n",
       "      <td>0.253302</td>\n",
       "      <td>0.475831</td>\n",
       "      <td>0.681573</td>\n",
       "      <td>0.899977</td>\n",
       "    </tr>\n",
       "    <tr>\n",
       "      <th>Risk-free</th>\n",
       "      <td>5000.0</td>\n",
       "      <td>0.055096</td>\n",
       "      <td>0.025844</td>\n",
       "      <td>1.000771e-02</td>\n",
       "      <td>0.032833</td>\n",
       "      <td>0.055958</td>\n",
       "      <td>0.076829</td>\n",
       "      <td>0.099988</td>\n",
       "    </tr>\n",
       "    <tr>\n",
       "      <th>Call Price</th>\n",
       "      <td>5000.0</td>\n",
       "      <td>0.268374</td>\n",
       "      <td>0.180248</td>\n",
       "      <td>2.525464e-47</td>\n",
       "      <td>0.120716</td>\n",
       "      <td>0.255569</td>\n",
       "      <td>0.391765</td>\n",
       "      <td>0.859765</td>\n",
       "    </tr>\n",
       "  </tbody>\n",
       "</table>\n",
       "</div>"
      ],
      "text/plain": [
       "               count      mean       std           min       25%       50%  \\\n",
       "Stock Price   5000.0  1.034404  0.186794  7.693625e-01  0.870590  1.002223   \n",
       "Strike Price  5000.0  1.000000  0.000000  1.000000e+00  1.000000  1.000000   \n",
       "Maturity      5000.0  1.506417  0.869603  2.739726e-03  0.772603  1.501370   \n",
       "Dividends     5000.0  0.015079  0.008734  5.462480e-06  0.007552  0.015122   \n",
       "Volatility    5000.0  0.470069  0.246202  5.020371e-02  0.253302  0.475831   \n",
       "Risk-free     5000.0  0.055096  0.025844  1.000771e-02  0.032833  0.055958   \n",
       "Call Price    5000.0  0.268374  0.180248  2.525464e-47  0.120716  0.255569   \n",
       "\n",
       "                   75%       max  \n",
       "Stock Price   1.178260  1.428463  \n",
       "Strike Price  1.000000  1.000000  \n",
       "Maturity      2.279452  2.997260  \n",
       "Dividends     0.022730  0.029996  \n",
       "Volatility    0.681573  0.899977  \n",
       "Risk-free     0.076829  0.099988  \n",
       "Call Price    0.391765  0.859765  "
      ]
     },
     "execution_count": 157,
     "metadata": {},
     "output_type": "execute_result"
    }
   ],
   "source": [
    "df.describe().transpose()"
   ]
  },
  {
   "cell_type": "markdown",
   "id": "harmful-sessions",
   "metadata": {},
   "source": [
    "We dont do any kind of EDA here, since the data is simulated and regular. Nothing to explore here!"
   ]
  },
  {
   "cell_type": "markdown",
   "id": "elder-syndication",
   "metadata": {},
   "source": [
    "### Split the data into test-train"
   ]
  },
  {
   "cell_type": "code",
   "execution_count": 158,
   "id": "right-light",
   "metadata": {},
   "outputs": [],
   "source": [
    "from sklearn.model_selection import train_test_split"
   ]
  },
  {
   "cell_type": "code",
   "execution_count": 159,
   "id": "tamil-clone",
   "metadata": {},
   "outputs": [],
   "source": [
    "X = df.drop('Call Price', axis=1).values\n",
    "y = df['Call Price'].values"
   ]
  },
  {
   "cell_type": "code",
   "execution_count": 160,
   "id": "dirty-respondent",
   "metadata": {},
   "outputs": [
    {
     "data": {
      "text/plain": [
       "((5000, 6), (5000,))"
      ]
     },
     "execution_count": 160,
     "metadata": {},
     "output_type": "execute_result"
    }
   ],
   "source": [
    "X.shape, y.shape"
   ]
  },
  {
   "cell_type": "code",
   "execution_count": 161,
   "id": "mighty-diagram",
   "metadata": {},
   "outputs": [],
   "source": [
    "X_train, X_test, y_train, y_test = train_test_split(X, y, test_size=0.2, random_state=23)"
   ]
  },
  {
   "cell_type": "markdown",
   "id": "linear-alpha",
   "metadata": {},
   "source": [
    "### Scale the data"
   ]
  },
  {
   "cell_type": "code",
   "execution_count": 162,
   "id": "lightweight-india",
   "metadata": {},
   "outputs": [],
   "source": [
    "from sklearn.preprocessing import MinMaxScaler"
   ]
  },
  {
   "cell_type": "code",
   "execution_count": 163,
   "id": "antique-affiliate",
   "metadata": {},
   "outputs": [],
   "source": [
    "scaler = MinMaxScaler()"
   ]
  },
  {
   "cell_type": "code",
   "execution_count": 164,
   "id": "sixth-sentence",
   "metadata": {},
   "outputs": [],
   "source": [
    "#scaler.fit(X_train)"
   ]
  },
  {
   "cell_type": "code",
   "execution_count": 165,
   "id": "distinguished-quilt",
   "metadata": {},
   "outputs": [],
   "source": [
    "#X_train = scaler.transform(X_train)\n",
    "#X_test = scaler.transform(X_test)"
   ]
  },
  {
   "cell_type": "code",
   "execution_count": null,
   "id": "sapphire-ensemble",
   "metadata": {},
   "outputs": [],
   "source": []
  },
  {
   "cell_type": "code",
   "execution_count": 166,
   "id": "relative-cover",
   "metadata": {},
   "outputs": [],
   "source": [
    "from tensorflow.keras.models import Sequential\n",
    "from tensorflow.keras.layers import Dense"
   ]
  },
  {
   "cell_type": "code",
   "execution_count": 167,
   "id": "tender-melbourne",
   "metadata": {},
   "outputs": [],
   "source": [
    "model = Sequential()\n",
    "\n",
    "model.add(Dense(6, activation='relu', input_shape=(6,)))\n",
    "model.add(Dense(20, activation='relu'))\n",
    "model.add(Dense(20, activation='relu'))\n",
    "model.add(Dense(10, activation='relu'))\n",
    "\n",
    "model.add(Dense(1, activation='relu'))\n",
    "\n",
    "model.compile(optimizer='adam', loss='mse')"
   ]
  },
  {
   "cell_type": "code",
   "execution_count": 168,
   "id": "elect-health",
   "metadata": {},
   "outputs": [
    {
     "name": "stdout",
     "output_type": "stream",
     "text": [
      "Model: \"sequential_6\"\n",
      "_________________________________________________________________\n",
      "Layer (type)                 Output Shape              Param #   \n",
      "=================================================================\n",
      "dense_30 (Dense)             (None, 6)                 42        \n",
      "_________________________________________________________________\n",
      "dense_31 (Dense)             (None, 20)                140       \n",
      "_________________________________________________________________\n",
      "dense_32 (Dense)             (None, 20)                420       \n",
      "_________________________________________________________________\n",
      "dense_33 (Dense)             (None, 10)                210       \n",
      "_________________________________________________________________\n",
      "dense_34 (Dense)             (None, 1)                 11        \n",
      "=================================================================\n",
      "Total params: 823\n",
      "Trainable params: 823\n",
      "Non-trainable params: 0\n",
      "_________________________________________________________________\n"
     ]
    }
   ],
   "source": [
    "model.summary()"
   ]
  },
  {
   "cell_type": "code",
   "execution_count": 170,
   "id": "vocational-container",
   "metadata": {},
   "outputs": [],
   "source": [
    "from tensorflow.keras.callbacks import EarlyStopping\n",
    "early_stop = EarlyStopping(monitor='val_loss', mode='min', patience=20)"
   ]
  },
  {
   "cell_type": "code",
   "execution_count": 172,
   "id": "former-agenda",
   "metadata": {},
   "outputs": [
    {
     "name": "stdout",
     "output_type": "stream",
     "text": [
      "Train on 4000 samples, validate on 1000 samples\n",
      "Epoch 1/500\n",
      "4000/4000 [==============================] - 0s 19us/sample - loss: 1.0385e-04 - val_loss: 9.8207e-05\n",
      "Epoch 2/500\n",
      "4000/4000 [==============================] - 0s 18us/sample - loss: 1.1429e-04 - val_loss: 1.0099e-04\n",
      "Epoch 3/500\n",
      "4000/4000 [==============================] - 0s 18us/sample - loss: 1.1244e-04 - val_loss: 3.1686e-04\n",
      "Epoch 4/500\n",
      "4000/4000 [==============================] - 0s 18us/sample - loss: 1.2453e-04 - val_loss: 1.3760e-04\n",
      "Epoch 5/500\n",
      "4000/4000 [==============================] - 0s 18us/sample - loss: 1.0238e-04 - val_loss: 1.2158e-04\n",
      "Epoch 6/500\n",
      "4000/4000 [==============================] - 0s 17us/sample - loss: 9.5799e-05 - val_loss: 1.1159e-04\n",
      "Epoch 7/500\n",
      "4000/4000 [==============================] - 0s 18us/sample - loss: 1.0327e-04 - val_loss: 9.4809e-05\n",
      "Epoch 8/500\n",
      "4000/4000 [==============================] - 0s 17us/sample - loss: 9.9070e-05 - val_loss: 2.6893e-04\n",
      "Epoch 9/500\n",
      "4000/4000 [==============================] - 0s 18us/sample - loss: 1.0706e-04 - val_loss: 9.5709e-05\n",
      "Epoch 10/500\n",
      "4000/4000 [==============================] - 0s 18us/sample - loss: 9.8969e-05 - val_loss: 9.7483e-05\n",
      "Epoch 11/500\n",
      "4000/4000 [==============================] - 0s 18us/sample - loss: 1.1305e-04 - val_loss: 1.0041e-04\n",
      "Epoch 12/500\n",
      "4000/4000 [==============================] - 0s 17us/sample - loss: 1.0439e-04 - val_loss: 1.0643e-04\n",
      "Epoch 13/500\n",
      "4000/4000 [==============================] - 0s 17us/sample - loss: 1.0321e-04 - val_loss: 9.1401e-05\n",
      "Epoch 14/500\n",
      "4000/4000 [==============================] - 0s 18us/sample - loss: 1.0305e-04 - val_loss: 8.9359e-05\n",
      "Epoch 15/500\n",
      "4000/4000 [==============================] - 0s 17us/sample - loss: 1.1489e-04 - val_loss: 1.1748e-04\n",
      "Epoch 16/500\n",
      "4000/4000 [==============================] - 0s 18us/sample - loss: 9.4271e-05 - val_loss: 1.0181e-04\n",
      "Epoch 17/500\n",
      "4000/4000 [==============================] - 0s 17us/sample - loss: 9.4142e-05 - val_loss: 9.1133e-05\n",
      "Epoch 18/500\n",
      "4000/4000 [==============================] - 0s 18us/sample - loss: 9.2355e-05 - val_loss: 1.0228e-04\n",
      "Epoch 19/500\n",
      "4000/4000 [==============================] - 0s 18us/sample - loss: 9.0208e-05 - val_loss: 8.6316e-05\n",
      "Epoch 20/500\n",
      "4000/4000 [==============================] - 0s 18us/sample - loss: 1.0577e-04 - val_loss: 1.0409e-04\n",
      "Epoch 21/500\n",
      "4000/4000 [==============================] - 0s 19us/sample - loss: 9.0886e-05 - val_loss: 9.7965e-05\n",
      "Epoch 22/500\n",
      "4000/4000 [==============================] - 0s 20us/sample - loss: 8.6809e-05 - val_loss: 1.0781e-04\n",
      "Epoch 23/500\n",
      "4000/4000 [==============================] - 0s 18us/sample - loss: 8.5670e-05 - val_loss: 1.1070e-04\n",
      "Epoch 24/500\n",
      "4000/4000 [==============================] - 0s 20us/sample - loss: 9.5694e-05 - val_loss: 1.2202e-04\n",
      "Epoch 25/500\n",
      "4000/4000 [==============================] - 0s 19us/sample - loss: 8.8573e-05 - val_loss: 1.0579e-04\n",
      "Epoch 26/500\n",
      "4000/4000 [==============================] - 0s 17us/sample - loss: 9.6120e-05 - val_loss: 9.3407e-05\n",
      "Epoch 27/500\n",
      "4000/4000 [==============================] - 0s 17us/sample - loss: 1.0336e-04 - val_loss: 7.9535e-05\n",
      "Epoch 28/500\n",
      "4000/4000 [==============================] - 0s 17us/sample - loss: 8.5609e-05 - val_loss: 1.5725e-04\n",
      "Epoch 29/500\n",
      "4000/4000 [==============================] - 0s 18us/sample - loss: 1.0055e-04 - val_loss: 9.4343e-05\n",
      "Epoch 30/500\n",
      "4000/4000 [==============================] - 0s 17us/sample - loss: 1.1072e-04 - val_loss: 7.9215e-05\n",
      "Epoch 31/500\n",
      "4000/4000 [==============================] - 0s 16us/sample - loss: 9.8703e-05 - val_loss: 9.1112e-05\n",
      "Epoch 32/500\n",
      "4000/4000 [==============================] - 0s 18us/sample - loss: 9.3106e-05 - val_loss: 7.8537e-05\n",
      "Epoch 33/500\n",
      "4000/4000 [==============================] - 0s 18us/sample - loss: 9.4726e-05 - val_loss: 7.9307e-05\n",
      "Epoch 34/500\n",
      "4000/4000 [==============================] - 0s 18us/sample - loss: 8.6028e-05 - val_loss: 8.0227e-05\n",
      "Epoch 35/500\n",
      "4000/4000 [==============================] - 0s 18us/sample - loss: 8.2662e-05 - val_loss: 8.4210e-05\n",
      "Epoch 36/500\n",
      "4000/4000 [==============================] - 0s 18us/sample - loss: 9.1542e-05 - val_loss: 8.4654e-05\n",
      "Epoch 37/500\n",
      "4000/4000 [==============================] - 0s 18us/sample - loss: 8.4022e-05 - val_loss: 8.4662e-05\n",
      "Epoch 38/500\n",
      "4000/4000 [==============================] - 0s 18us/sample - loss: 8.0387e-05 - val_loss: 1.0848e-04\n",
      "Epoch 39/500\n",
      "4000/4000 [==============================] - 0s 19us/sample - loss: 8.6105e-05 - val_loss: 1.3065e-04\n",
      "Epoch 40/500\n",
      "4000/4000 [==============================] - 0s 18us/sample - loss: 8.2027e-05 - val_loss: 7.6881e-05\n",
      "Epoch 41/500\n",
      "4000/4000 [==============================] - 0s 18us/sample - loss: 7.6922e-05 - val_loss: 1.0477e-04\n",
      "Epoch 42/500\n",
      "4000/4000 [==============================] - 0s 18us/sample - loss: 8.0895e-05 - val_loss: 7.7617e-05\n",
      "Epoch 43/500\n",
      "4000/4000 [==============================] - 0s 18us/sample - loss: 7.8004e-05 - val_loss: 7.0715e-05\n",
      "Epoch 44/500\n",
      "4000/4000 [==============================] - 0s 18us/sample - loss: 8.3431e-05 - val_loss: 8.2488e-05\n",
      "Epoch 45/500\n",
      "4000/4000 [==============================] - 0s 18us/sample - loss: 8.0323e-05 - val_loss: 8.3132e-05\n",
      "Epoch 46/500\n",
      "4000/4000 [==============================] - 0s 17us/sample - loss: 7.8899e-05 - val_loss: 9.7100e-05\n",
      "Epoch 47/500\n",
      "4000/4000 [==============================] - 0s 17us/sample - loss: 7.6658e-05 - val_loss: 7.8089e-05\n",
      "Epoch 48/500\n",
      "4000/4000 [==============================] - 0s 17us/sample - loss: 7.0805e-05 - val_loss: 8.3392e-05\n",
      "Epoch 49/500\n",
      "4000/4000 [==============================] - 0s 17us/sample - loss: 7.0879e-05 - val_loss: 8.4765e-05\n",
      "Epoch 50/500\n",
      "4000/4000 [==============================] - 0s 17us/sample - loss: 8.6112e-05 - val_loss: 7.5870e-05\n",
      "Epoch 51/500\n",
      "4000/4000 [==============================] - 0s 17us/sample - loss: 7.0334e-05 - val_loss: 6.9706e-05\n",
      "Epoch 52/500\n",
      "4000/4000 [==============================] - 0s 18us/sample - loss: 7.1024e-05 - val_loss: 6.6977e-05\n",
      "Epoch 53/500\n",
      "4000/4000 [==============================] - 0s 21us/sample - loss: 7.7288e-05 - val_loss: 9.8629e-05\n",
      "Epoch 54/500\n",
      "4000/4000 [==============================] - 0s 18us/sample - loss: 7.6257e-05 - val_loss: 6.4833e-05\n",
      "Epoch 55/500\n",
      "4000/4000 [==============================] - 0s 20us/sample - loss: 7.1001e-05 - val_loss: 1.4278e-04\n",
      "Epoch 56/500\n",
      "4000/4000 [==============================] - 0s 17us/sample - loss: 6.7809e-05 - val_loss: 6.6066e-05\n",
      "Epoch 57/500\n",
      "4000/4000 [==============================] - 0s 16us/sample - loss: 8.2933e-05 - val_loss: 1.2526e-04\n",
      "Epoch 58/500\n",
      "4000/4000 [==============================] - 0s 17us/sample - loss: 6.8063e-05 - val_loss: 7.4861e-05\n",
      "Epoch 59/500\n",
      "4000/4000 [==============================] - 0s 17us/sample - loss: 6.4369e-05 - val_loss: 6.7750e-05\n",
      "Epoch 60/500\n",
      "4000/4000 [==============================] - 0s 18us/sample - loss: 5.9013e-05 - val_loss: 6.5179e-05\n",
      "Epoch 61/500\n",
      "4000/4000 [==============================] - 0s 17us/sample - loss: 6.6640e-05 - val_loss: 7.0276e-05\n",
      "Epoch 62/500\n",
      "4000/4000 [==============================] - 0s 17us/sample - loss: 8.0552e-05 - val_loss: 7.0478e-05\n",
      "Epoch 63/500\n",
      "4000/4000 [==============================] - 0s 18us/sample - loss: 5.8974e-05 - val_loss: 6.1954e-05\n",
      "Epoch 64/500\n",
      "4000/4000 [==============================] - 0s 18us/sample - loss: 6.7898e-05 - val_loss: 6.2033e-05\n",
      "Epoch 65/500\n",
      "4000/4000 [==============================] - 0s 18us/sample - loss: 6.2552e-05 - val_loss: 1.0949e-04\n",
      "Epoch 66/500\n",
      "4000/4000 [==============================] - 0s 19us/sample - loss: 7.3862e-05 - val_loss: 6.4375e-05\n",
      "Epoch 67/500\n",
      "4000/4000 [==============================] - 0s 17us/sample - loss: 6.7671e-05 - val_loss: 6.0430e-05\n",
      "Epoch 68/500\n",
      "4000/4000 [==============================] - 0s 18us/sample - loss: 6.6977e-05 - val_loss: 9.0956e-05\n",
      "Epoch 69/500\n",
      "4000/4000 [==============================] - 0s 17us/sample - loss: 6.0084e-05 - val_loss: 6.6315e-05\n",
      "Epoch 70/500\n",
      "4000/4000 [==============================] - 0s 18us/sample - loss: 5.9778e-05 - val_loss: 5.8673e-05\n",
      "Epoch 71/500\n",
      "4000/4000 [==============================] - 0s 18us/sample - loss: 7.1129e-05 - val_loss: 6.7872e-05\n"
     ]
    },
    {
     "name": "stdout",
     "output_type": "stream",
     "text": [
      "Epoch 72/500\n",
      "4000/4000 [==============================] - 0s 17us/sample - loss: 5.9820e-05 - val_loss: 7.9446e-05\n",
      "Epoch 73/500\n",
      "4000/4000 [==============================] - 0s 16us/sample - loss: 6.4217e-05 - val_loss: 7.1581e-05\n",
      "Epoch 74/500\n",
      "4000/4000 [==============================] - 0s 18us/sample - loss: 6.0370e-05 - val_loss: 5.9084e-05\n",
      "Epoch 75/500\n",
      "4000/4000 [==============================] - 0s 19us/sample - loss: 6.6486e-05 - val_loss: 6.8283e-05\n",
      "Epoch 76/500\n",
      "4000/4000 [==============================] - 0s 18us/sample - loss: 5.6656e-05 - val_loss: 5.3691e-05\n",
      "Epoch 77/500\n",
      "4000/4000 [==============================] - 0s 17us/sample - loss: 6.2340e-05 - val_loss: 7.5482e-05\n",
      "Epoch 78/500\n",
      "4000/4000 [==============================] - 0s 17us/sample - loss: 8.4812e-05 - val_loss: 1.3659e-04\n",
      "Epoch 79/500\n",
      "4000/4000 [==============================] - 0s 16us/sample - loss: 6.9138e-05 - val_loss: 6.0341e-05\n",
      "Epoch 80/500\n",
      "4000/4000 [==============================] - 0s 17us/sample - loss: 6.4939e-05 - val_loss: 2.1739e-04\n",
      "Epoch 81/500\n",
      "4000/4000 [==============================] - 0s 19us/sample - loss: 7.4010e-05 - val_loss: 6.7470e-05\n",
      "Epoch 82/500\n",
      "4000/4000 [==============================] - 0s 18us/sample - loss: 5.8618e-05 - val_loss: 7.4485e-05\n",
      "Epoch 83/500\n",
      "4000/4000 [==============================] - 0s 18us/sample - loss: 5.5042e-05 - val_loss: 6.4031e-05\n",
      "Epoch 84/500\n",
      "4000/4000 [==============================] - 0s 18us/sample - loss: 5.6581e-05 - val_loss: 6.3867e-05\n",
      "Epoch 85/500\n",
      "4000/4000 [==============================] - 0s 18us/sample - loss: 6.0325e-05 - val_loss: 6.3065e-05\n",
      "Epoch 86/500\n",
      "4000/4000 [==============================] - 0s 16us/sample - loss: 6.0416e-05 - val_loss: 5.7102e-05\n",
      "Epoch 87/500\n",
      "4000/4000 [==============================] - 0s 16us/sample - loss: 6.7649e-05 - val_loss: 5.3065e-05\n",
      "Epoch 88/500\n",
      "4000/4000 [==============================] - 0s 16us/sample - loss: 6.7762e-05 - val_loss: 5.1230e-05\n",
      "Epoch 89/500\n",
      "4000/4000 [==============================] - 0s 17us/sample - loss: 6.5240e-05 - val_loss: 6.1609e-05\n",
      "Epoch 90/500\n",
      "4000/4000 [==============================] - 0s 19us/sample - loss: 5.9578e-05 - val_loss: 5.1352e-05\n",
      "Epoch 91/500\n",
      "4000/4000 [==============================] - 0s 19us/sample - loss: 5.8173e-05 - val_loss: 6.1328e-05\n",
      "Epoch 92/500\n",
      "4000/4000 [==============================] - 0s 20us/sample - loss: 6.6157e-05 - val_loss: 7.4381e-05\n",
      "Epoch 93/500\n",
      "4000/4000 [==============================] - 0s 19us/sample - loss: 5.3812e-05 - val_loss: 5.9594e-05\n",
      "Epoch 94/500\n",
      "4000/4000 [==============================] - 0s 19us/sample - loss: 5.6465e-05 - val_loss: 6.2276e-05\n",
      "Epoch 95/500\n",
      "4000/4000 [==============================] - 0s 19us/sample - loss: 5.9389e-05 - val_loss: 5.5528e-05\n",
      "Epoch 96/500\n",
      "4000/4000 [==============================] - 0s 19us/sample - loss: 6.2805e-05 - val_loss: 5.3903e-05\n",
      "Epoch 97/500\n",
      "4000/4000 [==============================] - 0s 17us/sample - loss: 5.0747e-05 - val_loss: 5.6764e-05\n",
      "Epoch 98/500\n",
      "4000/4000 [==============================] - 0s 18us/sample - loss: 6.9067e-05 - val_loss: 6.5860e-05\n",
      "Epoch 99/500\n",
      "4000/4000 [==============================] - 0s 17us/sample - loss: 5.3407e-05 - val_loss: 6.1645e-05\n",
      "Epoch 100/500\n",
      "4000/4000 [==============================] - 0s 17us/sample - loss: 5.7507e-05 - val_loss: 5.4177e-05\n",
      "Epoch 101/500\n",
      "4000/4000 [==============================] - 0s 17us/sample - loss: 6.0756e-05 - val_loss: 5.1755e-05\n",
      "Epoch 102/500\n",
      "4000/4000 [==============================] - 0s 18us/sample - loss: 5.2374e-05 - val_loss: 5.2507e-05\n",
      "Epoch 103/500\n",
      "4000/4000 [==============================] - 0s 18us/sample - loss: 5.1559e-05 - val_loss: 4.7653e-05\n",
      "Epoch 104/500\n",
      "4000/4000 [==============================] - 0s 18us/sample - loss: 5.0599e-05 - val_loss: 5.0203e-05\n",
      "Epoch 105/500\n",
      "4000/4000 [==============================] - 0s 18us/sample - loss: 5.3291e-05 - val_loss: 4.7705e-05\n",
      "Epoch 106/500\n",
      "4000/4000 [==============================] - 0s 17us/sample - loss: 5.6723e-05 - val_loss: 6.8716e-05\n",
      "Epoch 107/500\n",
      "4000/4000 [==============================] - 0s 16us/sample - loss: 6.6508e-05 - val_loss: 6.4105e-05\n",
      "Epoch 108/500\n",
      "4000/4000 [==============================] - 0s 18us/sample - loss: 5.6043e-05 - val_loss: 4.8885e-05\n",
      "Epoch 109/500\n",
      "4000/4000 [==============================] - 0s 17us/sample - loss: 5.2899e-05 - val_loss: 4.5820e-05\n",
      "Epoch 110/500\n",
      "4000/4000 [==============================] - 0s 18us/sample - loss: 5.3020e-05 - val_loss: 4.8199e-05\n",
      "Epoch 111/500\n",
      "4000/4000 [==============================] - 0s 17us/sample - loss: 5.3719e-05 - val_loss: 8.6850e-05\n",
      "Epoch 112/500\n",
      "4000/4000 [==============================] - 0s 17us/sample - loss: 5.7897e-05 - val_loss: 4.7495e-05\n",
      "Epoch 113/500\n",
      "4000/4000 [==============================] - 0s 17us/sample - loss: 4.8935e-05 - val_loss: 5.1755e-05\n",
      "Epoch 114/500\n",
      "4000/4000 [==============================] - 0s 16us/sample - loss: 5.0233e-05 - val_loss: 5.4170e-05\n",
      "Epoch 115/500\n",
      "4000/4000 [==============================] - 0s 17us/sample - loss: 5.2253e-05 - val_loss: 6.6352e-05\n",
      "Epoch 116/500\n",
      "4000/4000 [==============================] - 0s 17us/sample - loss: 5.8601e-05 - val_loss: 4.7892e-05\n",
      "Epoch 117/500\n",
      "4000/4000 [==============================] - 0s 17us/sample - loss: 4.9837e-05 - val_loss: 4.5977e-05\n",
      "Epoch 118/500\n",
      "4000/4000 [==============================] - 0s 17us/sample - loss: 6.1813e-05 - val_loss: 4.5472e-05\n",
      "Epoch 119/500\n",
      "4000/4000 [==============================] - 0s 17us/sample - loss: 4.6668e-05 - val_loss: 5.1735e-05\n",
      "Epoch 120/500\n",
      "4000/4000 [==============================] - 0s 18us/sample - loss: 5.2098e-05 - val_loss: 4.4044e-05\n",
      "Epoch 121/500\n",
      "4000/4000 [==============================] - 0s 18us/sample - loss: 7.4940e-05 - val_loss: 4.6417e-05\n",
      "Epoch 122/500\n",
      "4000/4000 [==============================] - 0s 18us/sample - loss: 4.9863e-05 - val_loss: 7.1340e-05\n",
      "Epoch 123/500\n",
      "4000/4000 [==============================] - 0s 19us/sample - loss: 4.5684e-05 - val_loss: 6.9371e-05\n",
      "Epoch 124/500\n",
      "4000/4000 [==============================] - 0s 18us/sample - loss: 5.1219e-05 - val_loss: 6.9174e-05\n",
      "Epoch 125/500\n",
      "4000/4000 [==============================] - 0s 19us/sample - loss: 4.9311e-05 - val_loss: 5.3470e-05\n",
      "Epoch 126/500\n",
      "4000/4000 [==============================] - 0s 17us/sample - loss: 5.8346e-05 - val_loss: 6.1075e-05\n",
      "Epoch 127/500\n",
      "4000/4000 [==============================] - 0s 16us/sample - loss: 4.9186e-05 - val_loss: 6.9102e-05\n",
      "Epoch 128/500\n",
      "4000/4000 [==============================] - 0s 17us/sample - loss: 4.7240e-05 - val_loss: 6.1538e-05\n",
      "Epoch 129/500\n",
      "4000/4000 [==============================] - 0s 17us/sample - loss: 5.0409e-05 - val_loss: 1.0665e-04\n",
      "Epoch 130/500\n",
      "4000/4000 [==============================] - 0s 16us/sample - loss: 5.1389e-05 - val_loss: 4.1134e-05\n",
      "Epoch 131/500\n",
      "4000/4000 [==============================] - 0s 16us/sample - loss: 5.0409e-05 - val_loss: 4.8808e-05\n",
      "Epoch 132/500\n",
      "4000/4000 [==============================] - 0s 17us/sample - loss: 4.6458e-05 - val_loss: 6.6730e-05\n",
      "Epoch 133/500\n",
      "4000/4000 [==============================] - 0s 18us/sample - loss: 4.2270e-05 - val_loss: 4.4089e-05\n",
      "Epoch 134/500\n",
      "4000/4000 [==============================] - 0s 17us/sample - loss: 4.2620e-05 - val_loss: 4.2397e-05\n",
      "Epoch 135/500\n",
      "4000/4000 [==============================] - 0s 17us/sample - loss: 5.2889e-05 - val_loss: 1.4824e-04\n",
      "Epoch 136/500\n",
      "4000/4000 [==============================] - 0s 17us/sample - loss: 6.6917e-05 - val_loss: 5.7770e-05\n",
      "Epoch 137/500\n",
      "4000/4000 [==============================] - 0s 17us/sample - loss: 6.1689e-05 - val_loss: 1.5003e-04\n",
      "Epoch 138/500\n",
      "4000/4000 [==============================] - 0s 17us/sample - loss: 5.8633e-05 - val_loss: 4.4840e-05\n",
      "Epoch 139/500\n",
      "4000/4000 [==============================] - 0s 16us/sample - loss: 4.3562e-05 - val_loss: 5.0321e-05\n",
      "Epoch 140/500\n",
      "4000/4000 [==============================] - 0s 17us/sample - loss: 4.2266e-05 - val_loss: 5.0001e-05\n",
      "Epoch 141/500\n",
      "4000/4000 [==============================] - 0s 18us/sample - loss: 4.6086e-05 - val_loss: 4.1232e-05\n",
      "Epoch 142/500\n",
      "4000/4000 [==============================] - 0s 18us/sample - loss: 5.0306e-05 - val_loss: 5.1651e-05\n"
     ]
    },
    {
     "name": "stdout",
     "output_type": "stream",
     "text": [
      "Epoch 143/500\n",
      "4000/4000 [==============================] - 0s 17us/sample - loss: 5.0479e-05 - val_loss: 4.4369e-05\n",
      "Epoch 144/500\n",
      "4000/4000 [==============================] - 0s 18us/sample - loss: 4.4484e-05 - val_loss: 5.2349e-05\n",
      "Epoch 145/500\n",
      "4000/4000 [==============================] - 0s 17us/sample - loss: 4.9396e-05 - val_loss: 4.6081e-05\n",
      "Epoch 146/500\n",
      "4000/4000 [==============================] - 0s 18us/sample - loss: 4.5349e-05 - val_loss: 4.3910e-05\n",
      "Epoch 147/500\n",
      "4000/4000 [==============================] - 0s 17us/sample - loss: 4.4112e-05 - val_loss: 3.9986e-05\n",
      "Epoch 148/500\n",
      "4000/4000 [==============================] - 0s 17us/sample - loss: 5.0487e-05 - val_loss: 4.1530e-05\n",
      "Epoch 149/500\n",
      "4000/4000 [==============================] - 0s 17us/sample - loss: 5.4245e-05 - val_loss: 4.3022e-05\n",
      "Epoch 150/500\n",
      "4000/4000 [==============================] - 0s 16us/sample - loss: 4.5822e-05 - val_loss: 4.3414e-05\n",
      "Epoch 151/500\n",
      "4000/4000 [==============================] - 0s 16us/sample - loss: 4.4223e-05 - val_loss: 4.0287e-05\n",
      "Epoch 152/500\n",
      "4000/4000 [==============================] - 0s 18us/sample - loss: 4.4383e-05 - val_loss: 6.2712e-05\n",
      "Epoch 153/500\n",
      "4000/4000 [==============================] - 0s 16us/sample - loss: 6.2555e-05 - val_loss: 6.5350e-05\n",
      "Epoch 154/500\n",
      "4000/4000 [==============================] - 0s 16us/sample - loss: 4.7637e-05 - val_loss: 4.7652e-05\n",
      "Epoch 155/500\n",
      "4000/4000 [==============================] - 0s 18us/sample - loss: 4.7075e-05 - val_loss: 4.0298e-05\n",
      "Epoch 156/500\n",
      "4000/4000 [==============================] - 0s 17us/sample - loss: 4.3494e-05 - val_loss: 6.6105e-05\n",
      "Epoch 157/500\n",
      "4000/4000 [==============================] - 0s 16us/sample - loss: 4.8312e-05 - val_loss: 5.1939e-05\n",
      "Epoch 158/500\n",
      "4000/4000 [==============================] - 0s 16us/sample - loss: 5.3759e-05 - val_loss: 5.5622e-05\n",
      "Epoch 159/500\n",
      "4000/4000 [==============================] - 0s 17us/sample - loss: 4.6802e-05 - val_loss: 7.6923e-05\n",
      "Epoch 160/500\n",
      "4000/4000 [==============================] - 0s 17us/sample - loss: 4.4869e-05 - val_loss: 4.6536e-05\n",
      "Epoch 161/500\n",
      "4000/4000 [==============================] - 0s 16us/sample - loss: 4.4260e-05 - val_loss: 4.2764e-05\n",
      "Epoch 162/500\n",
      "4000/4000 [==============================] - 0s 18us/sample - loss: 4.1551e-05 - val_loss: 5.0732e-05\n",
      "Epoch 163/500\n",
      "4000/4000 [==============================] - 0s 17us/sample - loss: 4.1588e-05 - val_loss: 6.6849e-05\n",
      "Epoch 164/500\n",
      "4000/4000 [==============================] - 0s 18us/sample - loss: 5.3601e-05 - val_loss: 3.9596e-05\n",
      "Epoch 165/500\n",
      "4000/4000 [==============================] - 0s 17us/sample - loss: 5.8127e-05 - val_loss: 4.6178e-05\n",
      "Epoch 166/500\n",
      "4000/4000 [==============================] - 0s 19us/sample - loss: 4.8593e-05 - val_loss: 6.9109e-05\n",
      "Epoch 167/500\n",
      "4000/4000 [==============================] - 0s 17us/sample - loss: 5.1661e-05 - val_loss: 7.5847e-05\n",
      "Epoch 168/500\n",
      "4000/4000 [==============================] - 0s 16us/sample - loss: 5.6792e-05 - val_loss: 4.7443e-05\n",
      "Epoch 169/500\n",
      "4000/4000 [==============================] - 0s 17us/sample - loss: 4.0897e-05 - val_loss: 4.0909e-05\n",
      "Epoch 170/500\n",
      "4000/4000 [==============================] - 0s 17us/sample - loss: 5.3959e-05 - val_loss: 4.6132e-05\n",
      "Epoch 171/500\n",
      "4000/4000 [==============================] - 0s 16us/sample - loss: 3.9876e-05 - val_loss: 4.8469e-05\n",
      "Epoch 172/500\n",
      "4000/4000 [==============================] - 0s 17us/sample - loss: 4.5172e-05 - val_loss: 4.3816e-05\n",
      "Epoch 173/500\n",
      "4000/4000 [==============================] - 0s 16us/sample - loss: 3.7788e-05 - val_loss: 4.7073e-05\n",
      "Epoch 174/500\n",
      "4000/4000 [==============================] - 0s 16us/sample - loss: 4.6120e-05 - val_loss: 4.8243e-05\n",
      "Epoch 175/500\n",
      "4000/4000 [==============================] - 0s 17us/sample - loss: 4.6262e-05 - val_loss: 3.9825e-05\n",
      "Epoch 176/500\n",
      "4000/4000 [==============================] - 0s 16us/sample - loss: 4.9763e-05 - val_loss: 3.9152e-05\n",
      "Epoch 177/500\n",
      "4000/4000 [==============================] - 0s 17us/sample - loss: 4.0577e-05 - val_loss: 4.2693e-05\n",
      "Epoch 178/500\n",
      "4000/4000 [==============================] - 0s 16us/sample - loss: 3.8397e-05 - val_loss: 4.1913e-05\n",
      "Epoch 179/500\n",
      "4000/4000 [==============================] - 0s 18us/sample - loss: 3.8741e-05 - val_loss: 4.6345e-05\n",
      "Epoch 180/500\n",
      "4000/4000 [==============================] - 0s 17us/sample - loss: 4.1501e-05 - val_loss: 4.6045e-05\n",
      "Epoch 181/500\n",
      "4000/4000 [==============================] - 0s 18us/sample - loss: 4.9255e-05 - val_loss: 6.0613e-05\n",
      "Epoch 182/500\n",
      "4000/4000 [==============================] - 0s 17us/sample - loss: 4.7802e-05 - val_loss: 3.6984e-05\n",
      "Epoch 183/500\n",
      "4000/4000 [==============================] - 0s 18us/sample - loss: 4.9233e-05 - val_loss: 4.0725e-05\n",
      "Epoch 184/500\n",
      "4000/4000 [==============================] - 0s 18us/sample - loss: 4.0535e-05 - val_loss: 4.4015e-05\n",
      "Epoch 185/500\n",
      "4000/4000 [==============================] - 0s 18us/sample - loss: 4.9281e-05 - val_loss: 3.5580e-05\n",
      "Epoch 186/500\n",
      "4000/4000 [==============================] - 0s 18us/sample - loss: 4.4912e-05 - val_loss: 3.8444e-05\n",
      "Epoch 187/500\n",
      "4000/4000 [==============================] - 0s 18us/sample - loss: 4.3259e-05 - val_loss: 3.9314e-05\n",
      "Epoch 188/500\n",
      "4000/4000 [==============================] - 0s 17us/sample - loss: 5.1225e-05 - val_loss: 3.8554e-05\n",
      "Epoch 189/500\n",
      "4000/4000 [==============================] - 0s 18us/sample - loss: 3.7500e-05 - val_loss: 3.6054e-05\n",
      "Epoch 190/500\n",
      "4000/4000 [==============================] - 0s 18us/sample - loss: 4.0219e-05 - val_loss: 3.5209e-05\n",
      "Epoch 191/500\n",
      "4000/4000 [==============================] - 0s 18us/sample - loss: 3.8397e-05 - val_loss: 5.7222e-05\n",
      "Epoch 192/500\n",
      "4000/4000 [==============================] - 0s 18us/sample - loss: 4.9708e-05 - val_loss: 3.6334e-05\n",
      "Epoch 193/500\n",
      "4000/4000 [==============================] - 0s 17us/sample - loss: 3.8085e-05 - val_loss: 3.4866e-05\n",
      "Epoch 194/500\n",
      "4000/4000 [==============================] - 0s 18us/sample - loss: 3.7895e-05 - val_loss: 4.4296e-05\n",
      "Epoch 195/500\n",
      "4000/4000 [==============================] - 0s 18us/sample - loss: 3.8788e-05 - val_loss: 4.5333e-05\n",
      "Epoch 196/500\n",
      "4000/4000 [==============================] - 0s 17us/sample - loss: 3.7694e-05 - val_loss: 3.8343e-05\n",
      "Epoch 197/500\n",
      "4000/4000 [==============================] - 0s 18us/sample - loss: 4.7797e-05 - val_loss: 3.5255e-05\n",
      "Epoch 198/500\n",
      "4000/4000 [==============================] - 0s 17us/sample - loss: 3.9147e-05 - val_loss: 4.8094e-05\n",
      "Epoch 199/500\n",
      "4000/4000 [==============================] - 0s 18us/sample - loss: 3.7752e-05 - val_loss: 5.2971e-05\n",
      "Epoch 200/500\n",
      "4000/4000 [==============================] - 0s 17us/sample - loss: 4.0668e-05 - val_loss: 4.2528e-05\n",
      "Epoch 201/500\n",
      "4000/4000 [==============================] - 0s 18us/sample - loss: 4.8852e-05 - val_loss: 4.5309e-05\n",
      "Epoch 202/500\n",
      "4000/4000 [==============================] - 0s 18us/sample - loss: 3.8341e-05 - val_loss: 3.7522e-05\n",
      "Epoch 203/500\n",
      "4000/4000 [==============================] - 0s 18us/sample - loss: 3.8916e-05 - val_loss: 3.6309e-05\n",
      "Epoch 204/500\n",
      "4000/4000 [==============================] - 0s 18us/sample - loss: 5.3286e-05 - val_loss: 3.4914e-05\n",
      "Epoch 205/500\n",
      "4000/4000 [==============================] - 0s 18us/sample - loss: 4.1805e-05 - val_loss: 4.6153e-05\n",
      "Epoch 206/500\n",
      "4000/4000 [==============================] - 0s 18us/sample - loss: 3.6744e-05 - val_loss: 3.6164e-05\n",
      "Epoch 207/500\n",
      "4000/4000 [==============================] - 0s 18us/sample - loss: 4.1062e-05 - val_loss: 5.2644e-05\n",
      "Epoch 208/500\n",
      "4000/4000 [==============================] - 0s 18us/sample - loss: 3.8129e-05 - val_loss: 3.5897e-05\n",
      "Epoch 209/500\n",
      "4000/4000 [==============================] - 0s 18us/sample - loss: 4.0318e-05 - val_loss: 4.1853e-05\n",
      "Epoch 210/500\n",
      "4000/4000 [==============================] - 0s 17us/sample - loss: 4.7479e-05 - val_loss: 9.2298e-05\n",
      "Epoch 211/500\n",
      "4000/4000 [==============================] - 0s 17us/sample - loss: 4.3522e-05 - val_loss: 4.6390e-05\n",
      "Epoch 212/500\n",
      "4000/4000 [==============================] - 0s 17us/sample - loss: 4.1756e-05 - val_loss: 3.9011e-05\n",
      "Epoch 213/500\n"
     ]
    },
    {
     "name": "stdout",
     "output_type": "stream",
     "text": [
      "4000/4000 [==============================] - 0s 17us/sample - loss: 4.3807e-05 - val_loss: 6.4919e-05\n"
     ]
    },
    {
     "data": {
      "text/plain": [
       "<tensorflow.python.keras.callbacks.History at 0x23aea0999c8>"
      ]
     },
     "execution_count": 172,
     "metadata": {},
     "output_type": "execute_result"
    }
   ],
   "source": [
    "model.fit(x=X_train, y=y_train, batch_size=64, epochs=500, \n",
    "          callbacks=[early_stop], validation_data=(X_test, y_test))"
   ]
  },
  {
   "cell_type": "markdown",
   "id": "funny-grass",
   "metadata": {},
   "source": [
    "### Evaluating the model"
   ]
  },
  {
   "cell_type": "code",
   "execution_count": 173,
   "id": "streaming-killing",
   "metadata": {},
   "outputs": [
    {
     "data": {
      "text/plain": [
       "<matplotlib.axes._subplots.AxesSubplot at 0x23aeba68a08>"
      ]
     },
     "execution_count": 173,
     "metadata": {},
     "output_type": "execute_result"
    },
    {
     "data": {
      "image/png": "[encoded data removed]",
      "text/plain": [
       "<Figure size 432x288 with 1 Axes>"
      ]
     },
     "metadata": {
      "needs_background": "light"
     },
     "output_type": "display_data"
    }
   ],
   "source": [
    "pd.DataFrame(model.history.history).plot()"
   ]
  },
  {
   "cell_type": "code",
   "execution_count": 174,
   "id": "greek-aside",
   "metadata": {},
   "outputs": [],
   "source": [
    "y_pred_train = model.predict(x=X_train)"
   ]
  },
  {
   "cell_type": "code",
   "execution_count": 175,
   "id": "gothic-lyric",
   "metadata": {},
   "outputs": [],
   "source": [
    "y_train_results = pd.concat([pd.Series(y_pred_train.reshape(y_train.shape), name='y_pred'), \n",
    "                             pd.Series(y_train, name='y_true')], \n",
    "                            axis=1)"
   ]
  },
  {
   "cell_type": "code",
   "execution_count": 176,
   "id": "immediate-appearance",
   "metadata": {},
   "outputs": [
    {
     "data": {
      "text/html": [
       "<div>\n",
       "<style scoped>\n",
       "    .dataframe tbody tr th:only-of-type {\n",
       "        vertical-align: middle;\n",
       "    }\n",
       "\n",
       "    .dataframe tbody tr th {\n",
       "        vertical-align: top;\n",
       "    }\n",
       "\n",
       "    .dataframe thead th {\n",
       "        text-align: right;\n",
       "    }\n",
       "</style>\n",
       "<table border=\"1\" class=\"dataframe\">\n",
       "  <thead>\n",
       "    <tr style=\"text-align: right;\">\n",
       "      <th></th>\n",
       "      <th>y_pred</th>\n",
       "      <th>y_true</th>\n",
       "    </tr>\n",
       "  </thead>\n",
       "  <tbody>\n",
       "    <tr>\n",
       "      <th>0</th>\n",
       "      <td>0.288149</td>\n",
       "      <td>0.287285</td>\n",
       "    </tr>\n",
       "    <tr>\n",
       "      <th>1</th>\n",
       "      <td>0.239736</td>\n",
       "      <td>0.232968</td>\n",
       "    </tr>\n",
       "    <tr>\n",
       "      <th>2</th>\n",
       "      <td>0.545119</td>\n",
       "      <td>0.534632</td>\n",
       "    </tr>\n",
       "    <tr>\n",
       "      <th>3</th>\n",
       "      <td>0.119372</td>\n",
       "      <td>0.117641</td>\n",
       "    </tr>\n",
       "    <tr>\n",
       "      <th>4</th>\n",
       "      <td>0.376625</td>\n",
       "      <td>0.376031</td>\n",
       "    </tr>\n",
       "  </tbody>\n",
       "</table>\n",
       "</div>"
      ],
      "text/plain": [
       "     y_pred    y_true\n",
       "0  0.288149  0.287285\n",
       "1  0.239736  0.232968\n",
       "2  0.545119  0.534632\n",
       "3  0.119372  0.117641\n",
       "4  0.376625  0.376031"
      ]
     },
     "execution_count": 176,
     "metadata": {},
     "output_type": "execute_result"
    }
   ],
   "source": [
    "y_train_results.head()"
   ]
  },
  {
   "cell_type": "code",
   "execution_count": 177,
   "id": "following-priest",
   "metadata": {},
   "outputs": [],
   "source": [
    "from sklearn.metrics import mean_absolute_error, mean_squared_error, explained_variance_score"
   ]
  },
  {
   "cell_type": "code",
   "execution_count": 178,
   "id": "dedicated-cache",
   "metadata": {},
   "outputs": [],
   "source": [
    "y_predicted = model.predict(X_test).reshape(y_test.shape)"
   ]
  },
  {
   "cell_type": "code",
   "execution_count": 179,
   "id": "numeric-bedroom",
   "metadata": {},
   "outputs": [
    {
     "data": {
      "text/plain": [
       "0.006123639347563513"
      ]
     },
     "execution_count": 179,
     "metadata": {},
     "output_type": "execute_result"
    }
   ],
   "source": [
    "mean_absolute_error(y_true=y_test, y_pred=y_predicted)"
   ]
  },
  {
   "cell_type": "code",
   "execution_count": 180,
   "id": "behavioral-clearing",
   "metadata": {},
   "outputs": [
    {
     "data": {
      "text/plain": [
       "6.491872121428108e-05"
      ]
     },
     "execution_count": 180,
     "metadata": {},
     "output_type": "execute_result"
    }
   ],
   "source": [
    "mean_squared_error(y_true=y_test, y_pred=y_predicted)"
   ]
  },
  {
   "cell_type": "code",
   "execution_count": 181,
   "id": "academic-peripheral",
   "metadata": {},
   "outputs": [],
   "source": [
    "y_df = pd.concat([pd.Series(y_test, name='y_true'), pd.Series(y_predicted, name='y_pred')], axis=1)"
   ]
  },
  {
   "cell_type": "code",
   "execution_count": 182,
   "id": "ultimate-grenada",
   "metadata": {},
   "outputs": [
    {
     "data": {
      "text/html": [
       "<div>\n",
       "<style scoped>\n",
       "    .dataframe tbody tr th:only-of-type {\n",
       "        vertical-align: middle;\n",
       "    }\n",
       "\n",
       "    .dataframe tbody tr th {\n",
       "        vertical-align: top;\n",
       "    }\n",
       "\n",
       "    .dataframe thead th {\n",
       "        text-align: right;\n",
       "    }\n",
       "</style>\n",
       "<table border=\"1\" class=\"dataframe\">\n",
       "  <thead>\n",
       "    <tr style=\"text-align: right;\">\n",
       "      <th></th>\n",
       "      <th>y_true</th>\n",
       "      <th>y_pred</th>\n",
       "    </tr>\n",
       "  </thead>\n",
       "  <tbody>\n",
       "    <tr>\n",
       "      <th>0</th>\n",
       "      <td>0.530321</td>\n",
       "      <td>0.550645</td>\n",
       "    </tr>\n",
       "    <tr>\n",
       "      <th>1</th>\n",
       "      <td>0.419656</td>\n",
       "      <td>0.433881</td>\n",
       "    </tr>\n",
       "    <tr>\n",
       "      <th>2</th>\n",
       "      <td>0.038516</td>\n",
       "      <td>0.041744</td>\n",
       "    </tr>\n",
       "    <tr>\n",
       "      <th>3</th>\n",
       "      <td>0.235395</td>\n",
       "      <td>0.237599</td>\n",
       "    </tr>\n",
       "    <tr>\n",
       "      <th>4</th>\n",
       "      <td>0.514771</td>\n",
       "      <td>0.520741</td>\n",
       "    </tr>\n",
       "    <tr>\n",
       "      <th>...</th>\n",
       "      <td>...</td>\n",
       "      <td>...</td>\n",
       "    </tr>\n",
       "    <tr>\n",
       "      <th>995</th>\n",
       "      <td>0.129675</td>\n",
       "      <td>0.135424</td>\n",
       "    </tr>\n",
       "    <tr>\n",
       "      <th>996</th>\n",
       "      <td>0.284575</td>\n",
       "      <td>0.292139</td>\n",
       "    </tr>\n",
       "    <tr>\n",
       "      <th>997</th>\n",
       "      <td>0.337983</td>\n",
       "      <td>0.345730</td>\n",
       "    </tr>\n",
       "    <tr>\n",
       "      <th>998</th>\n",
       "      <td>0.233335</td>\n",
       "      <td>0.236551</td>\n",
       "    </tr>\n",
       "    <tr>\n",
       "      <th>999</th>\n",
       "      <td>0.000440</td>\n",
       "      <td>0.000000</td>\n",
       "    </tr>\n",
       "  </tbody>\n",
       "</table>\n",
       "<p>1000 rows × 2 columns</p>\n",
       "</div>"
      ],
      "text/plain": [
       "       y_true    y_pred\n",
       "0    0.530321  0.550645\n",
       "1    0.419656  0.433881\n",
       "2    0.038516  0.041744\n",
       "3    0.235395  0.237599\n",
       "4    0.514771  0.520741\n",
       "..        ...       ...\n",
       "995  0.129675  0.135424\n",
       "996  0.284575  0.292139\n",
       "997  0.337983  0.345730\n",
       "998  0.233335  0.236551\n",
       "999  0.000440  0.000000\n",
       "\n",
       "[1000 rows x 2 columns]"
      ]
     },
     "execution_count": 182,
     "metadata": {},
     "output_type": "execute_result"
    }
   ],
   "source": [
    "y_df"
   ]
  },
  {
   "cell_type": "code",
   "execution_count": 183,
   "id": "virgin-wound",
   "metadata": {},
   "outputs": [
    {
     "data": {
      "image/png": "[encoded data removed]",
      "text/plain": [
       "<Figure size 864x576 with 1 Axes>"
      ]
     },
     "metadata": {
      "needs_background": "light"
     },
     "output_type": "display_data"
    }
   ],
   "source": [
    "plt.figure(figsize=(12,8))\n",
    "a = sns.scatterplot(y_test, y_predicted, legend='full')\n",
    "a.set_xlabel('True Values', fontsize=25)\n",
    "_ = a.set_ylabel('Predicted Values', fontsize=25)"
   ]
  },
  {
   "cell_type": "code",
   "execution_count": 184,
   "id": "violent-plain",
   "metadata": {},
   "outputs": [
    {
     "data": {
      "text/plain": [
       "Text(0.5, 0, 'Error(True-Predicted)')"
      ]
     },
     "execution_count": 184,
     "metadata": {},
     "output_type": "execute_result"
    },
    {
     "data": {
      "image/png": "[encoded data removed]",
      "text/plain": [
       "<Figure size 864x576 with 1 Axes>"
      ]
     },
     "metadata": {
      "needs_background": "light"
     },
     "output_type": "display_data"
    }
   ],
   "source": [
    "plt.figure(figsize=(12,8))\n",
    "b = sns.distplot(pd.Series(y_test-y_predicted, name=\"Error(True-Predicted)\"))\n",
    "b.set_xlabel('Error(True-Predicted)', fontsize=25)\n",
    "# _ = b.set_ylabel('# of Instances', fontsize=25)"
   ]
  },
  {
   "cell_type": "markdown",
   "id": "premium-processing",
   "metadata": {},
   "source": [
    "### Save the model"
   ]
  },
  {
   "cell_type": "code",
   "execution_count": 165,
   "id": "willing-nomination",
   "metadata": {},
   "outputs": [],
   "source": [
    "model.save(r'C:\\Ankit\\PythonProjects\\hackathon\\DeepLearning\\5ksamples.h5', save_format='tf')"
   ]
  },
  {
   "cell_type": "code",
   "execution_count": 167,
   "id": "english-rebel",
   "metadata": {},
   "outputs": [],
   "source": [
    "from tensorflow.keras.models import load_model"
   ]
  },
  {
   "cell_type": "code",
   "execution_count": 168,
   "id": "hybrid-triple",
   "metadata": {},
   "outputs": [],
   "source": [
    "later_model = load_model(r'C:\\Ankit\\PythonProjects\\hackathon\\DeepLearning\\5ksamples.h5', compile=False)"
   ]
  },
  {
   "cell_type": "code",
   "execution_count": 33,
   "id": "pressing-liechtenstein",
   "metadata": {},
   "outputs": [
    {
     "data": {
      "text/plain": [
       "array([0.26783845, 0.3217547 , 0.00570326, ..., 0.6660765 , 0.5195066 ,\n",
       "       0.4476939 ], dtype=float32)"
      ]
     },
     "execution_count": 33,
     "metadata": {},
     "output_type": "execute_result"
    }
   ],
   "source": [
    "later_model.predict(X_test).reshape(y_test.shape)"
   ]
  },
  {
   "cell_type": "code",
   "execution_count": 34,
   "id": "independent-product",
   "metadata": {},
   "outputs": [
    {
     "data": {
      "text/plain": [
       "array([0.26783845, 0.3217547 , 0.00570326, ..., 0.6660765 , 0.5195066 ,\n",
       "       0.4476939 ], dtype=float32)"
      ]
     },
     "execution_count": 34,
     "metadata": {},
     "output_type": "execute_result"
    }
   ],
   "source": [
    "y_predicted"
   ]
  },
  {
   "cell_type": "code",
   "execution_count": 35,
   "id": "compound-lawyer",
   "metadata": {},
   "outputs": [
    {
     "data": {
      "text/plain": [
       "(60000, 6)"
      ]
     },
     "execution_count": 35,
     "metadata": {},
     "output_type": "execute_result"
    }
   ],
   "source": [
    "X_test.shape"
   ]
  },
  {
   "cell_type": "code",
   "execution_count": 36,
   "id": "adaptive-tower",
   "metadata": {},
   "outputs": [
    {
     "data": {
      "text/plain": [
       "(6,)"
      ]
     },
     "execution_count": 36,
     "metadata": {},
     "output_type": "execute_result"
    }
   ],
   "source": [
    "X_test[0].shape"
   ]
  },
  {
   "cell_type": "code",
   "execution_count": 37,
   "id": "choice-bubble",
   "metadata": {},
   "outputs": [
    {
     "data": {
      "text/plain": [
       "array([[0.7821705 , 1.        , 2.52328767, 0.00792332, 0.67824267,\n",
       "        0.01849439]])"
      ]
     },
     "execution_count": 37,
     "metadata": {},
     "output_type": "execute_result"
    }
   ],
   "source": [
    "X_test[0:1]"
   ]
  },
  {
   "cell_type": "code",
   "execution_count": 38,
   "id": "accredited-container",
   "metadata": {},
   "outputs": [
    {
     "data": {
      "text/html": [
       "<div>\n",
       "<style scoped>\n",
       "    .dataframe tbody tr th:only-of-type {\n",
       "        vertical-align: middle;\n",
       "    }\n",
       "\n",
       "    .dataframe tbody tr th {\n",
       "        vertical-align: top;\n",
       "    }\n",
       "\n",
       "    .dataframe thead th {\n",
       "        text-align: right;\n",
       "    }\n",
       "</style>\n",
       "<table border=\"1\" class=\"dataframe\">\n",
       "  <thead>\n",
       "    <tr style=\"text-align: right;\">\n",
       "      <th></th>\n",
       "      <th>Stock Price</th>\n",
       "      <th>Strike Price</th>\n",
       "      <th>Maturity</th>\n",
       "      <th>Dividends</th>\n",
       "      <th>Volatility</th>\n",
       "      <th>Risk-free</th>\n",
       "      <th>Call Price</th>\n",
       "    </tr>\n",
       "  </thead>\n",
       "  <tbody>\n",
       "    <tr>\n",
       "      <th>0</th>\n",
       "      <td>1.062237</td>\n",
       "      <td>1.0</td>\n",
       "      <td>1.093151</td>\n",
       "      <td>0.005674</td>\n",
       "      <td>0.862692</td>\n",
       "      <td>0.058898</td>\n",
       "      <td>0.408642</td>\n",
       "    </tr>\n",
       "    <tr>\n",
       "      <th>1</th>\n",
       "      <td>1.076500</td>\n",
       "      <td>1.0</td>\n",
       "      <td>0.843836</td>\n",
       "      <td>0.020428</td>\n",
       "      <td>0.759562</td>\n",
       "      <td>0.080634</td>\n",
       "      <td>0.337843</td>\n",
       "    </tr>\n",
       "    <tr>\n",
       "      <th>2</th>\n",
       "      <td>0.849812</td>\n",
       "      <td>1.0</td>\n",
       "      <td>1.326027</td>\n",
       "      <td>0.019181</td>\n",
       "      <td>0.606436</td>\n",
       "      <td>0.042031</td>\n",
       "      <td>0.187719</td>\n",
       "    </tr>\n",
       "    <tr>\n",
       "      <th>3</th>\n",
       "      <td>0.904815</td>\n",
       "      <td>1.0</td>\n",
       "      <td>0.791781</td>\n",
       "      <td>0.028475</td>\n",
       "      <td>0.572696</td>\n",
       "      <td>0.036566</td>\n",
       "      <td>0.146312</td>\n",
       "    </tr>\n",
       "    <tr>\n",
       "      <th>4</th>\n",
       "      <td>0.859547</td>\n",
       "      <td>1.0</td>\n",
       "      <td>0.501370</td>\n",
       "      <td>0.009074</td>\n",
       "      <td>0.090578</td>\n",
       "      <td>0.044426</td>\n",
       "      <td>0.000397</td>\n",
       "    </tr>\n",
       "  </tbody>\n",
       "</table>\n",
       "</div>"
      ],
      "text/plain": [
       "   Stock Price  Strike Price  Maturity  Dividends  Volatility  Risk-free  \\\n",
       "0     1.062237           1.0  1.093151   0.005674    0.862692   0.058898   \n",
       "1     1.076500           1.0  0.843836   0.020428    0.759562   0.080634   \n",
       "2     0.849812           1.0  1.326027   0.019181    0.606436   0.042031   \n",
       "3     0.904815           1.0  0.791781   0.028475    0.572696   0.036566   \n",
       "4     0.859547           1.0  0.501370   0.009074    0.090578   0.044426   \n",
       "\n",
       "   Call Price  \n",
       "0    0.408642  \n",
       "1    0.337843  \n",
       "2    0.187719  \n",
       "3    0.146312  \n",
       "4    0.000397  "
      ]
     },
     "execution_count": 38,
     "metadata": {},
     "output_type": "execute_result"
    }
   ],
   "source": [
    "df.head()"
   ]
  },
  {
   "cell_type": "code",
   "execution_count": 39,
   "id": "complicated-processor",
   "metadata": {},
   "outputs": [
    {
     "data": {
      "text/plain": [
       "array([[0.40613532]], dtype=float32)"
      ]
     },
     "execution_count": 39,
     "metadata": {},
     "output_type": "execute_result"
    }
   ],
   "source": [
    "later_model.predict(np.array([1.062237, 1.0, 1.093151, 0.005674, 0.862692, 0.058898]).reshape((1,6)))"
   ]
  },
  {
   "cell_type": "code",
   "execution_count": 46,
   "id": "dying-young",
   "metadata": {},
   "outputs": [
    {
     "data": {
      "text/plain": [
       "array([[0.0799723]], dtype=float32)"
      ]
     },
     "execution_count": 46,
     "metadata": {},
     "output_type": "execute_result"
    }
   ],
   "source": [
    "later_model.predict(np.array([1.0, 1.0, 1, 0.0, 0.2, 0.0]).reshape((1,6)))"
   ]
  },
  {
   "cell_type": "code",
   "execution_count": 50,
   "id": "monthly-chance",
   "metadata": {},
   "outputs": [
    {
     "data": {
      "text/html": [
       "<div>\n",
       "<style scoped>\n",
       "    .dataframe tbody tr th:only-of-type {\n",
       "        vertical-align: middle;\n",
       "    }\n",
       "\n",
       "    .dataframe tbody tr th {\n",
       "        vertical-align: top;\n",
       "    }\n",
       "\n",
       "    .dataframe thead th {\n",
       "        text-align: right;\n",
       "    }\n",
       "</style>\n",
       "<table border=\"1\" class=\"dataframe\">\n",
       "  <thead>\n",
       "    <tr style=\"text-align: right;\">\n",
       "      <th></th>\n",
       "      <th>Stock Price</th>\n",
       "      <th>Strike Price</th>\n",
       "      <th>Maturity</th>\n",
       "      <th>Dividends</th>\n",
       "      <th>Volatility</th>\n",
       "      <th>Risk-free</th>\n",
       "      <th>Call Price</th>\n",
       "    </tr>\n",
       "  </thead>\n",
       "  <tbody>\n",
       "  </tbody>\n",
       "</table>\n",
       "</div>"
      ],
      "text/plain": [
       "Empty DataFrame\n",
       "Columns: [Stock Price, Strike Price, Maturity, Dividends, Volatility, Risk-free, Call Price]\n",
       "Index: []"
      ]
     },
     "execution_count": 50,
     "metadata": {},
     "output_type": "execute_result"
    }
   ],
   "source": [
    "df[(df['Stock Price'] > 0.49) & (df['Stock Price'] < 0.51)]"
   ]
  },
  {
   "cell_type": "code",
   "execution_count": 56,
   "id": "sitting-sector",
   "metadata": {},
   "outputs": [
    {
     "data": {
      "text/plain": [
       "count    300000.000000\n",
       "mean          1.031697\n",
       "std           0.185779\n",
       "min           0.769231\n",
       "25%           0.868780\n",
       "50%           0.999826\n",
       "75%           1.176731\n",
       "max           1.428564\n",
       "Name: Stock Price, dtype: float64"
      ]
     },
     "execution_count": 56,
     "metadata": {},
     "output_type": "execute_result"
    }
   ],
   "source": [
    "df['Stock Price'].describe()"
   ]
  },
  {
   "cell_type": "code",
   "execution_count": null,
   "id": "unable-jurisdiction",
   "metadata": {},
   "outputs": [],
   "source": []
  }
 ],
 "metadata": {
  "kernelspec": {
   "display_name": "Python 3",
   "language": "python",
   "name": "python3"
  },
  "language_info": {
   "codemirror_mode": {
    "name": "ipython",
    "version": 3
   },
   "file_extension": ".py",
   "mimetype": "text/x-python",
   "name": "python",
   "nbconvert_exporter": "python",
   "pygments_lexer": "ipython3",
   "version": "3.7.10"
  }
 },
 "nbformat": 4,
 "nbformat_minor": 5
}
