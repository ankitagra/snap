{
 "cells": [
  {
   "cell_type": "code",
   "execution_count": 1,
   "id": "transsexual-confusion",
   "metadata": {},
   "outputs": [],
   "source": [
    "import numpy as np\n",
    "import pandas as pd\n",
    "import matplotlib.pyplot as plt\n",
    "import seaborn as sns\n",
    "from pathlib import Path"
   ]
  },
  {
   "cell_type": "markdown",
   "id": "union-article",
   "metadata": {},
   "source": [
    "### Load the data and explore it!"
   ]
  },
  {
   "cell_type": "code",
   "execution_count": 171,
   "id": "close-flower",
   "metadata": {},
   "outputs": [],
   "source": [
    "df = pd.read_csv(str(Path(r'./Data/BS_training.csv')))"
   ]
  },
  {
   "cell_type": "code",
   "execution_count": 172,
   "id": "figured-submission",
   "metadata": {},
   "outputs": [],
   "source": [
    "df = df.drop(labels='Unnamed: 0', axis=1)"
   ]
  },
  {
   "cell_type": "code",
   "execution_count": 173,
   "id": "cloudy-dubai",
   "metadata": {},
   "outputs": [
    {
     "data": {
      "text/plain": [
       "300000"
      ]
     },
     "execution_count": 173,
     "metadata": {},
     "output_type": "execute_result"
    }
   ],
   "source": [
    "len(df)"
   ]
  },
  {
   "cell_type": "code",
   "execution_count": 174,
   "id": "occasional-membership",
   "metadata": {},
   "outputs": [],
   "source": [
    "df=df.sample(frac=30000/300000.0)"
   ]
  },
  {
   "cell_type": "code",
   "execution_count": 175,
   "id": "standing-singing",
   "metadata": {},
   "outputs": [
    {
     "data": {
      "text/plain": [
       "30000"
      ]
     },
     "execution_count": 175,
     "metadata": {},
     "output_type": "execute_result"
    }
   ],
   "source": [
    "len(df)"
   ]
  },
  {
   "cell_type": "code",
   "execution_count": 176,
   "id": "phantom-blend",
   "metadata": {},
   "outputs": [],
   "source": [
    "df['Stock Price'] = df['Stock Price'] / df['Strike Price']\n",
    "df['Call Price'] = df['Call Price'] / df['Strike Price']\n",
    "df['Strike Price'] = df['Strike Price'] / df['Strike Price']"
   ]
  },
  {
   "cell_type": "code",
   "execution_count": 177,
   "id": "united-dispute",
   "metadata": {},
   "outputs": [
    {
     "data": {
      "text/html": [
       "<div>\n",
       "<style scoped>\n",
       "    .dataframe tbody tr th:only-of-type {\n",
       "        vertical-align: middle;\n",
       "    }\n",
       "\n",
       "    .dataframe tbody tr th {\n",
       "        vertical-align: top;\n",
       "    }\n",
       "\n",
       "    .dataframe thead th {\n",
       "        text-align: right;\n",
       "    }\n",
       "</style>\n",
       "<table border=\"1\" class=\"dataframe\">\n",
       "  <thead>\n",
       "    <tr style=\"text-align: right;\">\n",
       "      <th></th>\n",
       "      <th>Stock Price</th>\n",
       "      <th>Strike Price</th>\n",
       "      <th>Maturity</th>\n",
       "      <th>Dividends</th>\n",
       "      <th>Volatility</th>\n",
       "      <th>Risk-free</th>\n",
       "      <th>Call Price</th>\n",
       "    </tr>\n",
       "  </thead>\n",
       "  <tbody>\n",
       "    <tr>\n",
       "      <th>195746</th>\n",
       "      <td>0.817411</td>\n",
       "      <td>1.0</td>\n",
       "      <td>2.175342</td>\n",
       "      <td>0.002682</td>\n",
       "      <td>0.208146</td>\n",
       "      <td>0.048203</td>\n",
       "      <td>0.066326</td>\n",
       "    </tr>\n",
       "    <tr>\n",
       "      <th>170930</th>\n",
       "      <td>1.347587</td>\n",
       "      <td>1.0</td>\n",
       "      <td>1.816438</td>\n",
       "      <td>0.009824</td>\n",
       "      <td>0.804841</td>\n",
       "      <td>0.033952</td>\n",
       "      <td>0.679252</td>\n",
       "    </tr>\n",
       "    <tr>\n",
       "      <th>249402</th>\n",
       "      <td>0.923804</td>\n",
       "      <td>1.0</td>\n",
       "      <td>2.745205</td>\n",
       "      <td>0.025334</td>\n",
       "      <td>0.058870</td>\n",
       "      <td>0.097671</td>\n",
       "      <td>0.101159</td>\n",
       "    </tr>\n",
       "    <tr>\n",
       "      <th>4048</th>\n",
       "      <td>1.013017</td>\n",
       "      <td>1.0</td>\n",
       "      <td>1.438356</td>\n",
       "      <td>0.007692</td>\n",
       "      <td>0.477727</td>\n",
       "      <td>0.033592</td>\n",
       "      <td>0.245719</td>\n",
       "    </tr>\n",
       "    <tr>\n",
       "      <th>264835</th>\n",
       "      <td>1.337654</td>\n",
       "      <td>1.0</td>\n",
       "      <td>2.336986</td>\n",
       "      <td>0.024381</td>\n",
       "      <td>0.889555</td>\n",
       "      <td>0.082856</td>\n",
       "      <td>0.766916</td>\n",
       "    </tr>\n",
       "  </tbody>\n",
       "</table>\n",
       "</div>"
      ],
      "text/plain": [
       "        Stock Price  Strike Price  Maturity  Dividends  Volatility  Risk-free  \\\n",
       "195746     0.817411           1.0  2.175342   0.002682    0.208146   0.048203   \n",
       "170930     1.347587           1.0  1.816438   0.009824    0.804841   0.033952   \n",
       "249402     0.923804           1.0  2.745205   0.025334    0.058870   0.097671   \n",
       "4048       1.013017           1.0  1.438356   0.007692    0.477727   0.033592   \n",
       "264835     1.337654           1.0  2.336986   0.024381    0.889555   0.082856   \n",
       "\n",
       "        Call Price  \n",
       "195746    0.066326  \n",
       "170930    0.679252  \n",
       "249402    0.101159  \n",
       "4048      0.245719  \n",
       "264835    0.766916  "
      ]
     },
     "execution_count": 177,
     "metadata": {},
     "output_type": "execute_result"
    }
   ],
   "source": [
    "df.head()"
   ]
  },
  {
   "cell_type": "code",
   "execution_count": 178,
   "id": "chicken-halifax",
   "metadata": {},
   "outputs": [
    {
     "name": "stdout",
     "output_type": "stream",
     "text": [
      "<class 'pandas.core.frame.DataFrame'>\n",
      "Int64Index: 30000 entries, 195746 to 114281\n",
      "Data columns (total 7 columns):\n",
      " #   Column        Non-Null Count  Dtype  \n",
      "---  ------        --------------  -----  \n",
      " 0   Stock Price   30000 non-null  float64\n",
      " 1   Strike Price  30000 non-null  float64\n",
      " 2   Maturity      30000 non-null  float64\n",
      " 3   Dividends     30000 non-null  float64\n",
      " 4   Volatility    30000 non-null  float64\n",
      " 5   Risk-free     30000 non-null  float64\n",
      " 6   Call Price    30000 non-null  float64\n",
      "dtypes: float64(7)\n",
      "memory usage: 1.8 MB\n"
     ]
    }
   ],
   "source": [
    "df.info()"
   ]
  },
  {
   "cell_type": "code",
   "execution_count": 179,
   "id": "better-conversion",
   "metadata": {},
   "outputs": [
    {
     "data": {
      "text/html": [
       "<div>\n",
       "<style scoped>\n",
       "    .dataframe tbody tr th:only-of-type {\n",
       "        vertical-align: middle;\n",
       "    }\n",
       "\n",
       "    .dataframe tbody tr th {\n",
       "        vertical-align: top;\n",
       "    }\n",
       "\n",
       "    .dataframe thead th {\n",
       "        text-align: right;\n",
       "    }\n",
       "</style>\n",
       "<table border=\"1\" class=\"dataframe\">\n",
       "  <thead>\n",
       "    <tr style=\"text-align: right;\">\n",
       "      <th></th>\n",
       "      <th>count</th>\n",
       "      <th>mean</th>\n",
       "      <th>std</th>\n",
       "      <th>min</th>\n",
       "      <th>25%</th>\n",
       "      <th>50%</th>\n",
       "      <th>75%</th>\n",
       "      <th>max</th>\n",
       "    </tr>\n",
       "  </thead>\n",
       "  <tbody>\n",
       "    <tr>\n",
       "      <th>Stock Price</th>\n",
       "      <td>30000.0</td>\n",
       "      <td>1.030882</td>\n",
       "      <td>0.186057</td>\n",
       "      <td>7.692335e-01</td>\n",
       "      <td>0.867703</td>\n",
       "      <td>0.998893</td>\n",
       "      <td>1.175450</td>\n",
       "      <td>1.428541</td>\n",
       "    </tr>\n",
       "    <tr>\n",
       "      <th>Strike Price</th>\n",
       "      <td>30000.0</td>\n",
       "      <td>1.000000</td>\n",
       "      <td>0.000000</td>\n",
       "      <td>1.000000e+00</td>\n",
       "      <td>1.000000</td>\n",
       "      <td>1.000000</td>\n",
       "      <td>1.000000</td>\n",
       "      <td>1.000000</td>\n",
       "    </tr>\n",
       "    <tr>\n",
       "      <th>Maturity</th>\n",
       "      <td>30000.0</td>\n",
       "      <td>1.495997</td>\n",
       "      <td>0.864876</td>\n",
       "      <td>2.739726e-03</td>\n",
       "      <td>0.747945</td>\n",
       "      <td>1.487671</td>\n",
       "      <td>2.241096</td>\n",
       "      <td>2.997260</td>\n",
       "    </tr>\n",
       "    <tr>\n",
       "      <th>Dividends</th>\n",
       "      <td>30000.0</td>\n",
       "      <td>0.015039</td>\n",
       "      <td>0.008646</td>\n",
       "      <td>3.185679e-07</td>\n",
       "      <td>0.007558</td>\n",
       "      <td>0.015084</td>\n",
       "      <td>0.022551</td>\n",
       "      <td>0.030000</td>\n",
       "    </tr>\n",
       "    <tr>\n",
       "      <th>Volatility</th>\n",
       "      <td>30000.0</td>\n",
       "      <td>0.474964</td>\n",
       "      <td>0.246884</td>\n",
       "      <td>5.000778e-02</td>\n",
       "      <td>0.259098</td>\n",
       "      <td>0.476032</td>\n",
       "      <td>0.690255</td>\n",
       "      <td>0.899902</td>\n",
       "    </tr>\n",
       "    <tr>\n",
       "      <th>Risk-free</th>\n",
       "      <td>30000.0</td>\n",
       "      <td>0.054775</td>\n",
       "      <td>0.025921</td>\n",
       "      <td>1.000161e-02</td>\n",
       "      <td>0.032407</td>\n",
       "      <td>0.054920</td>\n",
       "      <td>0.077020</td>\n",
       "      <td>0.099994</td>\n",
       "    </tr>\n",
       "    <tr>\n",
       "      <th>Call Price</th>\n",
       "      <td>30000.0</td>\n",
       "      <td>0.266404</td>\n",
       "      <td>0.179106</td>\n",
       "      <td>0.000000e+00</td>\n",
       "      <td>0.119825</td>\n",
       "      <td>0.249812</td>\n",
       "      <td>0.389308</td>\n",
       "      <td>0.913984</td>\n",
       "    </tr>\n",
       "  </tbody>\n",
       "</table>\n",
       "</div>"
      ],
      "text/plain": [
       "                count      mean       std           min       25%       50%  \\\n",
       "Stock Price   30000.0  1.030882  0.186057  7.692335e-01  0.867703  0.998893   \n",
       "Strike Price  30000.0  1.000000  0.000000  1.000000e+00  1.000000  1.000000   \n",
       "Maturity      30000.0  1.495997  0.864876  2.739726e-03  0.747945  1.487671   \n",
       "Dividends     30000.0  0.015039  0.008646  3.185679e-07  0.007558  0.015084   \n",
       "Volatility    30000.0  0.474964  0.246884  5.000778e-02  0.259098  0.476032   \n",
       "Risk-free     30000.0  0.054775  0.025921  1.000161e-02  0.032407  0.054920   \n",
       "Call Price    30000.0  0.266404  0.179106  0.000000e+00  0.119825  0.249812   \n",
       "\n",
       "                   75%       max  \n",
       "Stock Price   1.175450  1.428541  \n",
       "Strike Price  1.000000  1.000000  \n",
       "Maturity      2.241096  2.997260  \n",
       "Dividends     0.022551  0.030000  \n",
       "Volatility    0.690255  0.899902  \n",
       "Risk-free     0.077020  0.099994  \n",
       "Call Price    0.389308  0.913984  "
      ]
     },
     "execution_count": 179,
     "metadata": {},
     "output_type": "execute_result"
    }
   ],
   "source": [
    "df.describe().transpose()"
   ]
  },
  {
   "cell_type": "markdown",
   "id": "harmful-sessions",
   "metadata": {},
   "source": [
    "We dont do any kind of EDA here, since the data is simulated and regular. Nothing to explore here!"
   ]
  },
  {
   "cell_type": "markdown",
   "id": "elder-syndication",
   "metadata": {},
   "source": [
    "### Split the data into test-train"
   ]
  },
  {
   "cell_type": "code",
   "execution_count": 180,
   "id": "right-light",
   "metadata": {},
   "outputs": [],
   "source": [
    "from sklearn.model_selection import train_test_split"
   ]
  },
  {
   "cell_type": "code",
   "execution_count": 181,
   "id": "tamil-clone",
   "metadata": {},
   "outputs": [],
   "source": [
    "X = df.drop('Call Price', axis=1).values\n",
    "y = df['Call Price'].values"
   ]
  },
  {
   "cell_type": "code",
   "execution_count": 182,
   "id": "dirty-respondent",
   "metadata": {},
   "outputs": [
    {
     "data": {
      "text/plain": [
       "((30000, 6), (30000,))"
      ]
     },
     "execution_count": 182,
     "metadata": {},
     "output_type": "execute_result"
    }
   ],
   "source": [
    "X.shape, y.shape"
   ]
  },
  {
   "cell_type": "code",
   "execution_count": 183,
   "id": "mighty-diagram",
   "metadata": {},
   "outputs": [],
   "source": [
    "X_train, X_test, y_train, y_test = train_test_split(X, y, test_size=0.2, random_state=42)"
   ]
  },
  {
   "cell_type": "markdown",
   "id": "linear-alpha",
   "metadata": {},
   "source": [
    "### Scale the data"
   ]
  },
  {
   "cell_type": "code",
   "execution_count": 184,
   "id": "lightweight-india",
   "metadata": {},
   "outputs": [],
   "source": [
    "from sklearn.preprocessing import MinMaxScaler"
   ]
  },
  {
   "cell_type": "code",
   "execution_count": 185,
   "id": "antique-affiliate",
   "metadata": {},
   "outputs": [],
   "source": [
    "scaler = MinMaxScaler()"
   ]
  },
  {
   "cell_type": "code",
   "execution_count": 186,
   "id": "sixth-sentence",
   "metadata": {},
   "outputs": [],
   "source": [
    "#scaler.fit(X_train)"
   ]
  },
  {
   "cell_type": "code",
   "execution_count": 187,
   "id": "distinguished-quilt",
   "metadata": {},
   "outputs": [],
   "source": [
    "#X_train = scaler.transform(X_train)\n",
    "#X_test = scaler.transform(X_test)"
   ]
  },
  {
   "cell_type": "code",
   "execution_count": null,
   "id": "sapphire-ensemble",
   "metadata": {},
   "outputs": [],
   "source": []
  },
  {
   "cell_type": "code",
   "execution_count": 191,
   "id": "relative-cover",
   "metadata": {},
   "outputs": [],
   "source": [
    "from tensorflow.keras.models import Sequential\n",
    "from tensorflow.keras.layers import Dense"
   ]
  },
  {
   "cell_type": "code",
   "execution_count": 192,
   "id": "tender-melbourne",
   "metadata": {},
   "outputs": [],
   "source": [
    "model = Sequential()\n",
    "\n",
    "model.add(Dense(6, activation='relu', input_shape=(6,)))\n",
    "model.add(Dense(40, activation='relu'))\n",
    "model.add(Dense(40, activation='relu'))\n",
    "model.add(Dense(20, activation='relu'))\n",
    "\n",
    "model.add(Dense(1, activation='relu'))\n",
    "\n",
    "model.compile(optimizer='adam', loss='mse')"
   ]
  },
  {
   "cell_type": "code",
   "execution_count": 193,
   "id": "elect-health",
   "metadata": {},
   "outputs": [
    {
     "name": "stdout",
     "output_type": "stream",
     "text": [
      "Model: \"sequential_10\"\n",
      "_________________________________________________________________\n",
      "Layer (type)                 Output Shape              Param #   \n",
      "=================================================================\n",
      "dense_50 (Dense)             (None, 6)                 42        \n",
      "_________________________________________________________________\n",
      "dense_51 (Dense)             (None, 40)                280       \n",
      "_________________________________________________________________\n",
      "dense_52 (Dense)             (None, 40)                1640      \n",
      "_________________________________________________________________\n",
      "dense_53 (Dense)             (None, 20)                820       \n",
      "_________________________________________________________________\n",
      "dense_54 (Dense)             (None, 1)                 21        \n",
      "=================================================================\n",
      "Total params: 2,803\n",
      "Trainable params: 2,803\n",
      "Non-trainable params: 0\n",
      "_________________________________________________________________\n"
     ]
    }
   ],
   "source": [
    "model.summary()"
   ]
  },
  {
   "cell_type": "code",
   "execution_count": 194,
   "id": "vocational-container",
   "metadata": {},
   "outputs": [],
   "source": [
    "from tensorflow.keras.callbacks import EarlyStopping\n",
    "early_stop = EarlyStopping(monitor='val_loss', mode='min', patience=20)"
   ]
  },
  {
   "cell_type": "code",
   "execution_count": 195,
   "id": "former-agenda",
   "metadata": {},
   "outputs": [
    {
     "name": "stdout",
     "output_type": "stream",
     "text": [
      "Train on 24000 samples, validate on 6000 samples\n",
      "Epoch 1/100\n",
      "24000/24000 [==============================] - 1s 35us/sample - loss: 0.0022 - val_loss: 2.8541e-04\n",
      "Epoch 2/100\n",
      "24000/24000 [==============================] - 0s 16us/sample - loss: 1.6971e-04 - val_loss: 1.7972e-04\n",
      "Epoch 3/100\n",
      "24000/24000 [==============================] - 0s 16us/sample - loss: 1.5076e-04 - val_loss: 1.7447e-04\n",
      "Epoch 4/100\n",
      "24000/24000 [==============================] - 0s 16us/sample - loss: 1.3975e-04 - val_loss: 1.4264e-04\n",
      "Epoch 5/100\n",
      "24000/24000 [==============================] - 0s 15us/sample - loss: 1.2479e-04 - val_loss: 1.0596e-04\n",
      "Epoch 6/100\n",
      "24000/24000 [==============================] - 0s 16us/sample - loss: 1.1055e-04 - val_loss: 8.6726e-05\n",
      "Epoch 7/100\n",
      "24000/24000 [==============================] - 0s 15us/sample - loss: 1.0601e-04 - val_loss: 8.8007e-05\n",
      "Epoch 8/100\n",
      "24000/24000 [==============================] - 0s 15us/sample - loss: 1.0369e-04 - val_loss: 7.2145e-05\n",
      "Epoch 9/100\n",
      "24000/24000 [==============================] - 0s 15us/sample - loss: 8.0090e-05 - val_loss: 6.1928e-05\n",
      "Epoch 10/100\n",
      "24000/24000 [==============================] - 0s 16us/sample - loss: 7.0609e-05 - val_loss: 7.0660e-05\n",
      "Epoch 11/100\n",
      "24000/24000 [==============================] - 0s 15us/sample - loss: 6.2599e-05 - val_loss: 5.0315e-05\n",
      "Epoch 12/100\n",
      "24000/24000 [==============================] - 0s 15us/sample - loss: 5.5567e-05 - val_loss: 3.8472e-05\n",
      "Epoch 13/100\n",
      "24000/24000 [==============================] - 0s 15us/sample - loss: 5.6194e-05 - val_loss: 5.0479e-05\n",
      "Epoch 14/100\n",
      "24000/24000 [==============================] - 0s 16us/sample - loss: 4.9746e-05 - val_loss: 3.7275e-05\n",
      "Epoch 15/100\n",
      "24000/24000 [==============================] - 0s 15us/sample - loss: 4.4546e-05 - val_loss: 3.8546e-05\n",
      "Epoch 16/100\n",
      "24000/24000 [==============================] - 0s 15us/sample - loss: 4.2898e-05 - val_loss: 7.1755e-05\n",
      "Epoch 17/100\n",
      "24000/24000 [==============================] - 0s 15us/sample - loss: 3.6868e-05 - val_loss: 5.4016e-05\n",
      "Epoch 18/100\n",
      "24000/24000 [==============================] - 0s 16us/sample - loss: 3.7009e-05 - val_loss: 4.1639e-05\n",
      "Epoch 19/100\n",
      "24000/24000 [==============================] - 0s 15us/sample - loss: 3.9984e-05 - val_loss: 2.9101e-05\n",
      "Epoch 20/100\n",
      "24000/24000 [==============================] - 0s 16us/sample - loss: 3.7746e-05 - val_loss: 2.3969e-05\n",
      "Epoch 21/100\n",
      "24000/24000 [==============================] - 0s 15us/sample - loss: 3.5982e-05 - val_loss: 2.9565e-05\n",
      "Epoch 22/100\n",
      "24000/24000 [==============================] - 0s 16us/sample - loss: 3.7120e-05 - val_loss: 2.9400e-05\n",
      "Epoch 23/100\n",
      "24000/24000 [==============================] - 0s 15us/sample - loss: 3.3185e-05 - val_loss: 2.4382e-05\n",
      "Epoch 24/100\n",
      "24000/24000 [==============================] - 0s 15us/sample - loss: 3.3755e-05 - val_loss: 2.4632e-05\n",
      "Epoch 25/100\n",
      "24000/24000 [==============================] - 0s 16us/sample - loss: 3.1656e-05 - val_loss: 2.0135e-05\n",
      "Epoch 26/100\n",
      "24000/24000 [==============================] - 0s 16us/sample - loss: 2.9905e-05 - val_loss: 2.0950e-05\n",
      "Epoch 27/100\n",
      "24000/24000 [==============================] - 0s 15us/sample - loss: 2.9527e-05 - val_loss: 3.8587e-05\n",
      "Epoch 28/100\n",
      "24000/24000 [==============================] - 0s 15us/sample - loss: 3.1077e-05 - val_loss: 2.6725e-05\n",
      "Epoch 29/100\n",
      "24000/24000 [==============================] - 0s 16us/sample - loss: 3.1146e-05 - val_loss: 2.0304e-05\n",
      "Epoch 30/100\n",
      "24000/24000 [==============================] - 0s 16us/sample - loss: 2.8522e-05 - val_loss: 2.1917e-05\n",
      "Epoch 31/100\n",
      "24000/24000 [==============================] - 0s 15us/sample - loss: 3.2085e-05 - val_loss: 2.2729e-05\n",
      "Epoch 32/100\n",
      "24000/24000 [==============================] - 0s 15us/sample - loss: 2.6558e-05 - val_loss: 1.7492e-05\n",
      "Epoch 33/100\n",
      "24000/24000 [==============================] - 0s 16us/sample - loss: 2.7811e-05 - val_loss: 3.1443e-05\n",
      "Epoch 34/100\n",
      "24000/24000 [==============================] - 0s 16us/sample - loss: 2.3004e-05 - val_loss: 1.8875e-05\n",
      "Epoch 35/100\n",
      "24000/24000 [==============================] - 0s 15us/sample - loss: 2.6979e-05 - val_loss: 3.2909e-05\n",
      "Epoch 36/100\n",
      "24000/24000 [==============================] - 0s 15us/sample - loss: 2.3793e-05 - val_loss: 2.0342e-05\n",
      "Epoch 37/100\n",
      "24000/24000 [==============================] - 0s 16us/sample - loss: 2.9684e-05 - val_loss: 5.8112e-05\n",
      "Epoch 38/100\n",
      "24000/24000 [==============================] - 0s 16us/sample - loss: 2.4260e-05 - val_loss: 1.9700e-05\n",
      "Epoch 39/100\n",
      "24000/24000 [==============================] - 0s 15us/sample - loss: 2.4175e-05 - val_loss: 1.4223e-05\n",
      "Epoch 40/100\n",
      "24000/24000 [==============================] - 0s 15us/sample - loss: 2.5769e-05 - val_loss: 2.3298e-05\n",
      "Epoch 41/100\n",
      "24000/24000 [==============================] - 0s 16us/sample - loss: 1.9880e-05 - val_loss: 1.8447e-05\n",
      "Epoch 42/100\n",
      "24000/24000 [==============================] - 0s 15us/sample - loss: 2.5819e-05 - val_loss: 2.0165e-05\n",
      "Epoch 43/100\n",
      "24000/24000 [==============================] - 0s 15us/sample - loss: 2.2006e-05 - val_loss: 1.9998e-05\n",
      "Epoch 44/100\n",
      "24000/24000 [==============================] - 0s 15us/sample - loss: 1.9064e-05 - val_loss: 4.4708e-05\n",
      "Epoch 45/100\n",
      "24000/24000 [==============================] - 0s 16us/sample - loss: 2.2312e-05 - val_loss: 1.2857e-05\n",
      "Epoch 46/100\n",
      "24000/24000 [==============================] - 0s 15us/sample - loss: 1.9167e-05 - val_loss: 2.8547e-05\n",
      "Epoch 47/100\n",
      "24000/24000 [==============================] - 0s 15us/sample - loss: 2.1564e-05 - val_loss: 6.5720e-05\n",
      "Epoch 48/100\n",
      "24000/24000 [==============================] - 0s 15us/sample - loss: 1.9776e-05 - val_loss: 1.3850e-05\n",
      "Epoch 49/100\n",
      "24000/24000 [==============================] - 0s 16us/sample - loss: 1.9239e-05 - val_loss: 1.9372e-05\n",
      "Epoch 50/100\n",
      "24000/24000 [==============================] - 0s 15us/sample - loss: 1.8203e-05 - val_loss: 2.6212e-05\n",
      "Epoch 51/100\n",
      "24000/24000 [==============================] - 0s 15us/sample - loss: 2.2649e-05 - val_loss: 1.5922e-05\n",
      "Epoch 52/100\n",
      "24000/24000 [==============================] - 0s 15us/sample - loss: 2.1484e-05 - val_loss: 2.6908e-05\n",
      "Epoch 53/100\n",
      "24000/24000 [==============================] - 0s 16us/sample - loss: 1.6332e-05 - val_loss: 2.1753e-05\n",
      "Epoch 54/100\n",
      "24000/24000 [==============================] - 0s 15us/sample - loss: 1.9368e-05 - val_loss: 1.3738e-05\n",
      "Epoch 55/100\n",
      "24000/24000 [==============================] - 0s 15us/sample - loss: 1.7567e-05 - val_loss: 3.4242e-05\n",
      "Epoch 56/100\n",
      "24000/24000 [==============================] - 0s 15us/sample - loss: 1.6751e-05 - val_loss: 1.4560e-05\n",
      "Epoch 57/100\n",
      "24000/24000 [==============================] - 0s 16us/sample - loss: 1.9470e-05 - val_loss: 2.1994e-05\n",
      "Epoch 58/100\n",
      "24000/24000 [==============================] - 0s 17us/sample - loss: 1.6708e-05 - val_loss: 1.2929e-05\n",
      "Epoch 59/100\n",
      "24000/24000 [==============================] - 0s 15us/sample - loss: 1.7020e-05 - val_loss: 1.2652e-05\n",
      "Epoch 60/100\n",
      "24000/24000 [==============================] - 0s 16us/sample - loss: 1.4484e-05 - val_loss: 1.6231e-05\n",
      "Epoch 61/100\n",
      "24000/24000 [==============================] - 0s 16us/sample - loss: 1.4102e-05 - val_loss: 1.3009e-05\n",
      "Epoch 62/100\n",
      "24000/24000 [==============================] - 0s 16us/sample - loss: 1.5159e-05 - val_loss: 9.0798e-06\n",
      "Epoch 63/100\n",
      "24000/24000 [==============================] - 0s 16us/sample - loss: 1.7118e-05 - val_loss: 1.2205e-05\n",
      "Epoch 64/100\n",
      "24000/24000 [==============================] - 0s 17us/sample - loss: 1.5265e-05 - val_loss: 1.4724e-05\n",
      "Epoch 65/100\n",
      "24000/24000 [==============================] - 0s 16us/sample - loss: 1.6633e-05 - val_loss: 1.1234e-05\n",
      "Epoch 66/100\n",
      "24000/24000 [==============================] - 0s 16us/sample - loss: 1.7502e-05 - val_loss: 1.0482e-05\n",
      "Epoch 67/100\n",
      "24000/24000 [==============================] - 0s 18us/sample - loss: 1.5155e-05 - val_loss: 1.7143e-05\n",
      "Epoch 68/100\n",
      "24000/24000 [==============================] - 0s 17us/sample - loss: 1.3435e-05 - val_loss: 9.4139e-06\n",
      "Epoch 69/100\n",
      "24000/24000 [==============================] - 0s 15us/sample - loss: 1.3982e-05 - val_loss: 1.0853e-05\n",
      "Epoch 70/100\n"
     ]
    },
    {
     "name": "stdout",
     "output_type": "stream",
     "text": [
      "24000/24000 [==============================] - 0s 15us/sample - loss: 1.2841e-05 - val_loss: 1.1868e-05\n",
      "Epoch 71/100\n",
      "24000/24000 [==============================] - 0s 16us/sample - loss: 1.8598e-05 - val_loss: 2.6035e-05\n",
      "Epoch 72/100\n",
      "24000/24000 [==============================] - 0s 16us/sample - loss: 1.3851e-05 - val_loss: 1.1204e-05\n",
      "Epoch 73/100\n",
      "24000/24000 [==============================] - 0s 15us/sample - loss: 1.4406e-05 - val_loss: 1.7230e-05\n",
      "Epoch 74/100\n",
      "24000/24000 [==============================] - 0s 15us/sample - loss: 1.3472e-05 - val_loss: 2.7825e-05\n",
      "Epoch 75/100\n",
      "24000/24000 [==============================] - 0s 15us/sample - loss: 1.4871e-05 - val_loss: 7.4754e-06\n",
      "Epoch 76/100\n",
      "24000/24000 [==============================] - 0s 16us/sample - loss: 1.1565e-05 - val_loss: 7.1744e-06\n",
      "Epoch 77/100\n",
      "24000/24000 [==============================] - 0s 15us/sample - loss: 1.5674e-05 - val_loss: 3.9635e-05\n",
      "Epoch 78/100\n",
      "24000/24000 [==============================] - 0s 15us/sample - loss: 1.3418e-05 - val_loss: 7.9733e-06\n",
      "Epoch 79/100\n",
      "24000/24000 [==============================] - 0s 15us/sample - loss: 1.4778e-05 - val_loss: 7.4199e-06\n",
      "Epoch 80/100\n",
      "24000/24000 [==============================] - 0s 16us/sample - loss: 1.1937e-05 - val_loss: 1.2223e-05\n",
      "Epoch 81/100\n",
      "24000/24000 [==============================] - 0s 15us/sample - loss: 1.0653e-05 - val_loss: 8.5345e-06\n",
      "Epoch 82/100\n",
      "24000/24000 [==============================] - 0s 15us/sample - loss: 1.2737e-05 - val_loss: 1.6409e-05\n",
      "Epoch 83/100\n",
      "24000/24000 [==============================] - 0s 15us/sample - loss: 1.2658e-05 - val_loss: 7.0833e-06\n",
      "Epoch 84/100\n",
      "24000/24000 [==============================] - 0s 18us/sample - loss: 1.2030e-05 - val_loss: 6.9664e-06\n",
      "Epoch 85/100\n",
      "24000/24000 [==============================] - 0s 18us/sample - loss: 1.2830e-05 - val_loss: 2.4809e-05\n",
      "Epoch 86/100\n",
      "24000/24000 [==============================] - 0s 18us/sample - loss: 1.2445e-05 - val_loss: 1.0217e-05\n",
      "Epoch 87/100\n",
      "24000/24000 [==============================] - 0s 16us/sample - loss: 1.0869e-05 - val_loss: 6.6125e-06\n",
      "Epoch 88/100\n",
      "24000/24000 [==============================] - 0s 15us/sample - loss: 1.4177e-05 - val_loss: 1.4016e-05\n",
      "Epoch 89/100\n",
      "24000/24000 [==============================] - 0s 15us/sample - loss: 1.0053e-05 - val_loss: 7.5690e-06\n",
      "Epoch 90/100\n",
      "24000/24000 [==============================] - 0s 15us/sample - loss: 1.2596e-05 - val_loss: 1.2744e-05\n",
      "Epoch 91/100\n",
      "24000/24000 [==============================] - 0s 16us/sample - loss: 1.2637e-05 - val_loss: 1.0341e-05\n",
      "Epoch 92/100\n",
      "24000/24000 [==============================] - 0s 15us/sample - loss: 1.0705e-05 - val_loss: 6.9449e-06\n",
      "Epoch 93/100\n",
      "24000/24000 [==============================] - 0s 15us/sample - loss: 1.3867e-05 - val_loss: 1.3080e-05\n",
      "Epoch 94/100\n",
      "24000/24000 [==============================] - 0s 16us/sample - loss: 9.3189e-06 - val_loss: 7.1846e-06\n",
      "Epoch 95/100\n",
      "24000/24000 [==============================] - 0s 16us/sample - loss: 1.0656e-05 - val_loss: 1.8172e-05\n",
      "Epoch 96/100\n",
      "24000/24000 [==============================] - 0s 15us/sample - loss: 1.2355e-05 - val_loss: 5.8550e-06\n",
      "Epoch 97/100\n",
      "24000/24000 [==============================] - 0s 15us/sample - loss: 1.0609e-05 - val_loss: 1.1619e-05\n",
      "Epoch 98/100\n",
      "24000/24000 [==============================] - 0s 16us/sample - loss: 1.1382e-05 - val_loss: 2.1935e-05\n",
      "Epoch 99/100\n",
      "24000/24000 [==============================] - 0s 16us/sample - loss: 1.0694e-05 - val_loss: 7.3696e-06\n",
      "Epoch 100/100\n",
      "24000/24000 [==============================] - 0s 15us/sample - loss: 1.2944e-05 - val_loss: 7.0049e-06\n"
     ]
    },
    {
     "data": {
      "text/plain": [
       "<tensorflow.python.keras.callbacks.History at 0x227746d1e08>"
      ]
     },
     "execution_count": 195,
     "metadata": {},
     "output_type": "execute_result"
    }
   ],
   "source": [
    "model.fit(x=X_train, y=y_train, batch_size=64, epochs=100, \n",
    "          callbacks=[early_stop], validation_data=(X_test, y_test))"
   ]
  },
  {
   "cell_type": "markdown",
   "id": "funny-grass",
   "metadata": {},
   "source": [
    "### Evaluating the model"
   ]
  },
  {
   "cell_type": "code",
   "execution_count": 196,
   "id": "streaming-killing",
   "metadata": {},
   "outputs": [
    {
     "data": {
      "text/plain": [
       "<matplotlib.axes._subplots.AxesSubplot at 0x22774e35e08>"
      ]
     },
     "execution_count": 196,
     "metadata": {},
     "output_type": "execute_result"
    },
    {
     "data": {
      "image/png": "[encoded data removed]",
      "text/plain": [
       "<Figure size 432x288 with 1 Axes>"
      ]
     },
     "metadata": {
      "needs_background": "light"
     },
     "output_type": "display_data"
    }
   ],
   "source": [
    "pd.DataFrame(model.history.history).plot()"
   ]
  },
  {
   "cell_type": "code",
   "execution_count": 197,
   "id": "greek-aside",
   "metadata": {},
   "outputs": [],
   "source": [
    "y_pred_train = model.predict(x=X_train)"
   ]
  },
  {
   "cell_type": "code",
   "execution_count": 198,
   "id": "gothic-lyric",
   "metadata": {},
   "outputs": [],
   "source": [
    "y_train_results = pd.concat([pd.Series(y_pred_train.reshape(y_train.shape), name='y_pred'), \n",
    "                             pd.Series(y_train, name='y_true')], \n",
    "                            axis=1)"
   ]
  },
  {
   "cell_type": "code",
   "execution_count": 199,
   "id": "immediate-appearance",
   "metadata": {},
   "outputs": [
    {
     "data": {
      "text/html": [
       "<div>\n",
       "<style scoped>\n",
       "    .dataframe tbody tr th:only-of-type {\n",
       "        vertical-align: middle;\n",
       "    }\n",
       "\n",
       "    .dataframe tbody tr th {\n",
       "        vertical-align: top;\n",
       "    }\n",
       "\n",
       "    .dataframe thead th {\n",
       "        text-align: right;\n",
       "    }\n",
       "</style>\n",
       "<table border=\"1\" class=\"dataframe\">\n",
       "  <thead>\n",
       "    <tr style=\"text-align: right;\">\n",
       "      <th></th>\n",
       "      <th>y_pred</th>\n",
       "      <th>y_true</th>\n",
       "    </tr>\n",
       "  </thead>\n",
       "  <tbody>\n",
       "    <tr>\n",
       "      <th>0</th>\n",
       "      <td>0.376538</td>\n",
       "      <td>0.377541</td>\n",
       "    </tr>\n",
       "    <tr>\n",
       "      <th>1</th>\n",
       "      <td>0.325500</td>\n",
       "      <td>0.324161</td>\n",
       "    </tr>\n",
       "    <tr>\n",
       "      <th>2</th>\n",
       "      <td>0.246734</td>\n",
       "      <td>0.253823</td>\n",
       "    </tr>\n",
       "    <tr>\n",
       "      <th>3</th>\n",
       "      <td>0.208641</td>\n",
       "      <td>0.209414</td>\n",
       "    </tr>\n",
       "    <tr>\n",
       "      <th>4</th>\n",
       "      <td>0.346011</td>\n",
       "      <td>0.347020</td>\n",
       "    </tr>\n",
       "  </tbody>\n",
       "</table>\n",
       "</div>"
      ],
      "text/plain": [
       "     y_pred    y_true\n",
       "0  0.376538  0.377541\n",
       "1  0.325500  0.324161\n",
       "2  0.246734  0.253823\n",
       "3  0.208641  0.209414\n",
       "4  0.346011  0.347020"
      ]
     },
     "execution_count": 199,
     "metadata": {},
     "output_type": "execute_result"
    }
   ],
   "source": [
    "y_train_results.head()"
   ]
  },
  {
   "cell_type": "code",
   "execution_count": 200,
   "id": "following-priest",
   "metadata": {},
   "outputs": [],
   "source": [
    "from sklearn.metrics import mean_absolute_error, mean_squared_error, explained_variance_score"
   ]
  },
  {
   "cell_type": "code",
   "execution_count": 201,
   "id": "dedicated-cache",
   "metadata": {},
   "outputs": [],
   "source": [
    "y_predicted = model.predict(X_test).reshape(y_test.shape)"
   ]
  },
  {
   "cell_type": "code",
   "execution_count": 202,
   "id": "numeric-bedroom",
   "metadata": {},
   "outputs": [
    {
     "data": {
      "text/plain": [
       "0.0019962912707463913"
      ]
     },
     "execution_count": 202,
     "metadata": {},
     "output_type": "execute_result"
    }
   ],
   "source": [
    "mean_absolute_error(y_true=y_test, y_pred=y_predicted)"
   ]
  },
  {
   "cell_type": "code",
   "execution_count": 204,
   "id": "behavioral-clearing",
   "metadata": {},
   "outputs": [
    {
     "data": {
      "text/plain": [
       "7.004938183150339e-06"
      ]
     },
     "execution_count": 204,
     "metadata": {},
     "output_type": "execute_result"
    }
   ],
   "source": [
    "mean_squared_error(y_true=y_test, y_pred=y_predicted)"
   ]
  },
  {
   "cell_type": "code",
   "execution_count": 205,
   "id": "academic-peripheral",
   "metadata": {},
   "outputs": [],
   "source": [
    "y_df = pd.concat([pd.Series(y_test, name='y_true'), pd.Series(y_predicted, name='y_pred')], axis=1)"
   ]
  },
  {
   "cell_type": "code",
   "execution_count": 206,
   "id": "ultimate-grenada",
   "metadata": {},
   "outputs": [
    {
     "data": {
      "text/html": [
       "<div>\n",
       "<style scoped>\n",
       "    .dataframe tbody tr th:only-of-type {\n",
       "        vertical-align: middle;\n",
       "    }\n",
       "\n",
       "    .dataframe tbody tr th {\n",
       "        vertical-align: top;\n",
       "    }\n",
       "\n",
       "    .dataframe thead th {\n",
       "        text-align: right;\n",
       "    }\n",
       "</style>\n",
       "<table border=\"1\" class=\"dataframe\">\n",
       "  <thead>\n",
       "    <tr style=\"text-align: right;\">\n",
       "      <th></th>\n",
       "      <th>y_true</th>\n",
       "      <th>y_pred</th>\n",
       "    </tr>\n",
       "  </thead>\n",
       "  <tbody>\n",
       "    <tr>\n",
       "      <th>0</th>\n",
       "      <td>0.175531</td>\n",
       "      <td>0.177384</td>\n",
       "    </tr>\n",
       "    <tr>\n",
       "      <th>1</th>\n",
       "      <td>0.103601</td>\n",
       "      <td>0.104202</td>\n",
       "    </tr>\n",
       "    <tr>\n",
       "      <th>2</th>\n",
       "      <td>0.376869</td>\n",
       "      <td>0.383250</td>\n",
       "    </tr>\n",
       "    <tr>\n",
       "      <th>3</th>\n",
       "      <td>0.351353</td>\n",
       "      <td>0.357397</td>\n",
       "    </tr>\n",
       "    <tr>\n",
       "      <th>4</th>\n",
       "      <td>0.048627</td>\n",
       "      <td>0.048190</td>\n",
       "    </tr>\n",
       "    <tr>\n",
       "      <th>...</th>\n",
       "      <td>...</td>\n",
       "      <td>...</td>\n",
       "    </tr>\n",
       "    <tr>\n",
       "      <th>5995</th>\n",
       "      <td>0.388945</td>\n",
       "      <td>0.388959</td>\n",
       "    </tr>\n",
       "    <tr>\n",
       "      <th>5996</th>\n",
       "      <td>0.285500</td>\n",
       "      <td>0.285509</td>\n",
       "    </tr>\n",
       "    <tr>\n",
       "      <th>5997</th>\n",
       "      <td>0.446342</td>\n",
       "      <td>0.447372</td>\n",
       "    </tr>\n",
       "    <tr>\n",
       "      <th>5998</th>\n",
       "      <td>0.419554</td>\n",
       "      <td>0.417331</td>\n",
       "    </tr>\n",
       "    <tr>\n",
       "      <th>5999</th>\n",
       "      <td>0.480938</td>\n",
       "      <td>0.482125</td>\n",
       "    </tr>\n",
       "  </tbody>\n",
       "</table>\n",
       "<p>6000 rows × 2 columns</p>\n",
       "</div>"
      ],
      "text/plain": [
       "        y_true    y_pred\n",
       "0     0.175531  0.177384\n",
       "1     0.103601  0.104202\n",
       "2     0.376869  0.383250\n",
       "3     0.351353  0.357397\n",
       "4     0.048627  0.048190\n",
       "...        ...       ...\n",
       "5995  0.388945  0.388959\n",
       "5996  0.285500  0.285509\n",
       "5997  0.446342  0.447372\n",
       "5998  0.419554  0.417331\n",
       "5999  0.480938  0.482125\n",
       "\n",
       "[6000 rows x 2 columns]"
      ]
     },
     "execution_count": 206,
     "metadata": {},
     "output_type": "execute_result"
    }
   ],
   "source": [
    "y_df"
   ]
  },
  {
   "cell_type": "code",
   "execution_count": 207,
   "id": "virgin-wound",
   "metadata": {},
   "outputs": [
    {
     "data": {
      "image/png": "[encoded data removed]",
      "text/plain": [
       "<Figure size 864x576 with 1 Axes>"
      ]
     },
     "metadata": {
      "needs_background": "light"
     },
     "output_type": "display_data"
    }
   ],
   "source": [
    "plt.figure(figsize=(12,8))\n",
    "a = sns.scatterplot(y_test, y_predicted, legend='full')\n",
    "a.set_xlabel('True Values', fontsize=25)\n",
    "_ = a.set_ylabel('Predicted Values', fontsize=25)"
   ]
  },
  {
   "cell_type": "code",
   "execution_count": 208,
   "id": "violent-plain",
   "metadata": {},
   "outputs": [
    {
     "data": {
      "text/plain": [
       "Text(0.5, 0, 'Error(True-Predicted)')"
      ]
     },
     "execution_count": 208,
     "metadata": {},
     "output_type": "execute_result"
    },
    {
     "data": {
      "image/png": "[encoded data removed]",
      "text/plain": [
       "<Figure size 864x576 with 1 Axes>"
      ]
     },
     "metadata": {
      "needs_background": "light"
     },
     "output_type": "display_data"
    }
   ],
   "source": [
    "plt.figure(figsize=(12,8))\n",
    "b = sns.distplot(pd.Series(y_test-y_predicted, name=\"Error(True-Predicted)\"))\n",
    "b.set_xlabel('Error(True-Predicted)', fontsize=25)\n",
    "# _ = b.set_ylabel('# of Instances', fontsize=25)"
   ]
  },
  {
   "cell_type": "markdown",
   "id": "premium-processing",
   "metadata": {},
   "source": [
    "### Save the model"
   ]
  },
  {
   "cell_type": "code",
   "execution_count": 165,
   "id": "willing-nomination",
   "metadata": {},
   "outputs": [],
   "source": [
    "model.save(r'C:\\Ankit\\PythonProjects\\hackathon\\DeepLearning\\5ksamples.h5', save_format='tf')"
   ]
  },
  {
   "cell_type": "code",
   "execution_count": 167,
   "id": "english-rebel",
   "metadata": {},
   "outputs": [],
   "source": [
    "from tensorflow.keras.models import load_model"
   ]
  },
  {
   "cell_type": "code",
   "execution_count": 168,
   "id": "hybrid-triple",
   "metadata": {},
   "outputs": [],
   "source": [
    "later_model = load_model(r'C:\\Ankit\\PythonProjects\\hackathon\\DeepLearning\\5ksamples.h5', compile=False)"
   ]
  },
  {
   "cell_type": "code",
   "execution_count": 33,
   "id": "pressing-liechtenstein",
   "metadata": {},
   "outputs": [
    {
     "data": {
      "text/plain": [
       "array([0.26783845, 0.3217547 , 0.00570326, ..., 0.6660765 , 0.5195066 ,\n",
       "       0.4476939 ], dtype=float32)"
      ]
     },
     "execution_count": 33,
     "metadata": {},
     "output_type": "execute_result"
    }
   ],
   "source": [
    "later_model.predict(X_test).reshape(y_test.shape)"
   ]
  },
  {
   "cell_type": "code",
   "execution_count": 34,
   "id": "independent-product",
   "metadata": {},
   "outputs": [
    {
     "data": {
      "text/plain": [
       "array([0.26783845, 0.3217547 , 0.00570326, ..., 0.6660765 , 0.5195066 ,\n",
       "       0.4476939 ], dtype=float32)"
      ]
     },
     "execution_count": 34,
     "metadata": {},
     "output_type": "execute_result"
    }
   ],
   "source": [
    "y_predicted"
   ]
  },
  {
   "cell_type": "code",
   "execution_count": 35,
   "id": "compound-lawyer",
   "metadata": {},
   "outputs": [
    {
     "data": {
      "text/plain": [
       "(60000, 6)"
      ]
     },
     "execution_count": 35,
     "metadata": {},
     "output_type": "execute_result"
    }
   ],
   "source": [
    "X_test.shape"
   ]
  },
  {
   "cell_type": "code",
   "execution_count": 36,
   "id": "adaptive-tower",
   "metadata": {},
   "outputs": [
    {
     "data": {
      "text/plain": [
       "(6,)"
      ]
     },
     "execution_count": 36,
     "metadata": {},
     "output_type": "execute_result"
    }
   ],
   "source": [
    "X_test[0].shape"
   ]
  },
  {
   "cell_type": "code",
   "execution_count": 37,
   "id": "choice-bubble",
   "metadata": {},
   "outputs": [
    {
     "data": {
      "text/plain": [
       "array([[0.7821705 , 1.        , 2.52328767, 0.00792332, 0.67824267,\n",
       "        0.01849439]])"
      ]
     },
     "execution_count": 37,
     "metadata": {},
     "output_type": "execute_result"
    }
   ],
   "source": [
    "X_test[0:1]"
   ]
  },
  {
   "cell_type": "code",
   "execution_count": 38,
   "id": "accredited-container",
   "metadata": {},
   "outputs": [
    {
     "data": {
      "text/html": [
       "<div>\n",
       "<style scoped>\n",
       "    .dataframe tbody tr th:only-of-type {\n",
       "        vertical-align: middle;\n",
       "    }\n",
       "\n",
       "    .dataframe tbody tr th {\n",
       "        vertical-align: top;\n",
       "    }\n",
       "\n",
       "    .dataframe thead th {\n",
       "        text-align: right;\n",
       "    }\n",
       "</style>\n",
       "<table border=\"1\" class=\"dataframe\">\n",
       "  <thead>\n",
       "    <tr style=\"text-align: right;\">\n",
       "      <th></th>\n",
       "      <th>Stock Price</th>\n",
       "      <th>Strike Price</th>\n",
       "      <th>Maturity</th>\n",
       "      <th>Dividends</th>\n",
       "      <th>Volatility</th>\n",
       "      <th>Risk-free</th>\n",
       "      <th>Call Price</th>\n",
       "    </tr>\n",
       "  </thead>\n",
       "  <tbody>\n",
       "    <tr>\n",
       "      <th>0</th>\n",
       "      <td>1.062237</td>\n",
       "      <td>1.0</td>\n",
       "      <td>1.093151</td>\n",
       "      <td>0.005674</td>\n",
       "      <td>0.862692</td>\n",
       "      <td>0.058898</td>\n",
       "      <td>0.408642</td>\n",
       "    </tr>\n",
       "    <tr>\n",
       "      <th>1</th>\n",
       "      <td>1.076500</td>\n",
       "      <td>1.0</td>\n",
       "      <td>0.843836</td>\n",
       "      <td>0.020428</td>\n",
       "      <td>0.759562</td>\n",
       "      <td>0.080634</td>\n",
       "      <td>0.337843</td>\n",
       "    </tr>\n",
       "    <tr>\n",
       "      <th>2</th>\n",
       "      <td>0.849812</td>\n",
       "      <td>1.0</td>\n",
       "      <td>1.326027</td>\n",
       "      <td>0.019181</td>\n",
       "      <td>0.606436</td>\n",
       "      <td>0.042031</td>\n",
       "      <td>0.187719</td>\n",
       "    </tr>\n",
       "    <tr>\n",
       "      <th>3</th>\n",
       "      <td>0.904815</td>\n",
       "      <td>1.0</td>\n",
       "      <td>0.791781</td>\n",
       "      <td>0.028475</td>\n",
       "      <td>0.572696</td>\n",
       "      <td>0.036566</td>\n",
       "      <td>0.146312</td>\n",
       "    </tr>\n",
       "    <tr>\n",
       "      <th>4</th>\n",
       "      <td>0.859547</td>\n",
       "      <td>1.0</td>\n",
       "      <td>0.501370</td>\n",
       "      <td>0.009074</td>\n",
       "      <td>0.090578</td>\n",
       "      <td>0.044426</td>\n",
       "      <td>0.000397</td>\n",
       "    </tr>\n",
       "  </tbody>\n",
       "</table>\n",
       "</div>"
      ],
      "text/plain": [
       "   Stock Price  Strike Price  Maturity  Dividends  Volatility  Risk-free  \\\n",
       "0     1.062237           1.0  1.093151   0.005674    0.862692   0.058898   \n",
       "1     1.076500           1.0  0.843836   0.020428    0.759562   0.080634   \n",
       "2     0.849812           1.0  1.326027   0.019181    0.606436   0.042031   \n",
       "3     0.904815           1.0  0.791781   0.028475    0.572696   0.036566   \n",
       "4     0.859547           1.0  0.501370   0.009074    0.090578   0.044426   \n",
       "\n",
       "   Call Price  \n",
       "0    0.408642  \n",
       "1    0.337843  \n",
       "2    0.187719  \n",
       "3    0.146312  \n",
       "4    0.000397  "
      ]
     },
     "execution_count": 38,
     "metadata": {},
     "output_type": "execute_result"
    }
   ],
   "source": [
    "df.head()"
   ]
  },
  {
   "cell_type": "code",
   "execution_count": 39,
   "id": "complicated-processor",
   "metadata": {},
   "outputs": [
    {
     "data": {
      "text/plain": [
       "array([[0.40613532]], dtype=float32)"
      ]
     },
     "execution_count": 39,
     "metadata": {},
     "output_type": "execute_result"
    }
   ],
   "source": [
    "later_model.predict(np.array([1.062237, 1.0, 1.093151, 0.005674, 0.862692, 0.058898]).reshape((1,6)))"
   ]
  },
  {
   "cell_type": "code",
   "execution_count": 46,
   "id": "dying-young",
   "metadata": {},
   "outputs": [
    {
     "data": {
      "text/plain": [
       "array([[0.0799723]], dtype=float32)"
      ]
     },
     "execution_count": 46,
     "metadata": {},
     "output_type": "execute_result"
    }
   ],
   "source": [
    "later_model.predict(np.array([1.0, 1.0, 1, 0.0, 0.2, 0.0]).reshape((1,6)))"
   ]
  },
  {
   "cell_type": "code",
   "execution_count": 50,
   "id": "monthly-chance",
   "metadata": {},
   "outputs": [
    {
     "data": {
      "text/html": [
       "<div>\n",
       "<style scoped>\n",
       "    .dataframe tbody tr th:only-of-type {\n",
       "        vertical-align: middle;\n",
       "    }\n",
       "\n",
       "    .dataframe tbody tr th {\n",
       "        vertical-align: top;\n",
       "    }\n",
       "\n",
       "    .dataframe thead th {\n",
       "        text-align: right;\n",
       "    }\n",
       "</style>\n",
       "<table border=\"1\" class=\"dataframe\">\n",
       "  <thead>\n",
       "    <tr style=\"text-align: right;\">\n",
       "      <th></th>\n",
       "      <th>Stock Price</th>\n",
       "      <th>Strike Price</th>\n",
       "      <th>Maturity</th>\n",
       "      <th>Dividends</th>\n",
       "      <th>Volatility</th>\n",
       "      <th>Risk-free</th>\n",
       "      <th>Call Price</th>\n",
       "    </tr>\n",
       "  </thead>\n",
       "  <tbody>\n",
       "  </tbody>\n",
       "</table>\n",
       "</div>"
      ],
      "text/plain": [
       "Empty DataFrame\n",
       "Columns: [Stock Price, Strike Price, Maturity, Dividends, Volatility, Risk-free, Call Price]\n",
       "Index: []"
      ]
     },
     "execution_count": 50,
     "metadata": {},
     "output_type": "execute_result"
    }
   ],
   "source": [
    "df[(df['Stock Price'] > 0.49) & (df['Stock Price'] < 0.51)]"
   ]
  },
  {
   "cell_type": "code",
   "execution_count": 56,
   "id": "sitting-sector",
   "metadata": {},
   "outputs": [
    {
     "data": {
      "text/plain": [
       "count    300000.000000\n",
       "mean          1.031697\n",
       "std           0.185779\n",
       "min           0.769231\n",
       "25%           0.868780\n",
       "50%           0.999826\n",
       "75%           1.176731\n",
       "max           1.428564\n",
       "Name: Stock Price, dtype: float64"
      ]
     },
     "execution_count": 56,
     "metadata": {},
     "output_type": "execute_result"
    }
   ],
   "source": [
    "df['Stock Price'].describe()"
   ]
  },
  {
   "cell_type": "code",
   "execution_count": null,
   "id": "unable-jurisdiction",
   "metadata": {},
   "outputs": [],
   "source": []
  }
 ],
 "metadata": {
  "kernelspec": {
   "display_name": "Python 3",
   "language": "python",
   "name": "python3"
  },
  "language_info": {
   "codemirror_mode": {
    "name": "ipython",
    "version": 3
   },
   "file_extension": ".py",
   "mimetype": "text/x-python",
   "name": "python",
   "nbconvert_exporter": "python",
   "pygments_lexer": "ipython3",
   "version": "3.7.10"
  }
 },
 "nbformat": 4,
 "nbformat_minor": 5
}
