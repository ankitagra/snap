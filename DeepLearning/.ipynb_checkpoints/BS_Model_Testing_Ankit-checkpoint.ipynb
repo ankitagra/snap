{
 "cells": [
  {
   "cell_type": "code",
   "execution_count": 1,
   "id": "cooked-details",
   "metadata": {},
   "outputs": [],
   "source": [
    "import numpy as np\n",
    "import pandas as pd\n",
    "import matplotlib.pyplot as plt\n",
    "import seaborn as sns\n",
    "from pathlib import Path"
   ]
  },
  {
   "cell_type": "markdown",
   "id": "civic-ghana",
   "metadata": {},
   "source": [
    "### Load the data and explore it!"
   ]
  },
  {
   "cell_type": "code",
   "execution_count": 36,
   "id": "handled-lucas",
   "metadata": {},
   "outputs": [],
   "source": [
    "df = pd.read_csv(str(Path(r'./Data/BS_training.csv')))"
   ]
  },
  {
   "cell_type": "code",
   "execution_count": 37,
   "id": "industrial-inventory",
   "metadata": {},
   "outputs": [],
   "source": [
    "df = df.drop(labels='Unnamed: 0', axis=1)"
   ]
  },
  {
   "cell_type": "code",
   "execution_count": 38,
   "id": "republican-curve",
   "metadata": {},
   "outputs": [],
   "source": [
    "df['Stock Price'] = df['Stock Price'] / df['Strike Price']\n",
    "df['Call Price'] = df['Call Price'] / df['Strike Price']\n",
    "df['Strike Price'] = df['Strike Price'] / df['Strike Price']"
   ]
  },
  {
   "cell_type": "code",
   "execution_count": 42,
   "id": "elementary-retention",
   "metadata": {},
   "outputs": [
    {
     "data": {
      "text/html": [
       "<div>\n",
       "<style scoped>\n",
       "    .dataframe tbody tr th:only-of-type {\n",
       "        vertical-align: middle;\n",
       "    }\n",
       "\n",
       "    .dataframe tbody tr th {\n",
       "        vertical-align: top;\n",
       "    }\n",
       "\n",
       "    .dataframe thead th {\n",
       "        text-align: right;\n",
       "    }\n",
       "</style>\n",
       "<table border=\"1\" class=\"dataframe\">\n",
       "  <thead>\n",
       "    <tr style=\"text-align: right;\">\n",
       "      <th></th>\n",
       "      <th>Stock Price</th>\n",
       "      <th>Strike Price</th>\n",
       "      <th>Maturity</th>\n",
       "      <th>Dividends</th>\n",
       "      <th>Volatility</th>\n",
       "      <th>Risk-free</th>\n",
       "      <th>Call Price</th>\n",
       "    </tr>\n",
       "  </thead>\n",
       "  <tbody>\n",
       "    <tr>\n",
       "      <th>0</th>\n",
       "      <td>1.062237</td>\n",
       "      <td>1.0</td>\n",
       "      <td>1.093151</td>\n",
       "      <td>0.005674</td>\n",
       "      <td>0.862692</td>\n",
       "      <td>0.058898</td>\n",
       "      <td>0.408642</td>\n",
       "    </tr>\n",
       "    <tr>\n",
       "      <th>1</th>\n",
       "      <td>1.076500</td>\n",
       "      <td>1.0</td>\n",
       "      <td>0.843836</td>\n",
       "      <td>0.020428</td>\n",
       "      <td>0.759562</td>\n",
       "      <td>0.080634</td>\n",
       "      <td>0.337843</td>\n",
       "    </tr>\n",
       "    <tr>\n",
       "      <th>2</th>\n",
       "      <td>0.849812</td>\n",
       "      <td>1.0</td>\n",
       "      <td>1.326027</td>\n",
       "      <td>0.019181</td>\n",
       "      <td>0.606436</td>\n",
       "      <td>0.042031</td>\n",
       "      <td>0.187719</td>\n",
       "    </tr>\n",
       "    <tr>\n",
       "      <th>3</th>\n",
       "      <td>0.904815</td>\n",
       "      <td>1.0</td>\n",
       "      <td>0.791781</td>\n",
       "      <td>0.028475</td>\n",
       "      <td>0.572696</td>\n",
       "      <td>0.036566</td>\n",
       "      <td>0.146312</td>\n",
       "    </tr>\n",
       "    <tr>\n",
       "      <th>4</th>\n",
       "      <td>0.859547</td>\n",
       "      <td>1.0</td>\n",
       "      <td>0.501370</td>\n",
       "      <td>0.009074</td>\n",
       "      <td>0.090578</td>\n",
       "      <td>0.044426</td>\n",
       "      <td>0.000397</td>\n",
       "    </tr>\n",
       "  </tbody>\n",
       "</table>\n",
       "</div>"
      ],
      "text/plain": [
       "   Stock Price  Strike Price  Maturity  Dividends  Volatility  Risk-free  \\\n",
       "0     1.062237           1.0  1.093151   0.005674    0.862692   0.058898   \n",
       "1     1.076500           1.0  0.843836   0.020428    0.759562   0.080634   \n",
       "2     0.849812           1.0  1.326027   0.019181    0.606436   0.042031   \n",
       "3     0.904815           1.0  0.791781   0.028475    0.572696   0.036566   \n",
       "4     0.859547           1.0  0.501370   0.009074    0.090578   0.044426   \n",
       "\n",
       "   Call Price  \n",
       "0    0.408642  \n",
       "1    0.337843  \n",
       "2    0.187719  \n",
       "3    0.146312  \n",
       "4    0.000397  "
      ]
     },
     "execution_count": 42,
     "metadata": {},
     "output_type": "execute_result"
    }
   ],
   "source": [
    "df.head()"
   ]
  },
  {
   "cell_type": "code",
   "execution_count": 43,
   "id": "weird-spencer",
   "metadata": {},
   "outputs": [
    {
     "name": "stdout",
     "output_type": "stream",
     "text": [
      "<class 'pandas.core.frame.DataFrame'>\n",
      "RangeIndex: 300000 entries, 0 to 299999\n",
      "Data columns (total 7 columns):\n",
      " #   Column        Non-Null Count   Dtype  \n",
      "---  ------        --------------   -----  \n",
      " 0   Stock Price   300000 non-null  float64\n",
      " 1   Strike Price  300000 non-null  float64\n",
      " 2   Maturity      300000 non-null  float64\n",
      " 3   Dividends     300000 non-null  float64\n",
      " 4   Volatility    300000 non-null  float64\n",
      " 5   Risk-free     300000 non-null  float64\n",
      " 6   Call Price    300000 non-null  float64\n",
      "dtypes: float64(7)\n",
      "memory usage: 16.0 MB\n"
     ]
    }
   ],
   "source": [
    "df.info()"
   ]
  },
  {
   "cell_type": "code",
   "execution_count": 44,
   "id": "modular-yorkshire",
   "metadata": {},
   "outputs": [
    {
     "data": {
      "text/html": [
       "<div>\n",
       "<style scoped>\n",
       "    .dataframe tbody tr th:only-of-type {\n",
       "        vertical-align: middle;\n",
       "    }\n",
       "\n",
       "    .dataframe tbody tr th {\n",
       "        vertical-align: top;\n",
       "    }\n",
       "\n",
       "    .dataframe thead th {\n",
       "        text-align: right;\n",
       "    }\n",
       "</style>\n",
       "<table border=\"1\" class=\"dataframe\">\n",
       "  <thead>\n",
       "    <tr style=\"text-align: right;\">\n",
       "      <th></th>\n",
       "      <th>count</th>\n",
       "      <th>mean</th>\n",
       "      <th>std</th>\n",
       "      <th>min</th>\n",
       "      <th>25%</th>\n",
       "      <th>50%</th>\n",
       "      <th>75%</th>\n",
       "      <th>max</th>\n",
       "    </tr>\n",
       "  </thead>\n",
       "  <tbody>\n",
       "    <tr>\n",
       "      <th>Stock Price</th>\n",
       "      <td>300000.0</td>\n",
       "      <td>1.031697</td>\n",
       "      <td>0.185779</td>\n",
       "      <td>7.692309e-01</td>\n",
       "      <td>0.868780</td>\n",
       "      <td>0.999826</td>\n",
       "      <td>1.176731</td>\n",
       "      <td>1.428564</td>\n",
       "    </tr>\n",
       "    <tr>\n",
       "      <th>Strike Price</th>\n",
       "      <td>300000.0</td>\n",
       "      <td>1.000000</td>\n",
       "      <td>0.000000</td>\n",
       "      <td>1.000000e+00</td>\n",
       "      <td>1.000000</td>\n",
       "      <td>1.000000</td>\n",
       "      <td>1.000000</td>\n",
       "      <td>1.000000</td>\n",
       "    </tr>\n",
       "    <tr>\n",
       "      <th>Maturity</th>\n",
       "      <td>300000.0</td>\n",
       "      <td>1.498297</td>\n",
       "      <td>0.865052</td>\n",
       "      <td>2.739726e-03</td>\n",
       "      <td>0.747945</td>\n",
       "      <td>1.495890</td>\n",
       "      <td>2.246575</td>\n",
       "      <td>2.997260</td>\n",
       "    </tr>\n",
       "    <tr>\n",
       "      <th>Dividends</th>\n",
       "      <td>300000.0</td>\n",
       "      <td>0.014981</td>\n",
       "      <td>0.008652</td>\n",
       "      <td>6.189318e-08</td>\n",
       "      <td>0.007513</td>\n",
       "      <td>0.014967</td>\n",
       "      <td>0.022485</td>\n",
       "      <td>0.030000</td>\n",
       "    </tr>\n",
       "    <tr>\n",
       "      <th>Volatility</th>\n",
       "      <td>300000.0</td>\n",
       "      <td>0.475337</td>\n",
       "      <td>0.245782</td>\n",
       "      <td>5.000154e-02</td>\n",
       "      <td>0.262196</td>\n",
       "      <td>0.475770</td>\n",
       "      <td>0.688666</td>\n",
       "      <td>0.899994</td>\n",
       "    </tr>\n",
       "    <tr>\n",
       "      <th>Risk-free</th>\n",
       "      <td>300000.0</td>\n",
       "      <td>0.054975</td>\n",
       "      <td>0.025971</td>\n",
       "      <td>1.000020e-02</td>\n",
       "      <td>0.032487</td>\n",
       "      <td>0.055035</td>\n",
       "      <td>0.077461</td>\n",
       "      <td>0.099999</td>\n",
       "    </tr>\n",
       "    <tr>\n",
       "      <th>Call Price</th>\n",
       "      <td>300000.0</td>\n",
       "      <td>0.267430</td>\n",
       "      <td>0.178274</td>\n",
       "      <td>0.000000e+00</td>\n",
       "      <td>0.122820</td>\n",
       "      <td>0.250488</td>\n",
       "      <td>0.388795</td>\n",
       "      <td>0.933013</td>\n",
       "    </tr>\n",
       "  </tbody>\n",
       "</table>\n",
       "</div>"
      ],
      "text/plain": [
       "                 count      mean       std           min       25%       50%  \\\n",
       "Stock Price   300000.0  1.031697  0.185779  7.692309e-01  0.868780  0.999826   \n",
       "Strike Price  300000.0  1.000000  0.000000  1.000000e+00  1.000000  1.000000   \n",
       "Maturity      300000.0  1.498297  0.865052  2.739726e-03  0.747945  1.495890   \n",
       "Dividends     300000.0  0.014981  0.008652  6.189318e-08  0.007513  0.014967   \n",
       "Volatility    300000.0  0.475337  0.245782  5.000154e-02  0.262196  0.475770   \n",
       "Risk-free     300000.0  0.054975  0.025971  1.000020e-02  0.032487  0.055035   \n",
       "Call Price    300000.0  0.267430  0.178274  0.000000e+00  0.122820  0.250488   \n",
       "\n",
       "                   75%       max  \n",
       "Stock Price   1.176731  1.428564  \n",
       "Strike Price  1.000000  1.000000  \n",
       "Maturity      2.246575  2.997260  \n",
       "Dividends     0.022485  0.030000  \n",
       "Volatility    0.688666  0.899994  \n",
       "Risk-free     0.077461  0.099999  \n",
       "Call Price    0.388795  0.933013  "
      ]
     },
     "execution_count": 44,
     "metadata": {},
     "output_type": "execute_result"
    }
   ],
   "source": [
    "df.describe().transpose()"
   ]
  },
  {
   "cell_type": "markdown",
   "id": "mounted-merchandise",
   "metadata": {},
   "source": [
    "We dont do any kind of EDA here, since the data is simulated and regular. Nothing to explore here!"
   ]
  },
  {
   "cell_type": "markdown",
   "id": "unnecessary-swift",
   "metadata": {},
   "source": [
    "### Split the data into test-train"
   ]
  },
  {
   "cell_type": "code",
   "execution_count": 45,
   "id": "narrative-aquarium",
   "metadata": {},
   "outputs": [],
   "source": [
    "from sklearn.model_selection import train_test_split"
   ]
  },
  {
   "cell_type": "code",
   "execution_count": 46,
   "id": "peaceful-squad",
   "metadata": {},
   "outputs": [],
   "source": [
    "X = df.drop('Call Price', axis=1).values\n",
    "y = df['Call Price'].values"
   ]
  },
  {
   "cell_type": "code",
   "execution_count": 47,
   "id": "stunning-large",
   "metadata": {},
   "outputs": [
    {
     "data": {
      "text/plain": [
       "((300000, 6), (300000,))"
      ]
     },
     "execution_count": 47,
     "metadata": {},
     "output_type": "execute_result"
    }
   ],
   "source": [
    "X.shape, y.shape"
   ]
  },
  {
   "cell_type": "code",
   "execution_count": 48,
   "id": "under-packaging",
   "metadata": {},
   "outputs": [],
   "source": [
    "X_train, X_test, y_train, y_test = train_test_split(X, y, test_size=0.2, random_state=42)"
   ]
  },
  {
   "cell_type": "code",
   "execution_count": 49,
   "id": "greek-graphic",
   "metadata": {},
   "outputs": [],
   "source": [
    "from tensorflow.keras.models import Sequential\n",
    "from tensorflow.keras.layers import Dense"
   ]
  },
  {
   "cell_type": "code",
   "execution_count": 50,
   "id": "sized-shark",
   "metadata": {},
   "outputs": [],
   "source": [
    "model = Sequential()\n",
    "\n",
    "model.add(Dense(100, activation='relu', input_shape=(6,)))\n",
    "model.add(Dense(100, activation='relu'))\n",
    "model.add(Dense(100, activation='relu'))\n",
    "model.add(Dense(100, activation='relu'))\n",
    "\n",
    "model.add(Dense(1))\n",
    "\n",
    "model.compile(optimizer='adam', loss='mse')"
   ]
  },
  {
   "cell_type": "code",
   "execution_count": 51,
   "id": "excited-bearing",
   "metadata": {},
   "outputs": [
    {
     "name": "stdout",
     "output_type": "stream",
     "text": [
      "Model: \"sequential_1\"\n",
      "_________________________________________________________________\n",
      "Layer (type)                 Output Shape              Param #   \n",
      "=================================================================\n",
      "dense_5 (Dense)              (None, 100)               700       \n",
      "_________________________________________________________________\n",
      "dense_6 (Dense)              (None, 100)               10100     \n",
      "_________________________________________________________________\n",
      "dense_7 (Dense)              (None, 100)               10100     \n",
      "_________________________________________________________________\n",
      "dense_8 (Dense)              (None, 100)               10100     \n",
      "_________________________________________________________________\n",
      "dense_9 (Dense)              (None, 1)                 101       \n",
      "=================================================================\n",
      "Total params: 31,101\n",
      "Trainable params: 31,101\n",
      "Non-trainable params: 0\n",
      "_________________________________________________________________\n"
     ]
    }
   ],
   "source": [
    "model.summary()"
   ]
  },
  {
   "cell_type": "code",
   "execution_count": 52,
   "id": "featured-engine",
   "metadata": {},
   "outputs": [],
   "source": [
    "from tensorflow.keras.callbacks import EarlyStopping\n",
    "early_stop = EarlyStopping(monitor='val_loss', mode='min', patience=6)"
   ]
  },
  {
   "cell_type": "code",
   "execution_count": 53,
   "id": "functional-amateur",
   "metadata": {},
   "outputs": [
    {
     "name": "stdout",
     "output_type": "stream",
     "text": [
      "Train on 240000 samples, validate on 60000 samples\n",
      "Epoch 1/100\n",
      "240000/240000 [==============================] - 5s 22us/sample - loss: 2.3377e-04 - val_loss: 1.3847e-05\n",
      "Epoch 2/100\n",
      "240000/240000 [==============================] - 5s 20us/sample - loss: 2.6432e-05 - val_loss: 5.9001e-06\n",
      "Epoch 3/100\n",
      "240000/240000 [==============================] - 5s 21us/sample - loss: 1.5868e-05 - val_loss: 6.9896e-06\n",
      "Epoch 4/100\n",
      "240000/240000 [==============================] - 5s 21us/sample - loss: 1.2354e-05 - val_loss: 2.1666e-05\n",
      "Epoch 5/100\n",
      "240000/240000 [==============================] - 5s 21us/sample - loss: 1.0685e-05 - val_loss: 2.5537e-05\n",
      "Epoch 6/100\n",
      "240000/240000 [==============================] - 5s 21us/sample - loss: 7.5502e-06 - val_loss: 8.7409e-06\n",
      "Epoch 7/100\n",
      "240000/240000 [==============================] - 5s 21us/sample - loss: 7.4267e-06 - val_loss: 3.3040e-06\n",
      "Epoch 8/100\n",
      "240000/240000 [==============================] - 5s 21us/sample - loss: 6.1705e-06 - val_loss: 6.1396e-06\n",
      "Epoch 9/100\n",
      "240000/240000 [==============================] - 5s 21us/sample - loss: 6.1031e-06 - val_loss: 3.0471e-06\n",
      "Epoch 10/100\n",
      "240000/240000 [==============================] - 5s 21us/sample - loss: 5.0893e-06 - val_loss: 1.9937e-06\n",
      "Epoch 11/100\n",
      "240000/240000 [==============================] - 5s 21us/sample - loss: 4.6623e-06 - val_loss: 5.1506e-06\n",
      "Epoch 12/100\n",
      "240000/240000 [==============================] - 5s 21us/sample - loss: 4.3555e-06 - val_loss: 1.5194e-06\n",
      "Epoch 13/100\n",
      "240000/240000 [==============================] - 5s 21us/sample - loss: 4.4664e-06 - val_loss: 1.2674e-06\n",
      "Epoch 14/100\n",
      "240000/240000 [==============================] - 5s 21us/sample - loss: 3.9049e-06 - val_loss: 1.4100e-06\n",
      "Epoch 15/100\n",
      "240000/240000 [==============================] - 5s 21us/sample - loss: 3.9254e-06 - val_loss: 1.6839e-06\n",
      "Epoch 16/100\n",
      "240000/240000 [==============================] - 5s 21us/sample - loss: 3.6514e-06 - val_loss: 3.9219e-06\n",
      "Epoch 17/100\n",
      "240000/240000 [==============================] - 5s 21us/sample - loss: 3.6560e-06 - val_loss: 8.9572e-06\n",
      "Epoch 18/100\n",
      "240000/240000 [==============================] - 5s 21us/sample - loss: 3.8843e-06 - val_loss: 2.4064e-06\n",
      "Epoch 19/100\n",
      "240000/240000 [==============================] - 5s 21us/sample - loss: 3.2304e-06 - val_loss: 3.1430e-06\n"
     ]
    },
    {
     "data": {
      "text/plain": [
       "<tensorflow.python.keras.callbacks.History at 0x1af29c920c8>"
      ]
     },
     "execution_count": 53,
     "metadata": {},
     "output_type": "execute_result"
    }
   ],
   "source": [
    "model.fit(x=X_train, y=y_train, batch_size=64, epochs=100, \n",
    "          callbacks=[early_stop], validation_data=(X_test, y_test))"
   ]
  },
  {
   "cell_type": "markdown",
   "id": "foreign-international",
   "metadata": {},
   "source": [
    "### Evaluating the model"
   ]
  },
  {
   "cell_type": "code",
   "execution_count": 54,
   "id": "under-combine",
   "metadata": {},
   "outputs": [],
   "source": [
    "y_pred_train = model.predict(x=X_train)"
   ]
  },
  {
   "cell_type": "code",
   "execution_count": 55,
   "id": "vulnerable-restoration",
   "metadata": {},
   "outputs": [],
   "source": [
    "y_train_results = pd.concat([pd.Series(y_pred_train.reshape(y_train.shape), name='y_pred'), \n",
    "                             pd.Series(y_train, name='y_true')], \n",
    "                            axis=1)"
   ]
  },
  {
   "cell_type": "code",
   "execution_count": 56,
   "id": "younger-filing",
   "metadata": {},
   "outputs": [
    {
     "data": {
      "text/html": [
       "<div>\n",
       "<style scoped>\n",
       "    .dataframe tbody tr th:only-of-type {\n",
       "        vertical-align: middle;\n",
       "    }\n",
       "\n",
       "    .dataframe tbody tr th {\n",
       "        vertical-align: top;\n",
       "    }\n",
       "\n",
       "    .dataframe thead th {\n",
       "        text-align: right;\n",
       "    }\n",
       "</style>\n",
       "<table border=\"1\" class=\"dataframe\">\n",
       "  <thead>\n",
       "    <tr style=\"text-align: right;\">\n",
       "      <th></th>\n",
       "      <th>y_pred</th>\n",
       "      <th>y_true</th>\n",
       "    </tr>\n",
       "  </thead>\n",
       "  <tbody>\n",
       "    <tr>\n",
       "      <th>0</th>\n",
       "      <td>0.113939</td>\n",
       "      <td>0.112572</td>\n",
       "    </tr>\n",
       "    <tr>\n",
       "      <th>1</th>\n",
       "      <td>0.377253</td>\n",
       "      <td>0.375284</td>\n",
       "    </tr>\n",
       "    <tr>\n",
       "      <th>2</th>\n",
       "      <td>0.367166</td>\n",
       "      <td>0.363009</td>\n",
       "    </tr>\n",
       "    <tr>\n",
       "      <th>3</th>\n",
       "      <td>0.242559</td>\n",
       "      <td>0.240939</td>\n",
       "    </tr>\n",
       "    <tr>\n",
       "      <th>4</th>\n",
       "      <td>0.279228</td>\n",
       "      <td>0.278493</td>\n",
       "    </tr>\n",
       "  </tbody>\n",
       "</table>\n",
       "</div>"
      ],
      "text/plain": [
       "     y_pred    y_true\n",
       "0  0.113939  0.112572\n",
       "1  0.377253  0.375284\n",
       "2  0.367166  0.363009\n",
       "3  0.242559  0.240939\n",
       "4  0.279228  0.278493"
      ]
     },
     "execution_count": 56,
     "metadata": {},
     "output_type": "execute_result"
    }
   ],
   "source": [
    "y_train_results.head()"
   ]
  },
  {
   "cell_type": "code",
   "execution_count": 57,
   "id": "olive-completion",
   "metadata": {},
   "outputs": [],
   "source": [
    "from sklearn.metrics import mean_absolute_error, mean_squared_error, explained_variance_score"
   ]
  },
  {
   "cell_type": "code",
   "execution_count": 58,
   "id": "fantastic-beauty",
   "metadata": {},
   "outputs": [],
   "source": [
    "y_predicted = model.predict(X_test).reshape(y_test.shape)"
   ]
  },
  {
   "cell_type": "code",
   "execution_count": 59,
   "id": "liquid-source",
   "metadata": {},
   "outputs": [
    {
     "data": {
      "text/plain": [
       "0.0014987696460798969"
      ]
     },
     "execution_count": 59,
     "metadata": {},
     "output_type": "execute_result"
    }
   ],
   "source": [
    "mean_absolute_error(y_true=y_test, y_pred=y_predicted)"
   ]
  },
  {
   "cell_type": "code",
   "execution_count": 62,
   "id": "bizarre-transformation",
   "metadata": {},
   "outputs": [
    {
     "data": {
      "text/plain": [
       "3.142992561284651e-06"
      ]
     },
     "execution_count": 62,
     "metadata": {},
     "output_type": "execute_result"
    }
   ],
   "source": [
    "mean_squared_error(y_true=y_test, y_pred=y_predicted)"
   ]
  },
  {
   "cell_type": "code",
   "execution_count": 60,
   "id": "surface-paintball",
   "metadata": {},
   "outputs": [],
   "source": [
    "y_df = pd.concat([pd.Series(y_test, name='y_true'), pd.Series(y_predicted, name='y_pred')], axis=1)"
   ]
  },
  {
   "cell_type": "code",
   "execution_count": 61,
   "id": "fabulous-laser",
   "metadata": {},
   "outputs": [
    {
     "data": {
      "text/html": [
       "<div>\n",
       "<style scoped>\n",
       "    .dataframe tbody tr th:only-of-type {\n",
       "        vertical-align: middle;\n",
       "    }\n",
       "\n",
       "    .dataframe tbody tr th {\n",
       "        vertical-align: top;\n",
       "    }\n",
       "\n",
       "    .dataframe thead th {\n",
       "        text-align: right;\n",
       "    }\n",
       "</style>\n",
       "<table border=\"1\" class=\"dataframe\">\n",
       "  <thead>\n",
       "    <tr style=\"text-align: right;\">\n",
       "      <th></th>\n",
       "      <th>y_true</th>\n",
       "      <th>y_pred</th>\n",
       "    </tr>\n",
       "  </thead>\n",
       "  <tbody>\n",
       "    <tr>\n",
       "      <th>0</th>\n",
       "      <td>0.265433</td>\n",
       "      <td>0.266573</td>\n",
       "    </tr>\n",
       "    <tr>\n",
       "      <th>1</th>\n",
       "      <td>0.320916</td>\n",
       "      <td>0.322103</td>\n",
       "    </tr>\n",
       "    <tr>\n",
       "      <th>2</th>\n",
       "      <td>0.003949</td>\n",
       "      <td>0.004332</td>\n",
       "    </tr>\n",
       "    <tr>\n",
       "      <th>3</th>\n",
       "      <td>0.263540</td>\n",
       "      <td>0.265208</td>\n",
       "    </tr>\n",
       "    <tr>\n",
       "      <th>4</th>\n",
       "      <td>0.365956</td>\n",
       "      <td>0.366872</td>\n",
       "    </tr>\n",
       "    <tr>\n",
       "      <th>...</th>\n",
       "      <td>...</td>\n",
       "      <td>...</td>\n",
       "    </tr>\n",
       "    <tr>\n",
       "      <th>59995</th>\n",
       "      <td>0.326805</td>\n",
       "      <td>0.328390</td>\n",
       "    </tr>\n",
       "    <tr>\n",
       "      <th>59996</th>\n",
       "      <td>0.204984</td>\n",
       "      <td>0.205135</td>\n",
       "    </tr>\n",
       "    <tr>\n",
       "      <th>59997</th>\n",
       "      <td>0.662804</td>\n",
       "      <td>0.666662</td>\n",
       "    </tr>\n",
       "    <tr>\n",
       "      <th>59998</th>\n",
       "      <td>0.517743</td>\n",
       "      <td>0.518756</td>\n",
       "    </tr>\n",
       "    <tr>\n",
       "      <th>59999</th>\n",
       "      <td>0.446243</td>\n",
       "      <td>0.448715</td>\n",
       "    </tr>\n",
       "  </tbody>\n",
       "</table>\n",
       "<p>60000 rows × 2 columns</p>\n",
       "</div>"
      ],
      "text/plain": [
       "         y_true    y_pred\n",
       "0      0.265433  0.266573\n",
       "1      0.320916  0.322103\n",
       "2      0.003949  0.004332\n",
       "3      0.263540  0.265208\n",
       "4      0.365956  0.366872\n",
       "...         ...       ...\n",
       "59995  0.326805  0.328390\n",
       "59996  0.204984  0.205135\n",
       "59997  0.662804  0.666662\n",
       "59998  0.517743  0.518756\n",
       "59999  0.446243  0.448715\n",
       "\n",
       "[60000 rows x 2 columns]"
      ]
     },
     "execution_count": 61,
     "metadata": {},
     "output_type": "execute_result"
    }
   ],
   "source": [
    "y_df"
   ]
  },
  {
   "cell_type": "code",
   "execution_count": 64,
   "id": "apparent-fourth",
   "metadata": {},
   "outputs": [
    {
     "data": {
      "text/plain": [
       "<matplotlib.axes._subplots.AxesSubplot at 0x1af29e56788>"
      ]
     },
     "execution_count": 64,
     "metadata": {},
     "output_type": "execute_result"
    },
    {
     "data": {
      "image/png": "[encoded data removed]",
      "text/plain": [
       "<Figure size 432x288 with 1 Axes>"
      ]
     },
     "metadata": {
      "needs_background": "light"
     },
     "output_type": "display_data"
    }
   ],
   "source": [
    "sns.scatterplot(y_test, y_predicted)"
   ]
  },
  {
   "cell_type": "code",
   "execution_count": 65,
   "id": "international-oriental",
   "metadata": {},
   "outputs": [
    {
     "data": {
      "text/plain": [
       "<matplotlib.axes._subplots.AxesSubplot at 0x1af1ff6fa48>"
      ]
     },
     "execution_count": 65,
     "metadata": {},
     "output_type": "execute_result"
    },
    {
     "data": {
      "image/png": "[encoded data removed]",
      "text/plain": [
       "<Figure size 432x288 with 1 Axes>"
      ]
     },
     "metadata": {
      "needs_background": "light"
     },
     "output_type": "display_data"
    }
   ],
   "source": [
    "sns.distplot(y_test-y_predicted)"
   ]
  },
  {
   "cell_type": "code",
   "execution_count": null,
   "id": "final-passenger",
   "metadata": {},
   "outputs": [],
   "source": []
  }
 ],
 "metadata": {
  "kernelspec": {
   "display_name": "Python 3",
   "language": "python",
   "name": "python3"
  },
  "language_info": {
   "codemirror_mode": {
    "name": "ipython",
    "version": 3
   },
   "file_extension": ".py",
   "mimetype": "text/x-python",
   "name": "python",
   "nbconvert_exporter": "python",
   "pygments_lexer": "ipython3",
   "version": "3.7.10"
  }
 },
 "nbformat": 4,
 "nbformat_minor": 5
}
